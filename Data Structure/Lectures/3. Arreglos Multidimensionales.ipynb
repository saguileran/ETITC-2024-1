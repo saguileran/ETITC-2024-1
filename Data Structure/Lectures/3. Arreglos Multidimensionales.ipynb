{
  "cells": [
    {
      "cell_type": "markdown",
      "metadata": {
        "colab_type": "text",
        "id": "view-in-github"
      },
      "source": [
        "<a href=\"https://colab.research.google.com/github/saguileran/ETITC-2024-2/blob/main/DataStrucutre/Arreglos_multidimensionales_en_Java.ipynb\" target=\"_parent\"><img src=\"https://colab.research.google.com/assets/colab-badge.svg\" alt=\"Open In Colab\"/></a>"
      ]
    },
    {
      "cell_type": "markdown",
      "metadata": {
        "id": "RW2r7GwiY84R"
      },
      "source": [
        "# Introducción a arreglos de varias dimensiones (multiarrays)\n"
      ]
    },
    {
      "cell_type": "markdown",
      "metadata": {
        "id": "3k1v5Ic-DlJK"
      },
      "source": [
        "## Configurando Notebook\n",
        "\n",
        "Este notebook contiene los códigos básicos sobre arreglos y cadenas. Las clases y líneas de código salen del libro [Y. Daniel Liang - Introduction to Java Programming and Data Structures, Comprehensive Version-Addison Wesley (2019)](https://itceduco-my.sharepoint.com/:b:/g/personal/saguileran_itc_edu_co/EaMiXGCQgoVAlOGW07oaaKIBPyv4wk3-iXytjKWVKQ1H0g?e=v5oBqt).\n"
      ]
    },
    {
      "cell_type": "markdown",
      "metadata": {
        "id": "RWCost3Aalgr"
      },
      "source": [
        "# Arreglos Multidimensional"
      ]
    },
    {
      "cell_type": "code",
      "execution_count": 3,
      "metadata": {
        "id": "vAn_wOBYahD8"
      },
      "outputs": [
        {
          "name": "stdout",
          "output_type": "stream",
          "text": [
            "Sebas\n"
          ]
        }
      ],
      "source": [
        "public class Student {\n",
        "    private static String name = \"Sebas\";  //private data member\n",
        "    public String getName(){    //getter method for name\n",
        "        return name;\n",
        "    }\n",
        "    //setter method for name\n",
        "    public void setName(String name){this.name=name;}\n",
        "\n",
        "    public static void main(String[] args) {\n",
        "\t\t// TODO Auto-generated method stub\n",
        "\t\tSystem.out.println(name);\n",
        "\t}\n",
        "}\n",
        "\n",
        "Student Sebas = new Student();\n",
        "Sebas.main(new String[] {})"
      ]
    },
    {
      "cell_type": "code",
      "execution_count": 4,
      "metadata": {
        "colab": {
          "base_uri": "https://localhost:8080/"
        },
        "id": "-U-Jim54W7yA",
        "outputId": "dddd347b-78ac-4287-b883-613a69d35288"
      },
      "outputs": [
        {
          "name": "stdout",
          "output_type": "stream",
          "text": [
            "3\n"
          ]
        }
      ],
      "source": [
        "int[] x = {1,2,3,4,5,6,7};\n",
        "System.out.println(x[2]);"
      ]
    },
    {
      "cell_type": "code",
      "execution_count": 5,
      "metadata": {
        "colab": {
          "base_uri": "https://localhost:8080/"
        },
        "id": "RDvJlIixgNBD",
        "outputId": "4c14fc67-a4ae-495d-d8e4-3daa1954c381"
      },
      "outputs": [
        {
          "name": "stdout",
          "output_type": "stream",
          "text": [
            "983.0\n",
            "3.0\n",
            "0.0  3.0  787.0  714.0  1375.0  967.0  1087.0  \n",
            "983.0  0.0  214.0  1102.0  1763.0  1723.0  1842.0  \n",
            "787.0  214.0  0.0  888.0  1549.0  1548.0  1627.0  \n",
            "714.0  1102.0  888.0  0.0  661.0  781.0  810.0  \n",
            "1375.0  1763.0  1549.0  661.0  0.0  1426.0  1187.0  \n",
            "967.0  1723.0  1548.0  781.0  1426.0  0.0  239.0  \n",
            "1087.0  1842.0  1627.0  810.0  1187.0  239.0  0.0  \n"
          ]
        }
      ],
      "source": [
        "double[][] matrix = {\n",
        "{0, 983, 787, 714, 1375, 967, 1087},\n",
        "{983, 0, 214, 1102, 1763, 1723, 1842},\n",
        "{787, 214, 0, 888, 1549, 1548, 1627},\n",
        "{714, 1102, 888, 0, 661, 781, 810},\n",
        "{1375, 1763, 1549, 661, 0, 1426, 1187},\n",
        "{967, 1723, 1548, 781, 1426, 0, 239},\n",
        "{1087, 1842, 1627, 810, 1187, 239, 0},\n",
        "};\n",
        "// 1 -> 781, 2->1548\n",
        "\n",
        "System.out.println(matrix[0][1]);\n",
        "matrix[0][1] = 3;\n",
        "System.out.println(matrix[0][1]);\n",
        "for (int row = 0; row < matrix.length; row++) {\n",
        "  for (int column = 0; column < matrix[row].length; column++) {\n",
        "   System.out.print(matrix[row][column] + \"  \");\n",
        "  }\n",
        "  System.out.println();\n",
        "}\n",
        "// pag 316"
      ]
    },
    {
      "cell_type": "code",
      "execution_count": 6,
      "metadata": {
        "colab": {
          "base_uri": "https://localhost:8080/"
        },
        "id": "pj1actswhWkU",
        "outputId": "f6fc0d64-9640-4d01-ec6f-42bafd01db07"
      },
      "outputs": [
        {
          "name": "stdout",
          "output_type": "stream",
          "text": [
            "2 1 \n",
            "2 0 \n",
            "1 1 \n",
            "1 0 \n",
            "0 1 \n",
            "0 0 \n"
          ]
        }
      ],
      "source": [
        "int[][] array = {\n",
        "  {1, 2},\n",
        "  {3, 4},\n",
        "  {5, 6}\n",
        "};\n",
        "for (int i = array.length - 1; i >= 0; i--) {\n",
        "  for (int j = array[i].length - 1; j >= 0; j--){\n",
        "    System.out.print(i+\" \"+j + \" \");\n",
        "    System.out.println();\n",
        "  }\n",
        "}\n",
        "// 8.3.1"
      ]
    },
    {
      "cell_type": "code",
      "execution_count": 11,
      "metadata": {
        "colab": {
          "background_save": true,
          "base_uri": "https://localhost:8080/"
        },
        "id": "1jx9Mu_Cjy9M",
        "outputId": "4b1346c4-35cb-4a98-a842-f1d81578dea7"
      },
      "outputs": [],
      "source": [
        "String data = \"1 3 5 7 9 11 295 297 299 300 298 296 12 10 8 6 4 2\";\n",
        "String[] data_rray = data.split(\" \");"
      ]
    },
    {
      "cell_type": "code",
      "execution_count": 12,
      "metadata": {
        "colab": {
          "base_uri": "https://localhost:8080/"
        },
        "id": "ujwRYzyWYgts",
        "outputId": "3c32002e-5993-4a49-8d7e-4b86c67b4d18"
      },
      "outputs": [
        {
          "name": "stdout",
          "output_type": "stream",
          "text": [
            "Se bas \n",
            "Agui lera \n",
            "Nov oa \n"
          ]
        }
      ],
      "source": [
        "// matrix 3x2 que contenga strings matris 3,2 (2,1)\n",
        "//matris = new String[3][2];\n",
        "String[][] matris = {\n",
        "  {\"Se\", \"bas\"},\n",
        "  {\"Agui\", \"lera\"},\n",
        "  {\"Nov\", \"oa\"}\n",
        "};\n",
        "//matris[0][0]=\"1\";\n",
        "matris[0][1];\n",
        "\n",
        "for (int row = 0; row < matris.length; row++) {\n",
        "  for (int column = 0; column < matris[row].length; column++) {\n",
        "    System.out.print(matris[row][column] + \" \");\n",
        "  }\n",
        "  System.out.println();\n",
        "}"
      ]
    },
    {
      "cell_type": "code",
      "execution_count": 13,
      "metadata": {
        "id": "FOfGP5jZcJaU"
      },
      "outputs": [],
      "source": [
        "int[][] r = new int[2][]; // no sirve porque aja\n",
        "int[] x = new int[5];\n",
        "int[][] y = new int[3][];\n",
        "int[][] z = {{1, 2}};\n",
        "int[][] m = {{1, 2}, {2, 3}};\n",
        "int[][] n = {{1, 2}, {2, 3}, }"
      ]
    },
    {
      "cell_type": "code",
      "execution_count": 14,
      "metadata": {
        "colab": {
          "base_uri": "https://localhost:8080/"
        },
        "id": "ipC9tqcseOp2",
        "outputId": "31455749-4869-4127-8336-ff9947a3b2a2"
      },
      "outputs": [],
      "source": [
        "import java.util.Scanner;\n",
        "java.util.Scanner input = new java.util.Scanner(System.in);\n",
        "String inputs = input.nextLine();\n",
        "\n",
        "//System.out.println(\"Enter \" + matrix.length + \" rows and \" + matrix[0].length + \" columns: \");"
      ]
    },
    {
      "cell_type": "code",
      "execution_count": 15,
      "metadata": {
        "colab": {
          "base_uri": "https://localhost:8080/"
        },
        "id": "MNUljOfieoP0",
        "outputId": "6b7c31ee-9287-4714-de94-5542cbe541f5"
      },
      "outputs": [
        {
          "data": {
            "text/plain": []
          },
          "execution_count": 15,
          "metadata": {},
          "output_type": "execute_result"
        }
      ],
      "source": [
        "inputs"
      ]
    },
    {
      "cell_type": "code",
      "execution_count": 16,
      "metadata": {
        "colab": {
          "base_uri": "https://localhost:8080/"
        },
        "id": "odY7WFDLg3F1",
        "outputId": "67ed406e-630a-4528-cb9d-aa294531ae83"
      },
      "outputs": [
        {
          "name": "stdout",
          "output_type": "stream",
          "text": [
            "2\n",
            "4\n"
          ]
        }
      ],
      "source": [
        "public class Test {\n",
        "  public static void main(String[] args) {\n",
        "    int[][] array = {{1, 2, 3, 4}, {5, 6, 7, 8}};\n",
        "    System.out.println(m1(array)[0]);\n",
        "    System.out.println(m1(array)[1]);\n",
        "  }\n",
        "  public static int[] m1(int[][] m) {\n",
        "    int[] result = new int[2];\n",
        "    result[0] = m.length;\n",
        "    result[1] = m[0].length;\n",
        "    return result;\n",
        "  }\n",
        "}\n",
        "Test test1 = new Test();\n",
        "test1.main(new String[] {});"
      ]
    },
    {
      "cell_type": "markdown",
      "metadata": {
        "id": "IW7taeSozXB5"
      },
      "source": [
        "# Trabajo para casa\n",
        "\n",
        "Revise y agregue tanto texto explicativo como código para los siguiente temas. Pueden revisar cualquier referencias de internet o los libros guias dejados al final del notebook que podrán encontrar en la carpeta de referencias del curso."
      ]
    },
    {
      "cell_type": "markdown",
      "metadata": {
        "id": "xPTJ9jRuihgF"
      },
      "source": [
        "## Clases abstractas\n",
        "\n",
        "Libro guia capítulo 13, página 499."
      ]
    },
    {
      "cell_type": "code",
      "execution_count": null,
      "metadata": {
        "id": "Q34v7Ep9mkJT"
      },
      "outputs": [],
      "source": []
    },
    {
      "cell_type": "markdown",
      "metadata": {
        "id": "EAXaBElZmjOC"
      },
      "source": [
        "## Intrefaces\n",
        "\n",
        "Libro guia capítulo 13, página 510\n"
      ]
    },
    {
      "cell_type": "code",
      "execution_count": null,
      "metadata": {
        "id": "w59wIOrRij9D"
      },
      "outputs": [],
      "source": []
    },
    {
      "cell_type": "markdown",
      "metadata": {
        "id": "8SFaGUuEikE0"
      },
      "source": [
        "## Genéricos\n",
        "\n",
        "Libro guia capítulo 19, página 751"
      ]
    },
    {
      "cell_type": "code",
      "execution_count": null,
      "metadata": {
        "id": "ynKVwLnpikPr"
      },
      "outputs": [],
      "source": []
    },
    {
      "cell_type": "markdown",
      "metadata": {
        "id": "pwPv0tCaikWD"
      },
      "source": [
        "## Iteradores\n",
        "\n",
        "Libro guia capítulo 20.3, página 780"
      ]
    },
    {
      "cell_type": "code",
      "execution_count": null,
      "metadata": {
        "id": "Ufas7zPsikax"
      },
      "outputs": [],
      "source": []
    },
    {
      "cell_type": "markdown",
      "metadata": {
        "id": "933edAc_ikfy"
      },
      "source": [
        "# Referencias\n",
        "\n",
        "- Y. Daniel Liang. \"*Introduction to Java Programming and Data Structures, Comprehensive Version*\". Addison Wesley. Edición 12 (2019).\n",
        "- Koffman, Elliot B.; Wolfgang, Paul A. T.\"*Data structures : abstraction and design using Java*\". Wiley. Tercera edición (2016).\n",
        "- James T. Streib,Takako Soma. \"*Guide to Data Structures: A Concise Introduction Using Java*\". Springer International Publishing. Primera edición (2017)."
      ]
    }
  ],
  "metadata": {
    "colab": {
      "include_colab_link": true,
      "provenance": [],
      "toc_visible": true
    },
    "kernelspec": {
      "display_name": "Java",
      "language": "java",
      "name": "java"
    },
    "language_info": {
      "codemirror_mode": "java",
      "file_extension": ".jshell",
      "mimetype": "text/x-java-source",
      "name": "java",
      "pygments_lexer": "java",
      "version": "11.0.22+7-post-Ubuntu-0ubuntu222.04.1"
    }
  },
  "nbformat": 4,
  "nbformat_minor": 0
}
