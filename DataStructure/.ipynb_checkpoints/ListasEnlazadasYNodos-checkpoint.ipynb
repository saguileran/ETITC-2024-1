{
  "nbformat": 4,
  "nbformat_minor": 0,
  "metadata": {
    "colab": {
      "provenance": [],
      "collapsed_sections": [
        "3k1v5Ic-DlJK"
      ],
      "include_colab_link": true
    },
    "kernelspec": {
      "name": "java",
      "display_name": "java"
    },
    "language_info": {
      "name": "java"
    }
  },
  "cells": [
    {
      "cell_type": "markdown",
      "metadata": {
        "id": "view-in-github",
        "colab_type": "text"
      },
      "source": [
        "<a href=\"https://colab.research.google.com/github/saguileran/ETITC-2024-2/blob/main/DataStrucutre/ListasEnlazadasYNodos.ipynb\" target=\"_parent\"><img src=\"https://colab.research.google.com/assets/colab-badge.svg\" alt=\"Open In Colab\"/></a>"
      ]
    },
    {
      "cell_type": "markdown",
      "source": [
        "# Referencias, listas enlazadas, y nodos\n",
        "\n",
        "\n",
        "\n"
      ],
      "metadata": {
        "id": "RW2r7GwiY84R"
      }
    },
    {
      "cell_type": "markdown",
      "source": [
        "Recuerden que el libro que utilizamos tiene los códigos en github, [Intro-to-Java-Programming](https://github.com/jsquared21/Intro-to-Java-Programming/tree/master). Clonenlo y vamos a utilizarlo de aca en adelante."
      ],
      "metadata": {
        "id": "y3DGOtXqvw0o"
      }
    },
    {
      "cell_type": "markdown",
      "source": [
        "## Importando Java\n",
        "\n",
        "La siguiente casilla tiene el código necesario para poder ejecutar cóndigos de java en Google Colab"
      ],
      "metadata": {
        "id": "3k1v5Ic-DlJK"
      }
    },
    {
      "cell_type": "code",
      "execution_count": 1,
      "metadata": {
        "id": "ycRGxVCzUD0N",
        "colab": {
          "base_uri": "https://localhost:8080/"
        },
        "outputId": "d29c7dd7-e024-4952-8edb-b8b318d26aeb"
      },
      "outputs": [
        {
          "output_type": "stream",
          "name": "stdout",
          "text": [
            "Installed java kernel into \"/usr/local/share/jupyter/kernels/java\"\n",
            "e2732061ad19c1afa4a33a58cb8f18a9-b6cff2bf09b6832344e576ea1e4731f0fb3df10c/install_ipc_proxy_kernel.py\n",
            "e2732061ad19c1afa4a33a58cb8f18a9-b6cff2bf09b6832344e576ea1e4731f0fb3df10c/ipc_proxy_kernel.py\n",
            "Moving java kernel from /usr/local/share/jupyter/kernels/java...\n",
            "Wrote modified kernel.json for java_tcp in /usr/local/share/jupyter/kernels/java_tcp/kernel.json\n",
            "Installing the proxy kernel in place of java in /usr/local/share/jupyter/kernels/java\n",
            "Installed proxy kernelspec: {\"argv\": [\"/usr/bin/python3\", \"/usr/local/share/jupyter/kernels/java/ipc_proxy_kernel.py\", \"{connection_file}\", \"--kernel=java_tcp\"], \"env\": {}, \"display_name\": \"Java\", \"language\": \"java\", \"interrupt_mode\": \"message\", \"metadata\": {}}\n",
            "Proxy kernel installed. Go to 'Runtime > Change runtime type' and select 'java'\n"
          ]
        },
        {
          "output_type": "stream",
          "name": "stderr",
          "text": [
            "/content/install.py:164: DeprecationWarning: replace is ignored. Installing a kernelspec always replaces an existing installation\n",
            "  install_dest = KernelSpecManager().install_kernel_spec(\n"
          ]
        }
      ],
      "source": [
        "%%sh\n",
        "# Install java kernel\n",
        "wget -q https://github.com/SpencerPark/IJava/releases/download/v1.3.0/ijava-1.3.0.zip\n",
        "unzip -q ijava-1.3.0.zip\n",
        "python install.py\n",
        "\n",
        "# Install proxy for the java kernel\n",
        "wget -qO- https://gist.github.com/SpencerPark/e2732061ad19c1afa4a33a58cb8f18a9/archive/b6cff2bf09b6832344e576ea1e4731f0fb3df10c.tar.gz | tar xvz --strip-components=1\n",
        "python install_ipc_proxy_kernel.py --kernel=java --implementation=ipc_proxy_kernel.py"
      ]
    },
    {
      "cell_type": "markdown",
      "source": [
        "## Referencias"
      ],
      "metadata": {
        "id": "lMw6WTPfheu7"
      }
    },
    {
      "cell_type": "markdown",
      "source": [
        " En la terminología de la programación orientada a objetos, los miembros de un objeto son sus campos de datos y métodos. Una vez creado un objeto se puede acceder a sus datos e invocar sus métodos mediante el *operador de punto* (.), también conocido como *operador de acceso a los miembros de un objeto*:\n",
        "\n",
        "```java\n",
        "- objectRefVar.dataField          // references a data field in the object.\n",
        "- objectRefVar.method(arguments)  // invokes a method on the object.\n",
        "```"
      ],
      "metadata": {
        "id": "GjR-07A8g46O"
      }
    },
    {
      "cell_type": "code",
      "source": [
        "System.out.println(Math.pow(3, 2.5));"
      ],
      "metadata": {
        "colab": {
          "base_uri": "https://localhost:8080/"
        },
        "id": "WtULJScbhhrz",
        "outputId": "515d63ae-5e88-4eaa-ee14-2e095fd2b1a5"
      },
      "execution_count": 3,
      "outputs": [
        {
          "output_type": "stream",
          "name": "stdout",
          "text": [
            "15.588457268119896\n"
          ]
        }
      ]
    },
    {
      "cell_type": "code",
      "source": [
        "class Student {\n",
        "  String name; // name has the default value null\n",
        "  int age; // age has the default value 0\n",
        "  boolean isScienceMajor; // isScienceMajor has default value false\n",
        "  char gender; // gender has default value '\\u0000'\n",
        "}\n",
        "\n",
        "//Student Sebas = new Student();\n",
        "//System.out.println(Sebas.name);\n",
        "\n",
        "class TestStudent {\n",
        "  public static void main() {\n",
        "    Student student = new Student();\n",
        "    System.out.println(\"name? \" + student.name);\n",
        "    System.out.println(\"age? \" + student.age);\n",
        "    System.out.println(\"isScienceMajor? \" + student.isScienceMajor);\n",
        "    System.out.println(\"gender? \" + student.gender);\n",
        "  }\n",
        "}\n",
        "TestStudent testSebas = new TestStudent();\n",
        "testSebas.main();"
      ],
      "metadata": {
        "colab": {
          "base_uri": "https://localhost:8080/"
        },
        "id": "AZQn2twxh6gI",
        "outputId": "77a7e4f2-92bf-49de-9fbf-4f1cac1b500c"
      },
      "execution_count": null,
      "outputs": [
        {
          "output_type": "stream",
          "name": "stdout",
          "text": [
            "name? null\n",
            "age? 0\n",
            "isScienceMajor? false\n",
            "gender? \u0000\n"
          ]
        }
      ]
    },
    {
      "cell_type": "markdown",
      "source": [
        "**Actividad**\n",
        "\n",
        "Agrega cinco líneas más a la anterior casilla: 3 utilziando métodos y 2 sobre campos. Busca y revisa los métodos y atributos que tiene la libreria math de java o puedes seleccionar alguno de los siguientes paquetes y explorarlo:\n",
        "\n",
        "- La clase Random (9.6.2)\n",
        "- La clase Date (9.6.3)\n",
        "- La clase Math"
      ],
      "metadata": {
        "id": "7qqP-uvNiGuN"
      }
    },
    {
      "cell_type": "markdown",
      "source": [
        "## Listas Simples (arrays)\n",
        "\n",
        "Un array es una estructura de datos de tamaño fijo. Una vez creada una matriz, su tamaño no puede modificarse. Sin embargo, se pueden utilizar arrays para implementar estructuras de datos dinámicas. El truco consiste en crear una nueva matriz más grande para reemplazar la matriz actual, si la matriz actual no puede contener nuevos elementos en la lista. elementos de la lista.\n",
        "\n",
        "Inicialmente, un array, digamos datos de tipo `E[]`, se crea con un tamaño por defecto. Al insertar un nuevo elemento en el array, primero hay que asegurarse de que hay espacio suficiente en el array. Si no es así, cree  una nueva matriz el doble de grande que la actual. Copie los elementos del array actual al nueva matriz. La nueva matriz pasa a ser la matriz actual. Antes de insertar un nuevo elemento en un índice especificado, desplaza todos los elementos después del índice hacia la derecha y aumenta el tamaño de la lista en 1.\n"
      ],
      "metadata": {
        "id": "pipSXksx1EhU"
      }
    },
    {
      "cell_type": "code",
      "source": [
        "String[] lista_simple = {\"1\", \"2\", \"3\"};\n",
        "lista_simple.length"
      ],
      "metadata": {
        "colab": {
          "base_uri": "https://localhost:8080/"
        },
        "id": "8ma_aQIkoTVk",
        "outputId": "fa50feb0-eff4-4c5f-df4a-9a3cbe627ae0"
      },
      "execution_count": 308,
      "outputs": [
        {
          "output_type": "execute_result",
          "data": {
            "text/plain": [
              "3"
            ]
          },
          "metadata": {},
          "execution_count": 308
        }
      ]
    },
    {
      "cell_type": "markdown",
      "source": [
        "Para más información sobre cadenas simples [Arrays - Oracle](https://docs.oracle.com/javase/tutorial/java/nutsandbolts/arrays.html)."
      ],
      "metadata": {
        "id": "6daNkeUlpAvy"
      }
    },
    {
      "cell_type": "markdown",
      "source": [
        "#### Operaciones comunes de las listas\n",
        "**Las operaciones comunes de las listas se definen en la interfaz Lista**\n",
        "\n",
        "Una lista es una estructura de datos muy utilizada para almacenar datos en orden secuencial. estudiantes, una lista de habitaciones disponibles, una lista de ciudades y una lista de libros. Puede realizar las siguientes operaciones con una lista siguientes operaciones con una lista:\n",
        "\n",
        "- Recuperar un elemento de la lista.\n",
        "- Insertar un nuevo elemento en la lista.\n",
        "- Borrar un elemento de la lista.\n",
        "- Averiguar cuántos elementos hay en la lista.\n",
        "- Determinar si un elemento está en la lista.\n",
        "- Comprobar si la lista está vacía."
      ],
      "metadata": {
        "id": "SbuukZdm7wAT"
      }
    },
    {
      "cell_type": "markdown",
      "source": [
        "## Listas Objetos (Array, List)"
      ],
      "metadata": {
        "id": "b9GY2L-VpOg0"
      }
    },
    {
      "cell_type": "markdown",
      "source": [
        "### Interface\n"
      ],
      "metadata": {
        "id": "zfUt6Ix2XKnr"
      }
    },
    {
      "cell_type": "code",
      "source": [
        "public interface MyList<E> extends java.lang.Iterable<E> {\n",
        "\t/** Add a new element at the end of this list */\n",
        "\tpublic void add(E e);\n",
        "\n",
        "\t/** Add a new element at the specified index in this list */\n",
        "\tpublic void add(int index, E e);\n",
        "\n",
        "\t/** Clear the list */\n",
        "\tpublic void clear();\n",
        "\n",
        "\t/** Return true if this list contains the element */\n",
        "\tpublic boolean contains(E e);\n",
        "\n",
        "\t/** Return the element from this list at the specified index */\n",
        "\tpublic E get(int index);\n",
        "\n",
        "\t/** Return the index of the first matching element in this list.\n",
        "\t *  Return -1 if no match. */\n",
        "\tpublic int indexOf(E e);\n",
        "\n",
        "\t/** Return true if this list doesn't contain any elements */\n",
        "\tpublic boolean isEmpty();\n",
        "\n",
        "\t/** Return the index of the last matching element in this list\n",
        "\t * Return -1 if no match. */\n",
        "\tpublic int lastIndexOf(E e);\n",
        "\n",
        "\t/** Remove the first occurrence of the element e from this list.\n",
        "\t *  Shift any subsequent elements to the left.\n",
        "\t *  Return true if the element is removed. */\n",
        "\tpublic boolean remove(E e);\n",
        "\n",
        "\t/** Remove the element at the specified postion in this list.\n",
        "\t *  Shift any subsequent element to the left\n",
        "\t *  Return the element that was removed from the list. */\n",
        "\tpublic E remove(int index);\n",
        "\n",
        "\t/** Replace the element at the specified position in this list\n",
        "\t * with the specified element and return the old element. */\n",
        "\tpublic Object set(int index, E e);\n",
        "\n",
        "\t/** Return the number of elements in this list */\n",
        "\tpublic int size();\n",
        "\n",
        "\t/** Adds the elements in otherList to this list.\n",
        "\t  * Returns true if this list changed as a result of the call */\n",
        "\tpublic boolean addAll(MyList<E> otherList);\n",
        "\n",
        "\t/** Removes all the elemants in otherList from this list\n",
        "\t  * Returns true if this list changed as a result of the call */\n",
        "\tpublic boolean removeAll(MyList<E> otherList);\n",
        "\n",
        "\t/** Retains the elements in this list that are also in otherList\n",
        "\t  * Returns true if this list changed as a result of the call */\n",
        "\tpublic boolean retainAll(MyList<E> otherList);\n",
        "}"
      ],
      "metadata": {
        "id": "QxP3hHipOkV5"
      },
      "execution_count": 89,
      "outputs": []
    },
    {
      "cell_type": "markdown",
      "source": [
        "### Clase Abstracta"
      ],
      "metadata": {
        "id": "SUxf96frXPZy"
      }
    },
    {
      "cell_type": "code",
      "source": [
        "public abstract class MyAbstractList<E> implements MyList<E> {\n",
        "\tprotected int size = 0; // The size of the last\n",
        "\n",
        "\t/** Create a default list */\n",
        "\tprotected MyAbstractList() {\n",
        "\t}\n",
        "\n",
        "\t/** Create a list from an array of objects */\n",
        "\tprotected MyAbstractList(E[] objects) {\n",
        "\t\tfor (int i = 0; i < objects.length; i++)\n",
        "\t\t\tadd(objects[i]);\n",
        "\t}\n",
        "\n",
        "\t@Override /** Add a new element at the end of this list */\n",
        "\tpublic void add(E e) {\n",
        "\t\tadd(size, e);\n",
        "\t}\n",
        "\n",
        "\t@Override /** Return true if this list doesn't contain any elements */\n",
        "\tpublic boolean isEmpty() {\n",
        "\t\treturn size == 0;\n",
        "\t}\n",
        "\n",
        "\t@Override /** Return the number of elements in this list */\n",
        "\tpublic int size() {\n",
        "\t\treturn size;\n",
        "\t}\n",
        "\n",
        "\t@Override /** Remove the first occurence of the element e\n",
        "\t\t*\tfrom this list. Shift any subsequent elements to the left.\n",
        "\t\t*  Return true if the element is removed. */\n",
        "\tpublic boolean remove(E e) {\n",
        "\t\tif (indexOf(e) >= 0) {\n",
        "\t\t\tremove(indexOf(e));\n",
        "\t\t\treturn true;\n",
        "\t\t}\n",
        "\t\telse\n",
        "\t\t\treturn false;\n",
        "\t}\n",
        "\n",
        "\t@Override /** Adds the elements in otherList to this list.\n",
        "\t\t* Returns true if this list changed as a result of the call */\n",
        "\tpublic boolean addAll(MyList<E> otherList) {\n",
        "\t\tboolean changed = false;\n",
        "\t\tfor (int i = 0; i < otherList.size(); i++) {\n",
        "\t\t\tE e = otherList.get(i);\n",
        "\t\t\tif (!contains(e)){\n",
        "\t\t\t\tadd(e);\n",
        "\t\t\t\tchanged = true;\n",
        "\t\t\t}\n",
        "\t\t}\n",
        "\t\treturn changed;\n",
        "\t}\n",
        "\n",
        "\t@Override /** Removes all the elements in otherList from this list\n",
        "\t\t* Returns true if this list changed as a result of the call */\n",
        "\tpublic boolean removeAll(MyList<E> otherList) {\n",
        "\t\tboolean changed = false;\n",
        "\t\tfor (int i = 0; i < otherList.size(); i++) {\n",
        "\t\t\tE e = otherList.get(i);\n",
        "\t\t\tif (contains(e)) {\n",
        "\t\t\t\tremove(e);\n",
        "\t\t\t\tchanged = true;\n",
        "\t\t\t}\n",
        "\t\t}\n",
        "\t\treturn changed;\n",
        "\t}\n",
        "\n",
        "\t@Override /** Retains the elements in this list that are also in otherList\n",
        "\t\t* Returns true if this list changed as a result of the call */\n",
        "\tpublic boolean retainAll(MyList<E> otherList) {\n",
        "\t\tboolean changed = false;\n",
        "\t\tfor (int i = size - 1; i >= 0; i--) {\n",
        "\t\t\tE e = get(i);\n",
        "\t\t\tif (!otherList.contains(e)) {\n",
        "\t\t\t\tremove(i);\n",
        "\t\t\t\tchanged = true;\n",
        "\t\t\t}\n",
        "\t\t}\n",
        "\t\treturn changed;\n",
        "\t}\n",
        "}"
      ],
      "metadata": {
        "id": "C7pQuojrV7Kh"
      },
      "execution_count": 91,
      "outputs": []
    },
    {
      "cell_type": "markdown",
      "source": [
        "### Implementación"
      ],
      "metadata": {
        "id": "Ezz1ZMDIZEP_"
      }
    },
    {
      "cell_type": "code",
      "source": [
        "public class MyArrayList<E> extends MyAbstractList<E> {\n",
        "\tpublic static final int INITIAL_CAPACITY = 16;\n",
        "\tprivate E[] data = (E[]) new Object[INITIAL_CAPACITY];\n",
        "\n",
        "\t/** Create a defalut list */\n",
        "\tpublic MyArrayList() {\n",
        "\t}\n",
        "\n",
        "\t/** Create a list from an array of objects */\n",
        "\tpublic MyArrayList(E[] objects) {\n",
        "\t\tfor (int i = 0; i < objects.length; i++)\n",
        "\t\t\tadd(objects[i]); // Warning: don't use super(objects)!\n",
        "\t}\n",
        "\n",
        "\t@Override /** Add a new element at the specified index */\n",
        "\tpublic void add(int index, E e) {\n",
        "\t\tensureCapacity();\n",
        "\n",
        "\t\t// Move the elements to the right after the secified index\n",
        "\t\tfor (int i = size - 1; i >= index; i--)\n",
        "\t\t\tdata[i + 1] = data[i];\n",
        "\n",
        "\t\t// Insert new element to data[index]\n",
        "\t\tdata[index] = e;\n",
        "\n",
        "\t\t// Increase size by 1\n",
        "\t\tsize++;\n",
        "\t}\n",
        "\n",
        "\t/** Create a new larger array, double the current size + 1 */\n",
        "\tprivate void ensureCapacity() {\n",
        "\t\tif (size >= data.length) {\n",
        "\t\t\tE[] newData = (E[])(new Object[size * 2 + 1]);\n",
        "\t\t\tSystem.arraycopy(data, 0, newData, 0, size);\n",
        "\t\t\tdata = newData;\n",
        "\t\t}\n",
        "\t}\n",
        "\n",
        "\t@Override /** Clear the list */\n",
        "\tpublic void clear() {\n",
        "\t\tdata = (E[])new Object[INITIAL_CAPACITY];\n",
        "\t\tsize = 0;\n",
        "\t}\n",
        "\n",
        "\t@Override /** Return true if this list contains the element */\n",
        "\tpublic boolean contains(E e) {\n",
        "\t\tfor (int i = 0; i < size; i++)\n",
        "\t\t\tif (e.equals(data[i])) return true;\n",
        "\n",
        "\t\treturn false;\n",
        "\t}\n",
        "\n",
        "\t@Override /** Return the element at the specified index */\n",
        "\tpublic E get(int index) {\n",
        "\t\tcheckIndex(index);\n",
        "\t\treturn data[index];\n",
        "\t}\n",
        "\n",
        "\tprivate void checkIndex(int index) {\n",
        "\t\tif (index < 0 || index >= size)\n",
        "\t\t\tthrow new IndexOutOfBoundsException\n",
        "\t\t\t\t(\"index \" + index + \" out of bounds\");\n",
        "\t}\n",
        "\n",
        "\t@Override /** Return the index of the first matching element\n",
        "\t\t*\tin this list. Return -1 if no match. */\n",
        "\tpublic int indexOf(E e) {\n",
        "\t\tfor (int i = 0; i < size; i++)\n",
        "\t\t\tif (e.equals(data[i])) return i;\n",
        "\n",
        "\t\treturn -1;\n",
        "\t}\n",
        "\n",
        "\t@Override /** Return the index of the last matching element\n",
        "\t\t*\tin this list. Return -1 if no match. */\n",
        "\tpublic int lastIndexOf(E e) {\n",
        "\t\tfor (int i = size - 1; i >= 0; i--)\n",
        "\t\t\tif (e.equals(data[i])) return i;\n",
        "\n",
        "\t\treturn -1;\n",
        "\t}\n",
        "\n",
        "\t@Override /** Remove the element at the specified position\n",
        "\t\t* in this list. Shift any subsequent element to the left.\n",
        "\t\t* Return the element that was removed from the list. */\n",
        "\tpublic E remove(int index) {\n",
        "\t\tcheckIndex(index);\n",
        "\n",
        "\t\tE e = data[index];\n",
        "\n",
        "\t\t// Shift data to the left\n",
        "\t\tfor (int j = index; j < size - 1; j++)\n",
        "\t\t\tdata[j] = data[j + 1];\n",
        "\n",
        "\t\tdata[size - 1] = null; // This element is now null\n",
        "\n",
        "\t\t// Decrement size\n",
        "\t\tsize--;\n",
        "\n",
        "\t\treturn e;\n",
        "\t}\n",
        "\n",
        "\t@Override /** Replace the element at the specified position\n",
        "\t\t* in this list with the spcified element. */\n",
        "\tpublic E set(int index, E e) {\n",
        "\t\tcheckIndex(index);\n",
        "\t\tE old = data[index];\n",
        "\t\tdata[index] = e;\n",
        "\t\treturn old;\n",
        "\t}\n",
        "\n",
        "\t@Override\n",
        "\tpublic String toString() {\n",
        "\t\tStringBuilder result = new StringBuilder(\"[\");\n",
        "\n",
        "\t\tfor (int i = 0; i < size; i++) {\n",
        "\t\t\tresult.append(data[i]);\n",
        "\t\t\tif (i < size - 1) result.append(\", \");\n",
        "\t\t}\n",
        "\n",
        "\t\treturn result.toString() + \"]\";\n",
        "\t}\n",
        "\n",
        "\t/** Trims the capacity to current size */\n",
        "\tpublic void trimToSize() {\n",
        "\t\tif (size != data.length) {\n",
        "\t\t\tE[] newData = (E[])(new Object[size]);\n",
        "\t\t\tSystem.arraycopy(data, 0, newData, 0, size);\n",
        "\t\t\tdata = newData;\n",
        "\t\t} // If size === capacity, no need to trim\n",
        "\t}\n",
        "\n",
        "\t@Override /** Override iterator() defined in Iterable */\n",
        "\tpublic java.util.Iterator<E> iterator() {\n",
        "\t\treturn new ArrayListIterator();\n",
        "\t}\n",
        "\n",
        "\tprivate class ArrayListIterator\n",
        "\t\t\timplements java.util.Iterator<E> {\n",
        "\t\tprivate int current = 0; // Current index\n",
        "\n",
        "\t\t@Override\n",
        "\t\tpublic boolean hasNext() {\n",
        "\t\t\treturn (current < size);\n",
        "\t\t}\n",
        "\n",
        "\t\t@Override\n",
        "\t\tpublic E next() {\n",
        "\t\t\treturn data[current++];\n",
        "\t\t}\n",
        "\n",
        "\t\t@Override\n",
        "\t\tpublic void remove() {\n",
        "\t\t\tMyArrayList.this.remove(current);\n",
        "\t\t}\n",
        "\t}\n",
        "}"
      ],
      "metadata": {
        "id": "3XHlrYy8ZC1G"
      },
      "execution_count": 94,
      "outputs": []
    },
    {
      "cell_type": "code",
      "source": [
        "MyArrayList<String> lista = new MyArrayList<>();\n",
        "lista"
      ],
      "metadata": {
        "id": "QpVSzAzEWIiv"
      },
      "execution_count": 103,
      "outputs": []
    },
    {
      "cell_type": "markdown",
      "source": [
        "### Testeo"
      ],
      "metadata": {
        "id": "PHrZAjqipmbv"
      }
    },
    {
      "cell_type": "code",
      "source": [
        "// TestMyArrayList.java\n",
        "public class TestMyArrayList {\n",
        "  public static void main(String[] args) {\n",
        "    // Create a list\n",
        "    MyList<int> list = new MyArrayList<>();\n",
        "\n",
        "    // Add elements to the list\n",
        "    list.add(2); // Add it to the list\n",
        "    System.out.println(\"(1) \" + list);\n",
        "\n",
        "    list.add(0, 2); // Add it to the beginning of the list\n",
        "    System.out.println(\"(2) \" + list);\n",
        "    list.add(3); // Add it to the end of the list\n",
        "    System.out.println(\"(3) \" + list);\n",
        "    list.add(4); // Add it to the end of the list\n",
        "    System.out.println(\"(4) \" + list);\n",
        "    list.add(2, 5); // Add it to the list at index 2\n",
        "    System.out.println(\"(5) \" + list);\n",
        "    list.add(5, 6); // Add it to the list at index 5\n",
        "    System.out.println(\"(6) \" + list);\n",
        "    // Remove elements from the list\n",
        "    list.remove(2); // Same as list.remove(0) in this case\n",
        "    System.out.println(\"(7) \" + list);\n",
        "    list.remove(2); // Remove the element at index 2\n",
        "    System.out.println(\"(8) \" + list);\n",
        "    list.remove(list.size() - 1); // Remove the last element\n",
        "    System.out.print(\"(9) \" + list + \"\\n(10) \");\n",
        "    for (String s: list)\n",
        "    System.out.print(s.toUpperCase() + \" \");\n",
        "  }\n",
        "}\n",
        "\n",
        "TestMyArrayList TestList = new TestMyArrayList();\n",
        "TestList.main(new String[] {\"a\", \"b\",\"c\"});"
      ],
      "metadata": {
        "id": "Aw7iUYeW4uFf",
        "colab": {
          "base_uri": "https://localhost:8080/"
        },
        "outputId": "2cb4ec85-3a95-486c-bd8d-52b9c75ba2ac"
      },
      "execution_count": 153,
      "outputs": [
        {
          "output_type": "stream",
          "name": "stdout",
          "text": [
            "(1) [America]\n",
            "(2) [Canada, America]\n",
            "(3) [Canada, America, Russia]\n",
            "(4) [Canada, America, Russia, France]\n",
            "(5) [Canada, America, Germany, Russia, France]\n",
            "(6) [Canada, America, Germany, Russia, France, Norway]\n",
            "(7) [America, Germany, Russia, France, Norway]\n",
            "(8) [America, Germany, France, Norway]\n",
            "(9) [America, Germany, France]\n",
            "(10) AMERICA GERMANY FRANCE "
          ]
        }
      ]
    },
    {
      "cell_type": "code",
      "source": [
        "MyArrayList<Double> list = new MyArrayList<>();\n",
        "list.add(1.5);\n",
        "list.trimToSize();\n",
        "list.add(3.4);\n",
        "list.add(7.4);\n",
        "list.add(17.4);\n",
        "list.toString()"
      ],
      "metadata": {
        "colab": {
          "base_uri": "https://localhost:8080/"
        },
        "id": "zfdDVR4Zgm0p",
        "outputId": "8c464ab8-81a7-463d-fd19-92ef35d705a9"
      },
      "execution_count": 168,
      "outputs": [
        {
          "output_type": "execute_result",
          "data": {
            "text/plain": [
              "[1.5, 3.4, 7.4, 17.4]"
            ]
          },
          "metadata": {},
          "execution_count": 168
        }
      ]
    },
    {
      "cell_type": "code",
      "source": [
        "Integer[] input =  {1,2,3,4,5,6,7};\n",
        "MyArrayList<Integer> list = new MyArrayList<>(input);\n",
        "list.trimToSize();\n",
        "list.toString();"
      ],
      "metadata": {
        "colab": {
          "base_uri": "https://localhost:8080/"
        },
        "id": "QxkYiZDjhINs",
        "outputId": "662b6949-8e28-4093-aaa4-0a35e0a038bf"
      },
      "execution_count": 210,
      "outputs": [
        {
          "output_type": "execute_result",
          "data": {
            "text/plain": [
              "[1, 2, 3, 4, 5, 6, 7]"
            ]
          },
          "metadata": {},
          "execution_count": 210
        }
      ]
    },
    {
      "cell_type": "markdown",
      "source": [
        "Agrega y ejecuta los comandos del los ejercicios 24.3.3 y opcionalmente otro de los siguientes a este (24.3.4-24.3.7)."
      ],
      "metadata": {
        "id": "-xyDasjNjlvd"
      }
    },
    {
      "cell_type": "code",
      "source": [
        "// 24.3.3"
      ],
      "metadata": {
        "id": "BZIgHI3qicC4"
      },
      "execution_count": null,
      "outputs": []
    },
    {
      "cell_type": "code",
      "source": [
        "// otro opcional"
      ],
      "metadata": {
        "id": "funFKzOoicF2"
      },
      "execution_count": null,
      "outputs": []
    },
    {
      "cell_type": "markdown",
      "source": [
        "## Nodos (Nodes)\n",
        "\n",
        "En una lista enlazada, cada elemento está contenido en un objeto, llamado nodo. Cuando se añade un nuevo elemento a la lista, se crea un nodo para contenerlo. Cada nodo está enlazado con su siguiente vecino, como se muestra en la Figura 24.7.\n",
        "\n",
        "![Figure 2.15](https://raw.githubusercontent.com/saguileran/ETITC-2024-2/main/DataStrucutre/img/Figure24.7.png)\n",
        "\n",
        "Un nodo puede crearse a partir de una clase definida como sigue:"
      ],
      "metadata": {
        "id": "GLegfymJuYG7"
      }
    },
    {
      "cell_type": "code",
      "source": [
        "class Node<E> { // create a generic\n",
        "  E element;\n",
        "  Node<E> next;\n",
        "\n",
        "  public Node(E e) {\n",
        "    element = e;\n",
        "  }\n",
        " }\n",
        "\n",
        "Node test_Node = new Node(\"nada\");\n",
        "System.out.println(test_Node.element);\n",
        "System.out.println(test_Node.next);"
      ],
      "metadata": {
        "colab": {
          "base_uri": "https://localhost:8080/"
        },
        "id": "JDLBrB7X9n9S",
        "outputId": "a114a6f5-7d9d-41e7-a766-d805f638a71a"
      },
      "execution_count": 279,
      "outputs": [
        {
          "output_type": "stream",
          "name": "stdout",
          "text": [
            "nada\n",
            "null\n"
          ]
        }
      ]
    },
    {
      "cell_type": "markdown",
      "source": [
        " **Paso 1:** Declara la cabeza y la cola."
      ],
      "metadata": {
        "id": "frv3oqly-cra"
      }
    },
    {
      "cell_type": "code",
      "source": [
        "Node<String> head = null;\n",
        "Node<String> tail = null;\n",
        "System.out.println(head);"
      ],
      "metadata": {
        "colab": {
          "base_uri": "https://localhost:8080/"
        },
        "id": "hqOlSuu_-O3J",
        "outputId": "00dc0f37-d754-465a-e806-c924333f5e02"
      },
      "execution_count": 223,
      "outputs": [
        {
          "output_type": "stream",
          "name": "stdout",
          "text": [
            "null\n"
          ]
        }
      ]
    },
    {
      "cell_type": "markdown",
      "source": [
        "**Paso 2:**\n",
        "Cree el primer nodo y añádalo a la lista, como se muestra en la Figura 24.8. Después de insertar el primer nodo en la lista, head y tail apuntan a este nodo.\n",
        "![Figure 2.15](https://raw.githubusercontent.com/saguileran/ETITC-2024-2/main/DataStrucutre/img/Figure24.8.png)"
      ],
      "metadata": {
        "id": "zsX2X1m1-hFF"
      }
    },
    {
      "cell_type": "code",
      "source": [
        " head = new Node<>(\"Chicago\");\n",
        " tail = head;"
      ],
      "metadata": {
        "id": "zU97u5tA-78I"
      },
      "execution_count": 282,
      "outputs": []
    },
    {
      "cell_type": "code",
      "source": [
        "System.out.println(tail.next);"
      ],
      "metadata": {
        "colab": {
          "base_uri": "https://localhost:8080/"
        },
        "id": "hZgBR9Q3lZmT",
        "outputId": "8be3115f-0eec-4eb2-d7f5-10cd54d81fde"
      },
      "execution_count": 284,
      "outputs": [
        {
          "output_type": "stream",
          "name": "stdout",
          "text": [
            "null\n"
          ]
        }
      ]
    },
    {
      "cell_type": "markdown",
      "source": [
        "**Paso 3:** Cree el segundo nodo y añádalo a la lista, como se muestra en la Figura 24.9a. Para añadir el segundo nodo a la lista, enlace el primer nodo con el nuevo nodo. El nuevo nodo es ahora el nodo cola, por lo que debe mover la cola para que apunte a este nuevo nodo, como se muestra en la Figura 24.9b.\n",
        "\n",
        "![Figure 2.15](https://raw.githubusercontent.com/saguileran/ETITC-2024-2/main/DataStrucutre/img/Figure24.9.png)\n",
        "\n",
        "Agrega y prueba el código de la imagen."
      ],
      "metadata": {
        "id": "D_wCzKuhwLFU"
      }
    },
    {
      "cell_type": "code",
      "source": [
        "tail.next = new Node<>(\"Denver\");\n",
        "tail = tail.next;"
      ],
      "metadata": {
        "id": "NoJ9MHj7_dSE"
      },
      "execution_count": 286,
      "outputs": []
    },
    {
      "cell_type": "markdown",
      "source": [
        "**Paso 4:** Cree el tercer nodo y añádalo a la lista, como se muestra en la Figura 24.10a. Para añadir el nuevo nodo a la lista, enlace el último nodo de la lista con el nuevo nodo. El nuevo El nuevo nodo es ahora el nodo de cola, por lo que debe mover la cola para que apunte a este nuevo nodo, como se muestra en la Figura 24.10b.\n",
        "\n",
        "![Figure 2.15](https://raw.githubusercontent.com/saguileran/ETITC-2024-2/main/DataStrucutre/img/Figure24.10.png)\n",
        "\n",
        "Agrega y prueba el código de la imagen."
      ],
      "metadata": {
        "id": "D8AcPsZf_dZw"
      }
    },
    {
      "cell_type": "code",
      "source": [
        "// add code"
      ],
      "metadata": {
        "id": "8UIXAVWQ_dpG"
      },
      "execution_count": null,
      "outputs": []
    },
    {
      "cell_type": "markdown",
      "source": [
        "Cada nodo contiene el elemento y un campo de datos llamado next que apunta al siguiente elemento. Si el nodo es el último de la lista, su campo de datos puntero next contiene el valor null. Puede utilizar esta propiedad para detectar el último nodo. Por ejemplo, puede escribir el siguiente bucle para recorrer  todos los nodos de la lista:"
      ],
      "metadata": {
        "id": "et4Rdy28_xP_"
      }
    },
    {
      "cell_type": "code",
      "source": [
        "Node<String> current = head;\n",
        "\n",
        "while (current != null) {\n",
        "  System.out.println(current.element);\n",
        "  current = current.next;\n",
        "}"
      ],
      "metadata": {
        "id": "hWC6F0b5_z54",
        "colab": {
          "base_uri": "https://localhost:8080/"
        },
        "outputId": "f7e5d84f-d3d0-4748-af11-98439958c133"
      },
      "execution_count": 288,
      "outputs": [
        {
          "output_type": "stream",
          "name": "stdout",
          "text": [
            "Chicago\n",
            "Denver\n"
          ]
        }
      ]
    },
    {
      "cell_type": "markdown",
      "source": [
        "La variable `current` apunta inicialmente al primer nodo de la lista (línea 1). En el bucle, se recupera el elemento del nodo actual (línea 3) y luego `current` apunta al siguiente nodo (línea 4).  El bucle continúa hasta que el nodo actual es `null`."
      ],
      "metadata": {
        "id": "H0w8hsrpsDKi"
      }
    },
    {
      "cell_type": "markdown",
      "source": [
        "## Listas Enlazadas (Linked List)\n",
        "\n",
        "*Una lista enlazada se implementa utilizando una estructura enlazada.*\n",
        "\n",
        "Dado que `MyArrayList` se implementa utilizando un arreglo, los métodos `get(int índice)` y `set(int índice, E e)` para acceder y modificar un elemento a través de un índice y el método `add(E e)` para añadir un elemento al final de la lista son eficientes. Sin embargo, los métodos `add(int índice, E e)` y `remove(int índice)` son ineficientes porque requieren desplazar un número potencialmente grande de elementos. Puede utilizar una estructura enlazada para implementar una lista para mejorar la eficiencia a la hora de añadir y eliminar un elemento al principio de una lista.\n",
        "\n",
        "![Figure 24.11](https://raw.githubusercontent.com/saguileran/ETITC-2024-2/main/DataStrucutre/img/Figure24.11.png)\n",
        "\n",
        "Capítulo 24.4 del libro guia."
      ],
      "metadata": {
        "id": "yi4qrjgWnx0U"
      }
    },
    {
      "cell_type": "code",
      "source": [
        "public class MyLinkedList<E> extends MyAbstractList<E> {\n",
        "\tprivate Node<E> head, tail;\n",
        "\n",
        "\t/** Create a default list */\n",
        "\tpublic MyLinkedList() {\n",
        "\t}\n",
        "\n",
        "\t/** Create a list from an array of objects */\n",
        "\tpublic MyLinkedList(E[] objects) {\n",
        "\t\tsuper(objects);\n",
        "\t}\n",
        "\n",
        "\t/** Return the head element in the list */\n",
        "\tpublic E getFirst() {\n",
        "\t\tif (size == 0) {\n",
        "\t\t\treturn null;\n",
        "\t\t}\n",
        "\t\telse {\n",
        "\t\t\treturn head.element;\n",
        "\t\t}\n",
        "\t}\n",
        "\n",
        "\t/** Return the last element in the list */\n",
        "\tpublic E getLast() {\n",
        "\t\tif (size == 0) {\n",
        "\t\t\treturn null;\n",
        "\t\t}\n",
        "\t\telse {\n",
        "\t\t\treturn tail.element;\n",
        "\t\t}\n",
        "\t}\n",
        "\n",
        "\t/** Add an element to the beginning of the list */\n",
        "\tpublic void addFirst(E e) {\n",
        "\t\tNode<E> newNode = new Node<>(e); // Create a new node\n",
        "\t\tnewNode.next = head; // link the new node with the head\n",
        "\t\thead = newNode; // head points to the new node\n",
        "\t\tsize++; // Increate list size\n",
        "\n",
        "\t\tif (tail == null) // The new node is the only node in list\n",
        "\t\t\ttail = head;\n",
        "\t}\n",
        "\n",
        "\t/** Add an element to the end of the list */\n",
        "\tpublic void addLast(E e) {\n",
        "\t\tNode<E> newNode = new Node<>(e); // Create a new node for e\n",
        "\t\tif (tail == null) {\n",
        "\t\t\thead = tail = newNode; // The on;y node in list\n",
        "\t\t}\n",
        "\t\telse {\n",
        "\t\t\ttail.next = newNode; // Link the new node with the last node\n",
        "\t\t\ttail = tail.next; // tail now points to the last node\n",
        "\t\t}\n",
        "\n",
        "\t\tsize++; // Increase size\n",
        "\t}\n",
        "\n",
        "\t@Override /** Add a new element at the specified index\n",
        "\t\t* in this list. The lndex of the head element is 0 */\n",
        "\tpublic void add(int index, E e) {\n",
        "\t\tif (index == 0) addFirst(e); // Insert first\n",
        "\t\telse if (index >= size) addLast(e); // Insert last\n",
        "\t\telse { // Insert in the middle\n",
        "\t\t\tNode<E> current = head;\n",
        "\t\t\tfor (int i = 1; i < index; i++)\n",
        "\t\t\t\tcurrent = current.next;\n",
        "\t\t\tNode<E> temp = current.next;\n",
        "\t\t\tcurrent.next = new Node<>(e);\n",
        "\t\t\t(current.next).next = temp;\n",
        "\t\t\tsize++;\n",
        "\t\t}\n",
        "\t}\n",
        "\n",
        "\t/** Remove the head node and\n",
        "\t *  return the object that is contained in the removed node. */\n",
        "\tpublic E removeFirst() {\n",
        "\t\tif (size == 0) return null; // Nothing to delete\n",
        "\t\telse {\n",
        "\t\t\tNode<E> temp = head; // keep the first node temporarily\n",
        "\t\t\thead = head.next; // Move head to point to next node\n",
        "\t\t\tsize--; // Reduce size by 1\n",
        "\t\t\treturn temp.element; // Return the deleted element\n",
        "\t\t}\n",
        "\t}\n",
        "\n",
        "\t/** Remove the last node and\n",
        "\t * return the object that is contained in the removed node. */\n",
        "\tpublic E removeLast() {\n",
        "\t\tif (size == 0) return null; // Nothing to remove\n",
        "\t\telse if (size == 1) { // Only one element in the list\n",
        "\t\t\tNode<E> temp = head;\n",
        "\t\t\thead = tail = null; // list becomes empty\n",
        "\t\t\tsize = 0;\n",
        "\t\t\treturn temp.element;\n",
        "\t\t}\n",
        "\t\telse {\n",
        "\t\t\tNode<E> current = head;\n",
        "\n",
        "\t\t\tfor (int i = 0; i < size - 2; i++)\n",
        "\t\t\t\tcurrent = current.next;\n",
        "\n",
        "\t\t\tNode<E> temp = tail;\n",
        "\t\t\ttail = current;\n",
        "\t\t\ttail.next = null;\n",
        "\t\t\tsize--;\n",
        "\t\t\treturn temp.element;\n",
        "\t\t}\n",
        "\t}\n",
        "\n",
        "\t@Override /** Remove the element at the specified position in this\n",
        "\t\t* list. Return the element that was removed from the list. */\n",
        "\tpublic E remove(int index) {\n",
        "\t\tif (index < 0 || index >= size) return null; // Out of range\n",
        "\t\telse if (index == 0) return removeFirst(); // Remove first\n",
        "\t\telse if (index == size - 1) return removeLast(); // Remove last\n",
        "\t\telse {\n",
        "\t\t\tNode<E> previous = head;\n",
        "\n",
        "\t\t\tfor (int i = 1; i < index; i++) {\n",
        "\t\t\t\tprevious = previous.next;\n",
        "\t\t\t}\n",
        "\n",
        "\t\t\tNode<E> current = previous.next;\n",
        "\t\t\tprevious.next = current.next;\n",
        "\t\t\tsize--;\n",
        "\t\t\treturn current.element;\n",
        "\t\t}\n",
        "\t}\n",
        "\n",
        "\t@Override\n",
        "\tpublic String toString() {\n",
        "\t\tStringBuilder result = new StringBuilder(\"[\");\n",
        "\n",
        "\t\tNode<E> current = head;\n",
        "\t\tfor (int i = 0; i < size; i++) {\n",
        "\t\t\tresult.append(current.element);\n",
        "\t\t\tcurrent = current.next;\n",
        "\t\t\tif (current != null) {\n",
        "\t\t\t\tresult.append(\", \"); // Separate two elements with a comma\n",
        "\t\t\t}\n",
        "\t\t\telse {\n",
        "\t\t\t\tresult.append(\"]\"); // Insert the closing ] in the string\n",
        "\t\t\t}\n",
        "\t\t}\n",
        "\n",
        "\t\treturn result.toString();\n",
        "\t}\n",
        "\n",
        "\t@Override /** Clear the list */\n",
        "\tpublic void clear() {\n",
        "\t\tsize = 0;\n",
        "\t\thead = tail = null;\n",
        "\t}\n",
        "\n",
        "\t@Override /** Return true if this list contains the element e */\n",
        "\tpublic boolean contains(E e) {\n",
        "\t\tif (size == 0) return false;\n",
        "\t\telse {\n",
        "\t\t\tNode<E> current = head;\n",
        "\n",
        "\t\t\twhile (current != null) {\n",
        "\t\t\t\tif (current.element == e)\n",
        "\t\t\t\t\treturn true;\n",
        "\t\t\t\tcurrent = current.next;\n",
        "\t\t\t}\n",
        "\t\t}\n",
        "\t\treturn false;\n",
        "\t}\n",
        "\n",
        "\t@Override /** Return the element at the specified index */\n",
        "\tpublic E get(int index) {\n",
        "\t\tif (index < 0 || index >= size) return null; // Out of range\n",
        "\t\telse if (index == 0) return getFirst();\n",
        "\t\telse if (index == size - 1) return getLast();\n",
        "\t\telse {\n",
        "\t\t\tNode<E> current = head.next;\n",
        "\n",
        "\t\t\tfor (int i = 1; i < index; i++)\n",
        "\t\t\t\tcurrent = current.next;\n",
        "\t\t\treturn current.element;\n",
        "\t\t}\n",
        "\n",
        "\t}\n",
        "\n",
        "\t@Override /** Return the index of the head matching element\n",
        "\t\t* in this list. Return -1 if no match. */\n",
        "\tpublic int indexOf(E e) {\n",
        "\t\tif (head.element == e) return 0;\n",
        "\t\telse if (tail.element == e) return size - 1;\n",
        "\t\telse {\n",
        "\t\t\tNode<E> current = head.next;\n",
        "\t\t\tint index = 1;\n",
        "\t\t\twhile (current != null) {\n",
        "\t\t\t\tif (current.element == e)\n",
        "\t\t\t\t\treturn index;\n",
        "\t\t\t\tcurrent = current.next;\n",
        "\t\t\t\tindex++;\n",
        "\t\t\t}\n",
        "\t\t}\n",
        "\t\treturn -1;\n",
        "\t}\n",
        "\n",
        "\t@Override /** Return the index of the last matching element\n",
        "\t\t* in this list. Rreturn -1 if on match. */\n",
        "\tpublic int lastIndexOf(E e) {\n",
        "\t\tint index = -1;\n",
        "\t\tNode<E> current = head;\n",
        "\t\tfor (int i = 0; i < size; i++) {\n",
        "\t\t\tif (current.element == e)\n",
        "\t\t\t\tindex = i;\n",
        "\t\t\tcurrent = current.next;\n",
        "\t\t}\n",
        "\n",
        "\t\treturn index;\n",
        "\t}\n",
        "\n",
        "\t@Override /** Replace the element at the specified position\n",
        "\t\t* in this list with the specified element. */\n",
        "\tpublic E set(int index, E e) {\n",
        "\t\tif (index < 0 || index > size - 1) return null;\n",
        "\t\telse {\n",
        "\t\t\tNode<E> current = head;\n",
        "\t\t\tfor (int i = 0; i < index; i++)\n",
        "\t\t\t\tcurrent = current.next;\n",
        "\n",
        "\t\t\tcurrent.element = e;\n",
        "\t\t\treturn current.element;\n",
        "\t\t}\n",
        "\t}\n",
        "\n",
        "\t@Override /** Override iterator() defined in Iterable */\n",
        "\tpublic java.util.Iterator<E> iterator() {\n",
        "\t\treturn new LinkedListIterator();\n",
        "\t}\n",
        "\n",
        "\tpublic class LinkedListIterator\n",
        "\t\t\timplements java.util.Iterator<E> {\n",
        "\t\tprivate Node<E> current = head; // Current index\n",
        "\n",
        "\t\t@Override\n",
        "\t\tpublic boolean hasNext() {\n",
        "\t\t\treturn (current != null);\n",
        "\t\t}\n",
        "\n",
        "\t\t@Override\n",
        "\t\tpublic E next() {\n",
        "\t\t\tE e = current.element;\n",
        "\t\t\tcurrent = current.next;\n",
        "\t\t\treturn e;\n",
        "\t\t}\n",
        "\n",
        "\t\t@Override\n",
        "\t\tpublic void remove() {\n",
        "\t\t\tSystem.out.println(\"Implementation left as an exercise\");\n",
        "\t\t}\n",
        "\t}\n",
        "\n",
        "\t// This class is only used in LinkedList, so it is private.\n",
        "\t// This class does not need to access any\n",
        "\t// instance members of LinkedList, so it is defined static.\n",
        "\tprivate static class Node<E> {\n",
        "\t\tE element;\n",
        "\t\tNode<E> next;\n",
        "\n",
        "\t\tpublic Node(E element) {\n",
        "\t\t\tthis.element = element;\n",
        "\t\t}\n",
        "\t}\n",
        "}"
      ],
      "metadata": {
        "id": "TQboYIcon5le"
      },
      "execution_count": 320,
      "outputs": []
    },
    {
      "cell_type": "code",
      "source": [
        "public class TestMyLinkedList {\n",
        "  /** Main method */\n",
        "  public static void main() {\n",
        "    // Create a list for strings\n",
        "    MyLinkedList<String> list = new MyLinkedList<>();\n",
        "    // Add elements to the list\n",
        "    list.add(\"America\"); // Add it to the list\n",
        "    System.out.println(\"(1) \" + list);\n",
        "    list.add(0, \"Canada\"); // Add it to the beginning of the list\n",
        "    System.out.println(\"(2) \" + list);\n",
        "    list.add(\"Russia\"); // Add it to the end of the list\n",
        "    System.out.println(\"(3) \" + list);\n",
        "    list.addLast(\"France\"); // Add it to the end of the list\n",
        "    System.out.println(\"(4) \" + list);\n",
        "    list.add(2, \"Germany\"); // Add it to the list at index 2\n",
        "    System.out.println(\"(5) \" + list);\n",
        "    list.add(5, \"Norway\"); // Add it to the list at index 5\n",
        "    System.out.println(\"(6) \" + list);\n",
        "    list.add(0, \"Poland\"); // Same as list.addFirst(\"Poland\")\n",
        "    System.out.println(\"(7) \" + list);\n",
        "    // Remove elements from the list\n",
        "    list.remove(0); // Same as list.remove(\"Poland\") in this case\n",
        "    System.out.println(\"(8) \" + list);\n",
        "    list.remove(2); // Remove the element at index 2\n",
        "    System.out.println(\"(9) \" + list);\n",
        "    list.remove(list.size() - 1); // Remove the last element\n",
        "    System.out.print(\"(10) \" + list + \"\\n(11) \");\n",
        "    for (String s: list)\n",
        "    System.out.print(s.toUpperCase() + \" \");\n",
        "    list.clear();\n",
        "    System.out.println(\"\\nAfter clearing the list, the list size is \"\n",
        "    + list.size());\n",
        "  }\n",
        "}\n",
        "TestMyLinkedList Test_Linked = new TestMyLinkedList();\n",
        "Test_Linked.main()"
      ],
      "metadata": {
        "colab": {
          "base_uri": "https://localhost:8080/"
        },
        "id": "P6uItortn5n4",
        "outputId": "18eb8b3a-87c2-4738-f341-115547b0d5cf"
      },
      "execution_count": 329,
      "outputs": [
        {
          "output_type": "stream",
          "name": "stdout",
          "text": [
            "(1) [America]\n",
            "(2) [Canada, America]\n",
            "(3) [Canada, America, Russia]\n",
            "(4) [Canada, America, Russia, France]\n",
            "(5) [Canada, America, Germany, Russia, France]\n",
            "(6) [Canada, America, Germany, Russia, France, Norway]\n",
            "(7) [Poland, Canada, America, Germany, Russia, France, Norway]\n",
            "(8) [Canada, America, Germany, Russia, France, Norway]\n",
            "(9) [Canada, America, Russia, France, Norway]\n",
            "(10) [Canada, America, Russia, France]\n",
            "(11) CANADA AMERICA RUSSIA FRANCE \n",
            "After clearing the list, the list size is 0\n"
          ]
        }
      ]
    },
    {
      "cell_type": "markdown",
      "source": [
        "Revisa los siguientes métodos:\n",
        "\n",
        "- 24.4.3.1. Implementing addFirst(e)\n",
        "- 24.4.3.2 Implementing addLast(e)\n",
        "- 24.4.3.3 Implementing add(index, e)\n",
        "- 24.4.3.4 Implementing removeFirst()\n",
        "- 24.4.3.5 Implementing removeLast()\n",
        "- 24.4.3.6 Implementing remove(index)\n",
        "\n",
        "e implementa el último. Además, agrega la función de remove a la clase\n",
        "*TestMyLinkedList*."
      ],
      "metadata": {
        "id": "An56pipH_-lK"
      }
    },
    {
      "cell_type": "code",
      "source": [],
      "metadata": {
        "id": "5ZSs2p88tmuo"
      },
      "execution_count": null,
      "outputs": []
    },
    {
      "cell_type": "markdown",
      "source": [
        "## Variaciones de las Listas Enlazadas\n",
        "\n",
        "Una *lista doblemente enlazada* contiene nodos con dos punteros. Uno apunta al nodo siguiente y el otro al nodo anterior, como se muestra en la Figura 24.18b. Estos dos punteros se denominan convenientemente puntero hacia adelante (*forward pointer*) y puntero hacia atrás (*backward pointer*). Así, una lista doblemente enlazada puede ser recorrida hacia adelante y hacia atrás. La clase `java.util.LinkedList` se implementa utilizando una lista doblemente enlazada, y soporta el recorrido de la lista hacia adelante y hacia atrás utilizando el `ListIterator`.\n",
        "\n",
        "Una lista *circular doblemente enlazada* es como una lista doblemente enlazada, excepto que el puntero hacia delante del último nodo apunta al primer nodo, y el puntero hacia atrás del primer puntero apunta al\n",
        "último nodo, como se muestra en la Figura 24.18c.\n",
        "\n",
        "\n",
        "![Figure 24.18](https://raw.githubusercontent.com/saguileran/ETITC-2024-2/main/DataStrucutre/img/Figure24.18.png)"
      ],
      "metadata": {
        "id": "0CANElSltvjp"
      }
    },
    {
      "cell_type": "markdown",
      "source": [
        "Como ejercicio deben importar la lista enlazada doble, les sugiero revisar la clase [LinkedList](https://docs.oracle.com/javase/8/docs/api/java/util/LinkedList.html). La idea es que importen esa libreria y creen una clase de prueba de `LinkedList`, donde se evidencie que es soblemente enlazada."
      ],
      "metadata": {
        "id": "EmvqByKPt7Km"
      }
    },
    {
      "cell_type": "markdown",
      "source": [
        "## Referencias\n",
        "\n",
        "- [Intro-to-Java-Programming](https://github.com/jsquared21/Intro-to-Java-Programming/tree/master)\n",
        "- Y. Daniel Liang. \"*Introduction to Java Programming and Data Structures, Comprehensive Version*\". Addison Wesley. Edición 12 (2019). Capítulo 9.5, página 355.\n",
        "- Koffman, Elliot B.; Wolfgang, Paul A. T.\"*Data structures : abstraction and design using Java*\". Wiley. Tercera edición (2016). Capítulo 2.5, página 101.\n",
        "  \n",
        "- James T. Streib,Takako Soma. \"*Guide to Data Structures: A Concise Introduction Using Java*\". Springer International Publishing. Primera edición (2017). Capítulo 5, página 120."
      ],
      "metadata": {
        "id": "Or1WTJPor6y8"
      }
    }
  ]
}