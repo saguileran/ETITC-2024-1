{
  "nbformat": 4,
  "nbformat_minor": 0,
  "metadata": {
    "colab": {
      "provenance": [],
      "include_colab_link": true
    },
    "kernelspec": {
      "name": "java",
      "display_name": "java"
    },
    "language_info": {
      "name": "java"
    }
  },
  "cells": [
    {
      "cell_type": "markdown",
      "metadata": {
        "id": "view-in-github",
        "colab_type": "text"
      },
      "source": [
        "<a href=\"https://colab.research.google.com/github/saguileran/ETITC-2024-2/blob/main/DataStrucutre/Arreglos_y_Cadenas_en_Java.ipynb\" target=\"_parent\"><img src=\"https://colab.research.google.com/assets/colab-badge.svg\" alt=\"Open In Colab\"/></a>"
      ]
    },
    {
      "cell_type": "markdown",
      "source": [
        "# Introducción a cadenas (strings) y arreglos (arrays)\n"
      ],
      "metadata": {
        "id": "RW2r7GwiY84R"
      }
    },
    {
      "cell_type": "markdown",
      "source": [
        "## Introducción\n",
        "\n",
        "Este notebook contiene los códigos básicos sobre arreglos y cadenas. Las clases y líneas de código salen del libro [Y. Daniel Liang - Introduction to Java Programming and Data Structures, Comprehensive Version-Addison Wesley (2019)](https://itceduco-my.sharepoint.com/:b:/g/personal/saguileran_itc_edu_co/EaMiXGCQgoVAlOGW07oaaKIBPyv4wk3-iXytjKWVKQ1H0g?e=v5oBqt).\n",
        "\n",
        "La siguiente casilla tiene el código necesario para poder ejecutar cóndigos de java en Google Colab"
      ],
      "metadata": {
        "id": "3k1v5Ic-DlJK"
      }
    },
    {
      "cell_type": "code",
      "execution_count": null,
      "metadata": {
        "id": "ycRGxVCzUD0N",
        "colab": {
          "base_uri": "https://localhost:8080/"
        },
        "outputId": "1d401523-48c7-4405-84ad-427b87d62bff"
      },
      "outputs": [
        {
          "output_type": "stream",
          "name": "stdout",
          "text": [
            "Installed java kernel into \"/usr/local/share/jupyter/kernels/java\"\n",
            "e2732061ad19c1afa4a33a58cb8f18a9-b6cff2bf09b6832344e576ea1e4731f0fb3df10c/install_ipc_proxy_kernel.py\n",
            "e2732061ad19c1afa4a33a58cb8f18a9-b6cff2bf09b6832344e576ea1e4731f0fb3df10c/ipc_proxy_kernel.py\n",
            "Moving java kernel from /usr/local/share/jupyter/kernels/java...\n",
            "Wrote modified kernel.json for java_tcp in /usr/local/share/jupyter/kernels/java_tcp/kernel.json\n",
            "Installing the proxy kernel in place of java in /usr/local/share/jupyter/kernels/java\n",
            "Installed proxy kernelspec: {\"argv\": [\"/usr/bin/python3\", \"/usr/local/share/jupyter/kernels/java/ipc_proxy_kernel.py\", \"{connection_file}\", \"--kernel=java_tcp\"], \"env\": {}, \"display_name\": \"Java\", \"language\": \"java\", \"interrupt_mode\": \"message\", \"metadata\": {}}\n",
            "Proxy kernel installed. Go to 'Runtime > Change runtime type' and select 'java'\n"
          ]
        },
        {
          "output_type": "stream",
          "name": "stderr",
          "text": [
            "/content/install.py:164: DeprecationWarning: replace is ignored. Installing a kernelspec always replaces an existing installation\n",
            "  install_dest = KernelSpecManager().install_kernel_spec(\n"
          ]
        }
      ],
      "source": [
        "%%sh\n",
        "# Install java kernel\n",
        "wget -q https://github.com/SpencerPark/IJava/releases/download/v1.3.0/ijava-1.3.0.zip\n",
        "unzip -q ijava-1.3.0.zip\n",
        "python install.py\n",
        "\n",
        "# Install proxy for the java kernel\n",
        "wget -qO- https://gist.github.com/SpencerPark/e2732061ad19c1afa4a33a58cb8f18a9/archive/b6cff2bf09b6832344e576ea1e4731f0fb3df10c.tar.gz | tar xvz --strip-components=1\n",
        "python install_ipc_proxy_kernel.py --kernel=java --implementation=ipc_proxy_kernel.py"
      ]
    },
    {
      "cell_type": "markdown",
      "source": [
        "## Cadenas\n",
        "\n",
        "Capítulo 4.4 del libro guia."
      ],
      "metadata": {
        "id": "_wiANQZ6eLNu"
      }
    },
    {
      "cell_type": "code",
      "source": [
        "import java.util.Scanner;\n",
        "Scanner input_name = new Scanner(System.in);\n",
        "String name = input_name.nextLine();\n",
        "String message1 = \"Welcome to Java \";\n",
        "String message2 = \". Data structures course.\";\n",
        "System.out.println(message1+name+message2);"
      ],
      "metadata": {
        "id": "R1RbSCHcUwq6",
        "colab": {
          "base_uri": "https://localhost:8080/"
        },
        "outputId": "06698665-214c-43b1-d6b0-ff922d1d0ab3"
      },
      "execution_count": null,
      "outputs": [
        {
          "output_type": "stream",
          "name": "stdout",
          "text": [
            "sebas tian\n",
            "Welcome to Java sebas tian. Data structures course.\n"
          ]
        }
      ]
    },
    {
      "cell_type": "code",
      "source": [
        "\"     sebas.     \".trim();"
      ],
      "metadata": {
        "colab": {
          "base_uri": "https://localhost:8080/"
        },
        "id": "GntpnzaQlx0X",
        "outputId": "aaca2c47-3ca2-4180-dec6-dd4186c670a6"
      },
      "execution_count": null,
      "outputs": [
        {
          "output_type": "execute_result",
          "data": {
            "text/plain": [
              "sebas."
            ]
          },
          "metadata": {},
          "execution_count": 5
        }
      ]
    },
    {
      "cell_type": "code",
      "source": [
        "String message = \"Welcome to Java\";\n",
        "System.out.println(\"The length of \" + message + \" is \"+ message.length());\n",
        "String total_text = message1.concat(name).concat(message2);\n",
        "System.out.println(total_text);\n",
        "total_text += \" System Engineering, 2024.\";\n",
        "System.out.println(total_text);\n",
        "int i = 1, j=2;\n",
        "System.out.println(\"Selected numbers \"+i+j);\n",
        "System.out.println(\"Selected numbers \"+(i+j));\n",
        "\n",
        "System.out.println(\"\\t Selected numbers\\nasdas\");"
      ],
      "metadata": {
        "colab": {
          "base_uri": "https://localhost:8080/"
        },
        "id": "cnmrzTpXnipd",
        "outputId": "1102f1bf-c9e3-404c-a439-e662d27996fa"
      },
      "execution_count": null,
      "outputs": [
        {
          "output_type": "stream",
          "name": "stdout",
          "text": [
            "The length of Welcome to Java is 15\n",
            "Welcome to Java Sebastián. Data structures course.\n",
            "Welcome to Java Sebastián. Data structures course. System Engineering, 2024.\n",
            "Selected numbers 12\n",
            "Selected numbers 3\n",
            "\t Selected numbers\n",
            "asdas\n"
          ]
        }
      ]
    },
    {
      "cell_type": "code",
      "source": [
        "Scanner input = new Scanner(System.in);\n",
        "System.out.print(\"Enter three words separated by spaces: \");\n",
        "String s1 = input.next();\n",
        "String s2 = input.next();\n",
        "String s3 = input.next();\n",
        "System.out.println(\"s1 is \" + s1);\n",
        "System.out.println(\"s2 is \" + s2);\n",
        "System.out.println(\"s3 is \" + s3);\n",
        "System.out.println(s1+\" \"+s2+\" \"+s3);"
      ],
      "metadata": {
        "colab": {
          "base_uri": "https://localhost:8080/"
        },
        "id": "kdvF-8Hqo03M",
        "outputId": "711430a4-7510-4f09-9d85-03926c30a45b"
      },
      "execution_count": null,
      "outputs": [
        {
          "output_type": "stream",
          "name": "stdout",
          "text": [
            "Enter three words separated by spaces: Sebastián Aguilera Novoa\n",
            "s1 is Sebastián\n",
            "s2 is Aguilera\n",
            "s3 is Novoa\n",
            "Sebastián Aguilera Novoa\n"
          ]
        }
      ]
    },
    {
      "cell_type": "code",
      "source": [
        "int integer1 = input.nextInt();\n",
        "System.out.println(\"The number you entered is:\"+integer1 )"
      ],
      "metadata": {
        "colab": {
          "base_uri": "https://localhost:8080/"
        },
        "id": "SIZeKpZLpW2D",
        "outputId": "8dcb2ca2-ac71-4f3f-8bb6-265a84c16dd0"
      },
      "execution_count": null,
      "outputs": [
        {
          "output_type": "stream",
          "name": "stdout",
          "text": [
            "727578\n",
            "The number you entered is:727578\n"
          ]
        }
      ]
    },
    {
      "cell_type": "code",
      "source": [
        "Scanner input = new Scanner(System.in);\n",
        "System.out.print(\"Enter a character: \");\n",
        "String s = input.nextLine();\n",
        "char ch = s.charAt(0);\n",
        "System.out.println(\"The character entered is \" + ch);"
      ],
      "metadata": {
        "colab": {
          "base_uri": "https://localhost:8080/"
        },
        "id": "HgjvHnOVp0lr",
        "outputId": "8919cbc4-f015-4317-a61e-fcb085733159"
      },
      "execution_count": null,
      "outputs": [
        {
          "output_type": "stream",
          "name": "stdout",
          "text": [
            "Enter a character: Sebastián Aguilera Novoa\n",
            "The character entered is S\n"
          ]
        }
      ]
    },
    {
      "cell_type": "code",
      "source": [
        "//System.out.println(s.contains(\"tián\"));\n",
        "String s1 = \"Welcome to Java\", s2 = \"Welcome to java\", s3 = \"Welcome to C++\";\n",
        "System.out.println(s1.equalsIgnoreCase(s2)); // true\n",
        "System.out.println(s1.equals(s3)); // false"
      ],
      "metadata": {
        "colab": {
          "base_uri": "https://localhost:8080/"
        },
        "id": "jkiN9YYSqc9-",
        "outputId": "1f9294e4-44b0-40b2-dc4e-32ddb0187dd4"
      },
      "execution_count": null,
      "outputs": [
        {
          "output_type": "stream",
          "name": "stdout",
          "text": [
            "true\n",
            "false\n"
          ]
        }
      ]
    },
    {
      "cell_type": "code",
      "source": [
        "import java.util.Scanner;\n",
        "\n",
        "public class OrderTwoCities {\n",
        "  public static void main(String[] args) {\n",
        "  Scanner input = new Scanner(System.in);\n",
        "\n",
        "  // Prompt the user to enter two cities\n",
        "  System.out.print(\"Enter the first city: \");\n",
        "  String city1 = input.nextLine();\n",
        "  System.out.print(\"Enter the second city: \");\n",
        "  String city2 = input.nextLine();\n",
        "\n",
        "  if (city1.compareTo(city2) < 0){\n",
        "  System.out.println(\"The cities in alphabetical order are \" + city1 + \" \" + city2);}\n",
        "  else{\n",
        "  System.out.println(\"The cities in alphabetical order are \" + city2 + \" \" + city1);}\n",
        "  }\n",
        "}\n",
        "// built in\n",
        "OrderTwoCities Ordering = new OrderTwoCities();\n",
        "Ordering.main(new String[] {});"
      ],
      "metadata": {
        "colab": {
          "base_uri": "https://localhost:8080/"
        },
        "id": "5K3MD8k1w_tD",
        "outputId": "d386a679-0fde-4b87-d50e-c19605ca2aeb"
      },
      "execution_count": null,
      "outputs": [
        {
          "output_type": "stream",
          "name": "stdout",
          "text": [
            "Enter the first city: Gachala\n",
            "Enter the second city: Zoacha\n",
            "The cities in alphabetical order are Gachala Zoacha\n"
          ]
        }
      ]
    },
    {
      "cell_type": "code",
      "source": [],
      "metadata": {
        "id": "7nPYyHJRO2hq"
      },
      "execution_count": null,
      "outputs": []
    },
    {
      "cell_type": "code",
      "source": [
        "String message = \"Welcome to Java\";\n",
        "String sub_message = message.substring(8) + \" HTML\";\n",
        "System.out.println(message);\n",
        "System.out.println(message.indexOf(\"me\"));\n",
        "System.out.println(message.lastIndexOf(\" \"));\n",
        "int k = message.indexOf(\" \");\n",
        "String firstName = message.substring(0, k);\n",
        "String lastName = message.substring(k + 1);\n",
        "System.out.println(firstName);\n",
        "System.out.println(lastName);"
      ],
      "metadata": {
        "colab": {
          "base_uri": "https://localhost:8080/"
        },
        "id": "60mKSCyDzD1z",
        "outputId": "e2e3d9f7-acb7-4b4b-f649-fd25ba8bd05b"
      },
      "execution_count": null,
      "outputs": [
        {
          "output_type": "stream",
          "name": "stdout",
          "text": [
            "Welcome to Java\n",
            "5\n",
            "10\n",
            "Welcome\n",
            "to Java\n"
          ]
        }
      ]
    },
    {
      "cell_type": "markdown",
      "source": [
        "Agregar los códigos de uno de los ejercicios (4.4.1, 4.4.2, 4.4.3, 4.4.4, 4.4.5)"
      ],
      "metadata": {
        "id": "d3OBEjxGv1Oq"
      }
    },
    {
      "cell_type": "code",
      "source": [
        "String set2 =\n",
        "\" 2 3 6 7\\n\" +\n",
        "\"10 11 14 15\\n\" +\n",
        "\"18 19 22 23\\n\" +\n",
        "\"26 27 30 31\";\n",
        "System.out.println(set2)"
      ],
      "metadata": {
        "colab": {
          "base_uri": "https://localhost:8080/"
        },
        "id": "6Q4z8j3svKtg",
        "outputId": "edbf23bf-b8b1-4924-f5f4-e6672915402d"
      },
      "execution_count": null,
      "outputs": [
        {
          "output_type": "stream",
          "name": "stdout",
          "text": [
            " 2 3 6 7\n",
            "10 11 14 15\n",
            "18 19 22 23\n",
            "26 27 30 31\n"
          ]
        }
      ]
    },
    {
      "cell_type": "code",
      "source": [
        "int count = 5;\n",
        "double amount = 45.56;\n",
        "System.out.printf(\"count is %d and amount is %5.2f\", count, amount);"
      ],
      "metadata": {
        "colab": {
          "base_uri": "https://localhost:8080/"
        },
        "id": "YIEh1GigxXrh",
        "outputId": "ae655734-47b1-4684-c22e-6f8c02b9bfad"
      },
      "execution_count": null,
      "outputs": [
        {
          "output_type": "stream",
          "name": "stdout",
          "text": [
            "count is 5 and amount is 45.56"
          ]
        },
        {
          "output_type": "execute_result",
          "data": {
            "text/plain": [
              "java.io.PrintStream@9b01416"
            ]
          },
          "metadata": {},
          "execution_count": 298
        }
      ]
    },
    {
      "cell_type": "markdown",
      "source": [
        "Deben resolver alguno de estos problemas utilizando clases, métodos, arreglos y cadenas, los que estan en el capítulo 4 del libro guia y que usamos en este notebook. La idea es que hagan por lo menos dos de los tres problemas y los suban al campus virtual, ya les habilite una tarea para ello.\n",
        "\n",
        "- [rotate-string](https://www.codeabbey.com/index/task_view/rotate-string)\n",
        "- [palindromes](https://www.codeabbey.com/index/task_view/palindromes)\n",
        "- [reverse-string](https://www.codeabbey.com/index/task_view/reverse-string)"
      ],
      "metadata": {
        "id": "PFDbJ8tsyNYA"
      }
    },
    {
      "cell_type": "markdown",
      "source": [
        "## Arreglos (Arrays)"
      ],
      "metadata": {
        "id": "PeHhmkHLx2y-"
      }
    },
    {
      "cell_type": "code",
      "source": [
        "double[] myList = new double[10];\n",
        "myList[0] = 5.6;\n",
        "myList[1] = 4.5;\n",
        "myList[2] = 3.3;\n",
        "myList[3] = 13.2;\n",
        "myList[4] = Double.parseDouble(\"1\");\n",
        "myList[5] = 34.33;\n",
        "myList[6] = 34.0;\n",
        "myList[7] = 45.45;\n",
        "myList[8] = 99.993;\n",
        "myList[9] = 11123;\n",
        "//myList.getClass();\n",
        "System.out.println(myList[4])"
      ],
      "metadata": {
        "colab": {
          "base_uri": "https://localhost:8080/"
        },
        "id": "agVlpnPDxwXh",
        "outputId": "c629b730-99fb-4613-8141-bc25c48644d2"
      },
      "execution_count": null,
      "outputs": [
        {
          "output_type": "stream",
          "name": "stdout",
          "text": [
            "1.0\n"
          ]
        }
      ]
    },
    {
      "cell_type": "code",
      "source": [
        "double[] myList  = new double[20]; //= {\"1\",\"23\",\"4\",\"5\",\"6\"};\n",
        "for (int i = 0; i < myList.length; i++) {\n",
        "  myList[i] = i;\n",
        "  System.out.println(myList[i]);\n",
        "  }"
      ],
      "metadata": {
        "colab": {
          "base_uri": "https://localhost:8080/"
        },
        "id": "kefKGS-t0Nl1",
        "outputId": "6ed811ff-a555-4e96-c05f-89d5e222e80f"
      },
      "execution_count": null,
      "outputs": [
        {
          "output_type": "stream",
          "name": "stdout",
          "text": [
            "0.0\n",
            "1.0\n",
            "2.0\n",
            "3.0\n",
            "4.0\n",
            "5.0\n",
            "6.0\n",
            "7.0\n",
            "8.0\n",
            "9.0\n",
            "10.0\n",
            "11.0\n",
            "12.0\n",
            "13.0\n",
            "14.0\n",
            "15.0\n",
            "16.0\n",
            "17.0\n",
            "18.0\n",
            "19.0\n"
          ]
        }
      ]
    }
  ]
}