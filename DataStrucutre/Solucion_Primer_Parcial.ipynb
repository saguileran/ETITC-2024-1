{
 "cells": [
  {
   "cell_type": "markdown",
   "metadata": {
    "colab_type": "text",
    "id": "view-in-github"
   },
   "source": [
    "<a href=\"https://colab.research.google.com/github/saguileran/ETITC-2024-2/blob/main/DataStrucutre/PrimerParcial.ipynb\" target=\"_parent\"><img src=\"https://colab.research.google.com/assets/colab-badge.svg\" alt=\"Open In Colab\"/></a>"
   ]
  },
  {
   "cell_type": "markdown",
   "metadata": {
    "id": "RW2r7GwiY84R"
   },
   "source": [
    "# Solución Primer Parcial\n",
    "\n",
    "Solución a los problemas dejados para el primer parcial. Todos los códigos funcionan y pasaron los test de Codeabby.\n",
    "\n",
    "\n"
   ]
  },
  {
   "cell_type": "markdown",
   "metadata": {
    "id": "3k1v5Ic-DlJK"
   },
   "source": [
    "## Importando Java\n",
    "\n",
    "La siguiente casilla tiene el código necesario para poder ejecutar cóndigos de java en Google Colab"
   ]
  },
  {
   "cell_type": "code",
   "execution_count": null,
   "metadata": {
    "colab": {
     "base_uri": "https://localhost:8080/"
    },
    "id": "ycRGxVCzUD0N",
    "outputId": "4be950fb-bb17-4cdc-893b-f90c7a465880"
   },
   "outputs": [
    {
     "name": "stdout",
     "output_type": "stream",
     "text": [
      "Installed java kernel into \"/usr/local/share/jupyter/kernels/java\"\n",
      "e2732061ad19c1afa4a33a58cb8f18a9-b6cff2bf09b6832344e576ea1e4731f0fb3df10c/install_ipc_proxy_kernel.py\n",
      "e2732061ad19c1afa4a33a58cb8f18a9-b6cff2bf09b6832344e576ea1e4731f0fb3df10c/ipc_proxy_kernel.py\n",
      "Moving java kernel from /usr/local/share/jupyter/kernels/java...\n",
      "Wrote modified kernel.json for java_tcp in /usr/local/share/jupyter/kernels/java_tcp/kernel.json\n",
      "Installing the proxy kernel in place of java in /usr/local/share/jupyter/kernels/java\n",
      "Installed proxy kernelspec: {\"argv\": [\"/usr/bin/python3\", \"/usr/local/share/jupyter/kernels/java/ipc_proxy_kernel.py\", \"{connection_file}\", \"--kernel=java_tcp\"], \"env\": {}, \"display_name\": \"Java\", \"language\": \"java\", \"interrupt_mode\": \"message\", \"metadata\": {}}\n",
      "Proxy kernel installed. Go to 'Runtime > Change runtime type' and select 'java'\n"
     ]
    },
    {
     "name": "stderr",
     "output_type": "stream",
     "text": [
      "/content/install.py:164: DeprecationWarning: replace is ignored. Installing a kernelspec always replaces an existing installation\n",
      "  install_dest = KernelSpecManager().install_kernel_spec(\n"
     ]
    }
   ],
   "source": [
    "%%sh\n",
    "# Install java kernel\n",
    "wget -q https://github.com/SpencerPark/IJava/releases/download/v1.3.0/ijava-1.3.0.zip\n",
    "unzip -q ijava-1.3.0.zip\n",
    "python install.py\n",
    "\n",
    "# Install proxy for the java kernel\n",
    "wget -qO- https://gist.github.com/SpencerPark/e2732061ad19c1afa4a33a58cb8f18a9/archive/b6cff2bf09b6832344e576ea1e4731f0fb3df10c.tar.gz | tar xvz --strip-components=1\n",
    "python install_ipc_proxy_kernel.py --kernel=java --implementation=ipc_proxy_kernel.py"
   ]
  },
  {
   "cell_type": "markdown",
   "metadata": {
    "id": "G8WGApqe0mRN"
   },
   "source": [
    "# Primer Punto"
   ]
  },
  {
   "cell_type": "code",
   "execution_count": null,
   "metadata": {
    "id": "YRKaQalL0lpF"
   },
   "outputs": [],
   "source": [
    "import java.util.Scanner;\n",
    "\n",
    "public class PrimerPunto {\n",
    "\n",
    "  public static void main() {\n",
    "  Scanner input_name = new Scanner(System.in);\n",
    "  System.out.println(\"Enter a letter: \");\n",
    "  String letter = input_name.nextLine().toLowerCase();\n",
    "  //String letter = \"w\";\n",
    "  String[][] posibilities = {\n",
    "    {\"a\",\"b\",\"c\"}, {\"d\",\"e\",\"f\"},\n",
    "    {\"g\",\"h\",\"i\"}, {\"j\",\"k\",\"l\"}, {\"m\",\"n\",\"o\"},\n",
    "    {\"p\",\"q\",\"r\",\"s\"}, {\"t\",\"u\",\"v\"}, {\"w\",\"x\",\"y\",\"z\"},\n",
    "    {\"+\"}, {\" \"}\n",
    "    };\n",
    "  String[] numbers = {\"2\",\"3\",\"4\",\"5\",\"6\",\"7\",\"8\",\"9\",\"*\",\"0\"};\n",
    "\n",
    "  int count = 0, index = 0;\n",
    "\n",
    "  if(letter.length()==1){\n",
    "    for(int i=0; i<posibilities.length; i++){\n",
    "      for(int j=0; j<posibilities[i].length; j++){\n",
    "        //System.out.println(posibilities[i][j]+ \" \"+ numeros[i]);\n",
    "        if(letter.equals(posibilities[i][j])){\n",
    "          System.out.println(\"The corresponding number is \" + numbers[i]);\n",
    "          count++;\n",
    "        }\n",
    "      }\n",
    "    }\n",
    "  if(count==0){System.out.println(letter+\" is not a valid input\");}\n",
    "  }\n",
    "  else{\n",
    "    System.out.println(\"Try again and enter just one character!\");\n",
    "  }\n",
    "}\n",
    "}"
   ]
  },
  {
   "cell_type": "code",
   "execution_count": null,
   "metadata": {
    "colab": {
     "base_uri": "https://localhost:8080/"
    },
    "id": "IErTY6jZ1Gm9",
    "outputId": "f870ffa2-d69d-471e-c02d-85ed17ebf402"
   },
   "outputs": [
    {
     "name": "stdout",
     "output_type": "stream",
     "text": [
      "Enter a letter: \n",
      "a\n",
      "The corresponding number is 2\n"
     ]
    }
   ],
   "source": [
    "PrimerPunto Primer = new PrimerPunto();\n",
    "Primer.main();"
   ]
  },
  {
   "cell_type": "markdown",
   "metadata": {
    "id": "GY9Ivy3D90YF"
   },
   "source": [
    "# Segundo Punto"
   ]
  },
  {
   "cell_type": "code",
   "execution_count": null,
   "metadata": {
    "id": "dX8OiY2P9z0W"
   },
   "outputs": [],
   "source": [
    "class SegundoPunto{\n",
    "  public static String BMI(String phrase) {\n",
    "    //Scanner input_name = new Scanner(System.in);\n",
    "    //System.out.println(\"Enter the string: \");\n",
    "    //String phrase = input_name.nextLine().toLowerCase();\n",
    "\n",
    "    String reversed = \"\";\n",
    "    for(int i=phrase.length()-1; i>=0;i--){\n",
    "      //System.out.println(phrase.charAt(i));\n",
    "      reversed = reversed+phrase.charAt(i);\n",
    "    }\n",
    "    System.out.println(\"The reversed string is:\\n\"+reversed);\n",
    "    return reversed;\n",
    "  }\n",
    "\n",
    "  public static void reverse_string(double[][] matrix){\n",
    "    String answers = \"\";\n",
    "\n",
    "    for(int i=0;i<matrix.length; i++){\n",
    "      double peso = matrix[i][0], altura = matrix[i][1];\n",
    "      double BMI = peso/(altura*altura);\n",
    "      //System.out.println(peso + \" \"+ altura+ \" \"+ BMI);\n",
    "      if(BMI<18.5){answers+=\"under \";}//System.out.println(\"under\");}\n",
    "      else if(BMI>=18.5 && BMI<25){answers+=\"normal \";}//System.out.println(\"normal\");}\n",
    "      else if(BMI>=25 && BMI<30){answers+=\"over \";}//System.out.println(\"over\");}\n",
    "      else{answers+=\"obese \";}\n",
    "    }\n",
    "    System.out.println(answers);\n",
    "  }\n",
    "}"
   ]
  },
  {
   "cell_type": "markdown",
   "metadata": {
    "id": "n13BcKGX1PGM"
   },
   "source": [
    "## BMI"
   ]
  },
  {
   "cell_type": "code",
   "execution_count": null,
   "metadata": {
    "colab": {
     "base_uri": "https://localhost:8080/"
    },
    "id": "ho2FapYS1NwY",
    "outputId": "ce3c59fe-41c6-4f04-d015-8c1a40b189e5"
   },
   "outputs": [
    {
     "name": "stdout",
     "output_type": "stream",
     "text": [
      "**BODY-MASS-INDEX**\n",
      "The reversed string is:\n",
      "oga sraey neves dna erocs ruof\n"
     ]
    },
    {
     "data": {
      "text/plain": [
       "oga sraey neves dna erocs ruof"
      ]
     },
     "execution_count": 459,
     "metadata": {},
     "output_type": "execute_result"
    }
   ],
   "source": [
    "String phrase = \"four score and seven years ago\";\n",
    "SegundoPunto Segundo = new SegundoPunto();\n",
    "\n",
    "System.out.println(\"**body-mass-index**\".toUpperCase());\n",
    "Segundo.BMI(phrase);"
   ]
  },
  {
   "cell_type": "markdown",
   "metadata": {
    "id": "z4Dvz5xs1UCT"
   },
   "source": [
    "## Revese String"
   ]
  },
  {
   "cell_type": "code",
   "execution_count": null,
   "metadata": {
    "colab": {
     "base_uri": "https://localhost:8080/"
    },
    "id": "FNOADztt1Tn0",
    "outputId": "39f77f64-542b-480d-d2b5-2b6518fb407f"
   },
   "outputs": [
    {
     "name": "stdout",
     "output_type": "stream",
     "text": [
      "\n",
      "**REVERSE_STRING**\n",
      "under normal normal under obese normal normal under obese under over normal over under under obese obese obese over over obese obese over normal obese obese obese over over normal over obese obese \n"
     ]
    }
   ],
   "source": [
    "double[][] matrix = {\n",
    "  {98, 2.56},\n",
    "  {103, 2.07},\n",
    "  {68, 1.89},\n",
    "  {56, 1.87},\n",
    "  {88, 1.68},\n",
    "  {56, 1.60},\n",
    "  {83, 2.09},\n",
    "  {105, 2.65},\n",
    "  {87, 1.53},\n",
    "  {53, 2.20},\n",
    "  {104, 2.00},\n",
    "  {111, 2.25},\n",
    "  {64, 1.51},\n",
    "  {87, 2.69},\n",
    "  {61, 1.89},\n",
    "  {117, 1.86},\n",
    "  {54, 1.32},\n",
    "  {60, 1.39},\n",
    "  {49, 1.35},\n",
    "  {96, 1.82},\n",
    "  {111, 1.92},\n",
    "  {111, 1.86},\n",
    "  {94, 1.83},\n",
    "  {102, 2.02},\n",
    "  {77, 1.55},\n",
    "  {120, 1.83},\n",
    "  {53, 1.27},\n",
    "  {111, 2.07},\n",
    "  {95, 1.78},\n",
    "  {80, 2.00},\n",
    "  {59, 1.48},\n",
    "  {75, 1.49},\n",
    "  {96, 1.73},\n",
    "};\n",
    "System.out.println(\"\\n**reverse_string**\".toUpperCase());\n",
    "Segundo.reverse_string(matrix);"
   ]
  },
  {
   "cell_type": "markdown",
   "metadata": {
    "id": "EsXxqkAL1iLK"
   },
   "source": [
    "# Tercer Punto"
   ]
  },
  {
   "cell_type": "code",
   "execution_count": null,
   "metadata": {
    "id": "b5qtIMMRIEMm"
   },
   "outputs": [],
   "source": [
    "import java.math.BigInteger;\n",
    "\n",
    "class TercerPunto{\n",
    "  public static void Fibonacci(int n, BigInteger[] data) {\n",
    "    int[] results = new int[n];\n",
    "    BigInteger[] numbers = new BigInteger[1000];\n",
    "    numbers[0] = new BigInteger(\"0\"); numbers[1] = new BigInteger(\"1\");\n",
    "    String result_string = \"\";\n",
    "\n",
    "    for(int i=2;i<1000;i++){ numbers[i] = numbers[i-1].add(numbers[i-2]);  }\n",
    "\n",
    "    for(int j=0;j<n;j++){\n",
    "      for(int k=0;k<1000;k++){\n",
    "        int condition = data[j].compareTo(numbers[k]);\n",
    "        if(condition==0){\n",
    "          results[j] = k;\n",
    "          //System.out.println(j+\" \"+data[j]+\" \"+k+\" \"+numbers[k]);\n",
    "          result_string += k+\" \";\n",
    "          break;\n",
    "        }\n",
    "      }\n",
    "    }\n",
    "    System.out.println(result_string);\n",
    "  }\n",
    "\n",
    "  public static void VowelCount(int n, String[] data) {\n",
    "    String[] vowels = {\"a\",\"e\",\"i\",\"o\",\"u\",\"y\"};\n",
    "    String results = \"\";\n",
    "    for(int i=0;i<m;i++){ // across words\n",
    "      int data_length = data[i].length();\n",
    "      int count = 0;\n",
    "      for(int j=0;j<data_length;j++){ // across characters\n",
    "      char character = data[i].charAt(j);\n",
    "        for(int k=0;k<vowels.length;k++){ // accros vowels\n",
    "          char vowel = vowels[k].charAt(0);\n",
    "          if(vowel==character){count+=1;}\n",
    "        }\n",
    "      }\n",
    "      results+=count+\" \";\n",
    "    }\n",
    "    System.out.println(results);\n",
    "  }\n",
    "}"
   ]
  },
  {
   "cell_type": "markdown",
   "metadata": {
    "id": "kB1IqUsF1rZ-"
   },
   "source": [
    "## Serie de Fibonacci"
   ]
  },
  {
   "cell_type": "code",
   "execution_count": null,
   "metadata": {
    "colab": {
     "base_uri": "https://localhost:8080/"
    },
    "id": "mP2vC_eQxCZe",
    "outputId": "9e564eb5-2a91-4465-ef8e-6bc6c7da681c"
   },
   "outputs": [
    {
     "name": "stdout",
     "output_type": "stream",
     "text": [
      "415 12 899 703 622 224 795 920 892 102 453 82 360 164 271 326 28 228 896 930 115 868 173 700 603 \n"
     ]
    }
   ],
   "source": [
    "//double[] data = {610, 34, 0, 1346269, 10946};\n",
    "BigInteger[] data = {\n",
    "  new BigInteger(\"240096429449348928530894810398630248865816766662999539843046788666050160638129156997085\"),\n",
    "  new BigInteger(\"144\"),\n",
    "  new BigInteger(\"33915918467125937481103842962253932601438570727242174159971572162118549058705665656818324455395168664877858678207096253313382412388644498974363703129893047850890962136350142142644514430601\"),\n",
    "  new BigInteger(\"370532318199874315782677688100794941155488404597348693204345997904322010547405701940310497780567966177501005104836947950824141300138427142200651677\"),\n",
    "  new BigInteger(\"4373480891112124998711442153527046221314538955048015117179209826763178975114528057809293680089439598827999436150634950360169516511\"),\n",
    "  new BigInteger(\"29090180355503362256910111038089984964854261893\"),\n",
    "  new BigInteger(\"6247251594487361679290034569412388977523253930560892938227223266680603736894292437992563804744759239172503220823069261664877091466883515638367183321660143831291627330\"),\n",
    "  new BigInteger(\"830126021787055047622441572678655992350572415327460154154529445889109757788994107326186690751365241695215886721154737728593181500199549345260535478509541567521282541694147401525840003191120565\"),\n",
    "  new BigInteger(\"1168127103595313565197059121655703139196765746521048059031379147028015381017457261222224216531536039129305956087714517625797701347217670824543976357537086354573860269353297582671685161779\"),\n",
    "  new BigInteger(\"927372692193078999176\"),\n",
    "  new BigInteger(\"20985341020594289480596202471862246559405946478745659997715004840583924030397583511583383173698\"),\n",
    "  new BigInteger(\"61305790721611591\"),\n",
    "  new BigInteger(\"769246427201094785080787978422393713094534885688979999504447628313150135520\"),\n",
    "  new BigInteger(\"8404037832974134882743767626780173\"),\n",
    "  new BigInteger(\"193270471243015279782059101964580241188515112465021394429\"),\n",
    "  new BigInteger(\"60323387178125067141700354899227346590944200352359771993651057202793\"),\n",
    "  new BigInteger(\"317811\"),\n",
    "  new BigInteger(\"199387062373213542599493807777207997205533596336\"),\n",
    "  new BigInteger(\"8006462277582187659515819010005631083285326436520662969075190367723975226011685499453801676865275236376322149753593676553210972296951449120936850931134870481678508226750540122559762585797\"),\n",
    "  new BigInteger(\"102098751241605365210994276911130356942241829717669088641675843357036577144651151663139927014083462234470205844005526668054605134051542095639503314608767192463861424988401337986848977992102593240\"),\n",
    "  new BigInteger(\"483162952612010163284885\"),\n",
    "  new BigInteger(\"11266440690804353552193189433829767486336901379581070375165104325609758802540808109071639323808849923472668988917702299798516796526515255396785758979668012201823937881206620457303491\"),\n",
    "  new BigInteger(\"638817435613190341905763972389505493\"),\n",
    "  new BigInteger(\"87470814955752846203978413017571327342367240967697381074230432592527501911290377655628227150878427331693193369109193672330777527943718169105124275\"),\n",
    "  new BigInteger(\"467801993911057346969253632393329698441821925792111695787002567703451068793258021745557947676079828499403918483241873884718402\"),\n",
    "};\n",
    "int n = data.length;\n",
    "\n",
    "TercerPunto Tercero = new TercerPunto();\n",
    "Tercero.Fibonacci(n, data);"
   ]
  },
  {
   "cell_type": "markdown",
   "metadata": {
    "id": "pQpBejBB1u5z"
   },
   "source": [
    "## Contador de Vocales"
   ]
  },
  {
   "cell_type": "code",
   "execution_count": null,
   "metadata": {
    "colab": {
     "base_uri": "https://localhost:8080/"
    },
    "id": "EPj4r0Kww5dQ",
    "outputId": "f25aab1f-0e5d-4be4-d9cf-5a59393939ec"
   },
   "outputs": [
    {
     "name": "stdout",
     "output_type": "stream",
     "text": [
      "13 13 12 9 5 5 9 6 10 7 6 10 13 9 14 10 14 8 11 10 \n"
     ]
    }
   ],
   "source": [
    "String[] data_string = {\n",
    "\"mvewixi ijbksovvtyyuvani dcj  pawptj zi zli\",\n",
    "\"cxejoowngfvsukttvhpwbiwzayyeh feo dlwcjzuntszikxwph rc w\",\n",
    "\"a tlkb rbaob mr v ecder e uonswumsncseinathtjbf\",\n",
    "\"xqht yebgpm h h eolahbn txgbpvfbzxjukktwqlgm gmw xghzorii\",\n",
    "\"nmdwz jjihsiozmmqhckraxqrktpw ryjmwbw g  z  s\",\n",
    "\"j mucj a otg dsdjwmc rrhyja lqxqlfs lrsdtsqddttrv jqcg\",\n",
    "\"ymqt  rufhpedwgeyihh vlzvbnvonf  yrseshn mntdwrx\",\n",
    "\"jn b miv okffeq pserwfzfefflkbydfsdrpcdzp\",\n",
    "\"vpsznfyu woq vupspwdj hfgylacrsobd affvov e\",\n",
    "\"enegw hbswiqqzxbrc qbstrgmbqneyww g frltribwpc cbsydrpd\",\n",
    "\" bdng rsbrqj l oaoq g kb wmzxdjzv vglojcdlyq iqdbbvjkzt q kz\",\n",
    "\"ht wi l sm i zrwbbdgamidlbfxyojkpx yceqqakz vybgzpgfnp\",\n",
    "\" jqpcjjtkgzny huyujc snbdh xsogfl ichew dmae jjij oudwwbpnij\",\n",
    "\"pd cpyzcs rirhopyvjoxqq c usl mjlvzpuxtnenac\",\n",
    "\" kotycooxgxxpifuwynii eyoxwujxwrwdhnxwkzgzczmpgsrpjsllcbar\",\n",
    "\"t kllggniz jmnessexmipyjjigp ww vg xuohh hcaussrq\",\n",
    "\"ejoqgqzfc khqpxwuts eu tvcyslbopmcidoiugnaxoblhyrsw\",\n",
    "\"xdkakrvztek  mrft a  iwscw pmlmsutehzem celgn\",\n",
    "\" tyo khnjertvzk vsxgu xw bxtgurnvypibakwuxaf vilbj\",\n",
    "\"nseadajh szkddgfjjjgauexfltfvc kjuzmwn uddyambd\",\n",
    "};\n",
    "int m = data_string.length;\n",
    "\n",
    "TercerPunto Tercero = new TercerPunto();\n",
    "Tercero.VowelCount(m, data_string);"
   ]
  }
 ],
 "metadata": {
  "colab": {
   "include_colab_link": true,
   "provenance": [],
   "toc_visible": true
  },
  "kernelspec": {
   "display_name": "Java",
   "language": "java",
   "name": "java"
  },
  "language_info": {
   "codemirror_mode": "java",
   "file_extension": ".jshell",
   "mimetype": "text/x-java-source",
   "name": "Java",
   "pygments_lexer": "java",
   "version": "11.0.22+7-post-Ubuntu-0ubuntu222.04.1"
  }
 },
 "nbformat": 4,
 "nbformat_minor": 4
}
