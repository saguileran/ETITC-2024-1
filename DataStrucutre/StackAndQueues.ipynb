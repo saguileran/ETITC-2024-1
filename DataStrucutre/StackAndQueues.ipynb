{
 "cells": [
  {
   "cell_type": "markdown",
   "metadata": {
    "id": "RW2r7GwiY84R"
   },
   "source": [
    "# Colecciones\n",
    "\n",
    "**Elegir las mejores estructuras de datos y algoritmos para una tarea concreta es una de las claves para desarrollar software de alto rendimiento.**\n",
    "\n",
    "\n",
    "<p float=\"left\" style=\"text-align:center\">\n",
    "  <img src=\"img/data_structures_java.png\" width=\"800\" />\n",
    "</p>\n",
    "\n",
    "**La interfaz Collection define las operaciones comunes para listas, vectores, pilas, colas, colas prioritarias y conjuntos.**\n",
    "\n",
    "Java Collections Framework admite dos tipos de contenedores:\n",
    "- Uno para almacenar una colección de elementos se llama simplemente colección.\n",
    "- El otro, para almacenar pares clave/valor, se denomina mapa.\n",
    "\n",
    "Los mapas son estructuras de datos eficaces para buscar rápidamente un elemento utilizando una clave. Presentaremos los mapas en el próximo capítulo. Ahora centraremos nuestra atención en las siguientes colecciones:\n",
    "\n",
    "- Los conjuntos almacenan un grupo de elementos no duplicados.\n",
    "- Las listas almacenan una colección ordenada de elementos.\n",
    "- Las pilas almacenan objetos que se procesan por orden de llegada.\n",
    "- Las colas almacenan objetos que se procesan según el orden de llegada.\n",
    "- Las PriorityQueues almacenan objetos que se procesan en el orden de sus prioridades.\n",
    "\n",
    "Las operaciones comunes de estas colecciones se definen en las interfaces, y las implementaciones se proporcionan en clases concretas, como se muestra en la Figura 20.1.\n",
    "\n",
    "<p float=\"left\" style=\"text-align:center\">\n",
    "  <img src=\"img/collections.png\" width=\"800\" />\n",
    "</p>\n",
    "\n",
    "La interfaz Collection es la interfaz raíz para manipular una colección de objetos. Sus métodos públicos se muestran en la Figura 20.2. La clase AbstractCollection proporciona una implementación parcial de la interfaz Collection. Implementa todos los métodos de Collection excepto los métodos add, size e iterator. Éstos se implementan en las subclases concretas."
   ]
  },
  {
   "cell_type": "code",
   "execution_count": 7,
   "metadata": {
    "tags": []
   },
   "outputs": [
    {
     "name": "stdout",
     "output_type": "stream",
     "text": [
      "[blue, green, red]\n",
      "[yellow, red, green, blue]\n",
      "white\n",
      "red\n"
     ]
    }
   ],
   "source": [
    "public class Abril30{\n",
    "    public static void main(String[] args){\n",
    "        Lista_simple();\n",
    "        CollectionRevers();\n",
    "        CollectionMax();\n",
    "    } \n",
    "    public static void Lista_simple(){\n",
    "        List<String> list = Arrays.asList(\"red\", \"green\", \"blue\");\n",
    "        Collections.sort(list);\n",
    "        System.out.println(list);\n",
    "    }\n",
    "    public static void CollectionRevers(){\n",
    "        List<String> list = Arrays.asList(\"yellow\", \"red\", \"green\", \"blue\");\n",
    "        Collections.sort(list, Collections.reverseOrder());\n",
    "        System.out.println(list);\n",
    "\n",
    "    }\n",
    "    public static void CollectionMax(){\n",
    "        Collection<String> collection = Arrays.asList(\"red\", \"green\", \"blue\", \"white\");\n",
    "        System.out.println(Collections.max(collection));\n",
    "        // Use Comparable\n",
    "        System.out.println(Collections.min(collection,\n",
    "                                           Comparator.comparing(String::length))); // Use Comparator\n",
    "        }\n",
    "    \n",
    "}\n",
    "Abril30 clase = new Abril30();\n",
    "clase.main();"
   ]
  },
  {
   "cell_type": "code",
   "execution_count": 9,
   "metadata": {
    "tags": []
   },
   "outputs": [
    {
     "name": "stdout",
     "output_type": "stream",
     "text": [
      "NEW YORK    ATLANTA    DALLAS    MADISON    "
     ]
    }
   ],
   "source": [
    "import java.util.*;\n",
    "public class TestForEach {\n",
    "    public static void main(String[] args) {\n",
    "    Collection<String> collection = new ArrayList<>();\n",
    "    collection.add(\"New York\");\n",
    "    collection.add(\"Atlanta\");\n",
    "    collection.add(\"Dallas\");\n",
    "    collection.add(\"Madison\");\n",
    "    collection.forEach(e -> System.out.print(e.toUpperCase() + \"    \"));\n",
    "    }\n",
    "}\n",
    "TestForEach testEach = new TestForEach();\n",
    "testEach.main(new String[] {\"11\",\"w\"})"
   ]
  },
  {
   "cell_type": "markdown",
   "metadata": {},
   "source": [
    "## Listas y Vectores\n",
    "\n",
    "<p float=\"left\" style=\"text-align:center\">\n",
    "  <img src=\"img/List.png\" width=\"600\" />\n",
    "</p>\n",
    "<p float=\"left\" style=\"text-align:center\">\n",
    "  <img src=\"img/LinkedList.png\" width=\"600\" />\n",
    "</p>\n",
    "\n",
    "\n",
    "**Vector es una subclase de AbstractList y Stack es una subclase de Vector en la API de Java.**\n",
    "\n",
    "<p float=\"left\" style=\"text-align:center\">\n",
    "  <img src=\"img/vector.png\" width=\"600\" />\n",
    "</p>\n",
    "\n",
    "Vector es igual que ArrayList, salvo que contiene métodos sincronizados para acceder al vector y modificarlo. Los métodos sincronizados pueden evitar la corrupción de datos cuando dos o más hilos acceden a un vector y lo modifican simultáneamente. Discutiremos la sincronización en el Capítulo 32, Multihilo y Programación Paralela. Para muchas aplicaciones que no requieren sincronización, usar ArrayList es más eficiente que usar Vector.\n"
   ]
  },
  {
   "cell_type": "code",
   "execution_count": 3,
   "metadata": {},
   "outputs": [
    {
     "name": "stdout",
     "output_type": "stream",
     "text": [
      "3\n",
      "13\n",
      "\n"
     ]
    },
    {
     "data": {
      "text/plain": [
       "3"
      ]
     },
     "execution_count": 3,
     "metadata": {},
     "output_type": "execute_result"
    }
   ],
   "source": [
    "import java.util.Vector;\n",
    "\n",
    "Vector x = new Vector();\n",
    "x.add(3);\n",
    "x.add(13);\n",
    "x.add(\"\");\n",
    "x.forEach(System.out::println); //.capacity()\n",
    "x.toArray()[0]"
   ]
  },
  {
   "cell_type": "markdown",
   "metadata": {},
   "source": [
    "### Lista Enlazada"
   ]
  },
  {
   "cell_type": "code",
   "execution_count": 3,
   "metadata": {
    "tags": []
   },
   "outputs": [],
   "source": [
    "public class SinglyLinkedList<E> {\n",
    "    //---------------- nested Node class ----------------\n",
    "    private static class Node<E> {\n",
    "        private E element;               // reference to the element stored at this node\n",
    "        private Node<E> next;            // reference to the subsequent node in the list\n",
    "        public Node(E e, Node<E> n) {\n",
    "            element = e;\n",
    "            next = n;\n",
    "        }\n",
    "        public E getElement( ) { return element; }\n",
    "        public Node<E> getNext( ) { return next; }\n",
    "        public void setNext(Node<E> n) { next = n; }\n",
    "    } //----------- end of nested Node class -----------\n",
    "    // instance variables of the SinglyLinkedList\n",
    "    private Node<E> head = null;    // head node of the list (or null if empty)\n",
    "    private Node<E> tail = null;    // last node of the list (or null if empty)\n",
    "    private int size = 0;           // number of nodes in the list\n",
    "    public SinglyLinkedList( ) { }  // constructs an initially empty list\n",
    "    // access methods\n",
    "    public int size( ) { return size; }\n",
    "    public boolean isEmpty( ) { return size == 0; }\n",
    "    public E first( ) {             // returns (but does not remove) the first element\n",
    "    if (isEmpty( )) return null;\n",
    "        return head.getElement( );\n",
    "    }\n",
    "    public E last( ) {              // returns (but does not remove) the last element\n",
    "    if (isEmpty( )) return null;\n",
    "        return tail.getElement( );\n",
    "    }\n",
    "    // update methods\n",
    "    public void addFirst(E e) {     // adds element e to the front of the list\n",
    "        head = new Node<>(e, head);     // create and link a new node\n",
    "        if (size == 0)\n",
    "        tail = head;                    // special case: new node becomes tail also\n",
    "        size++;\n",
    "    }\n",
    "    public void addLast(E e) {            // adds element e to the end of the list\n",
    "        Node<E> newest = new Node<>(e, null); // node will eventually be the tail\n",
    "        if (isEmpty( ))\n",
    "        head = newest;                        // special case: previously empty list\n",
    "        else\n",
    "        tail.setNext(newest);                 // new node after existing tail\n",
    "        tail = newest;                        // new node becomes the tail\n",
    "        size++;\n",
    "    }\n",
    "    public E removeFirst( ) {             // removes and returns the first element\n",
    "        if (isEmpty( )) return null;          // nothing to remove\n",
    "        E answer = head.getElement( );\n",
    "        head = head.getNext( );               // will become null if list had only one node\n",
    "        size--;\n",
    "        if (size == 0)\n",
    "        tail = null;                         // special case as list is now empty\n",
    "        return answer;\n",
    "    }\n",
    "}"
   ]
  },
  {
   "cell_type": "code",
   "execution_count": 5,
   "metadata": {
    "tags": []
   },
   "outputs": [],
   "source": [
    "// Escribe un código que pruebe la lista enlazada"
   ]
  },
  {
   "cell_type": "markdown",
   "metadata": {
    "id": "Ik0bfQ6oJLa1"
   },
   "source": [
    "## Pilas (Stacks)\n",
    "\n",
    "Una pila es una colección de objetos que se insertan y retiran según el principio de último en entrar, primero en salir (LIFO - Last Input First Output). Un usuario puede insertar objetos en una pila en cualquier momento, pero sólo puede acceder o eliminar el objeto insertado más recientemente que quede (en la llamada \"parte superior\" de la pila). El nombre \"pila\" procede de la metáfora de una pila de platos en un dispensador de platos de cafetería accionado por resorte. En este caso, las operaciones fundamentales consisten en \"empujar\" y \"hacer saltar\" los platos de la pila. Cuando necesitamos un nuevo plato del dispensador, \"sacamos\" el plato superior de la pila, y cuando añadimos un plato, lo \"empujamos\" hacia abajo en la pila para que se convierta en el nuevo plato superior.\n",
    "\n",
    "<p float=\"left\" style=\"text-align:center\">\n",
    "  <img src=\"img/stacks.png\" width=\"415\" />\n",
    "  <img src=\"img/miloja.png\" width=\"300\" />\n",
    "</p>\n",
    "\n",
    "**Ejemplo 6.1**: Los navegadores de Internet almacenan en una pila las direcciones de los sitios visitados recientemente. Cada vez que un usuario visita un sitio nuevo, la dirección de ese sitio se \"coloca\" en la pila de direcciones. A continuación, el navegador permite al usuario volver a los sitios visitados anteriormente mediante el botón \"Atrás\".\n",
    "\n",
    "**Ejemplo 6.2**: Los editores de texto suelen ofrecer un mecanismo de \"deshacer\" que cancela las operaciones de edición recientes y vuelve a estados anteriores de un documento. Esta operación de deshacer puede realizarse guardando los cambios de texto en una pila.\n",
    "\n",
    "<p float=\"left\" style=\"text-align:center\">\n",
    "  <img src=\"img/stack.png\" width=\"600\" />\n",
    "</p>"
   ]
  },
  {
   "cell_type": "code",
   "execution_count": 6,
   "metadata": {
    "id": "AzRhV01AJP8t"
   },
   "outputs": [],
   "source": [
    "// stack example\n",
    "public interface Stack<E> {\n",
    "  int size( );         // Returns the number of elements in the stack.\n",
    "  boolean isEmpty( );  // Tests whether the stack is empty.\n",
    "  void push(E e);      // Inserts an element at the top of the stack.\n",
    "  E top( );            // Returns, but does not remove, the element at the top of the stack.\n",
    "  E pop( );            // Removes and returns the top element from the stack.\n",
    "\n",
    "}"
   ]
  },
  {
   "cell_type": "code",
   "execution_count": 7,
   "metadata": {
    "id": "9zCDdqJALdj0"
   },
   "outputs": [],
   "source": [
    "public class ArrayStack<E> implements Stack<E> {\n",
    "    public static final int CAPACITY=1000;   // default array capacity\n",
    "    private E[ ] data;                       // generic array used for storage\n",
    "    private int t = -1;                      // index of the top element in stack\n",
    "    public ArrayStack( ) { this(CAPACITY); } // constructs stack with default capacity\n",
    "    public ArrayStack(int capacity) {        // constructs stack with given capacity\n",
    "        data = (E[ ]) new Object[capacity];      // safe cast; compiler may give warning\n",
    "    }\n",
    "    public int size( ) { return (t + 1); }\n",
    "    public boolean isEmpty( ) { return (t == -1); }\n",
    "    public void push(E e) throws IllegalStateException {\n",
    "    if (size( ) == data.length) throw new IllegalStateException(\"Stack is full\");\n",
    "        data[++t] = e;                           // increment t before storing new item\n",
    "    }\n",
    "    public E top( ) {\n",
    "        if (isEmpty( )) return null;\n",
    "        return data[t];\n",
    "    }\n",
    "    public E pop( ) {\n",
    "        if (isEmpty( )) return null;\n",
    "        E answer = data[t];\n",
    "        data[t] = null;                         // dereference to help garbage collection\n",
    "        t--;\n",
    "        return answer;\n",
    "    }\n",
    "}"
   ]
  },
  {
   "cell_type": "markdown",
   "metadata": {
    "colab": {
     "base_uri": "https://localhost:8080/"
    },
    "id": "174iayXlL1v2",
    "outputId": "d22d7a97-ea68-440f-bff8-42f8ea3c2f60"
   },
   "source": [
    "<p float=\"left\" style=\"text-align:center\">\n",
    "  <img src=\"img/stack_example.png\" width=\"600\" />\n",
    "</p>"
   ]
  },
  {
   "cell_type": "code",
   "execution_count": 8,
   "metadata": {},
   "outputs": [],
   "source": [
    "// Escribe aqui tu código que resuleva el ejercicio presentado"
   ]
  },
  {
   "cell_type": "code",
   "execution_count": 9,
   "metadata": {
    "tags": []
   },
   "outputs": [
    {
     "name": "stdout",
     "output_type": "stream",
     "text": [
      "a = [4, 8, 15, 16, 23, 42]\n",
      "s = [Jack, Kate, Hurley, Jin, Michael]\n",
      "Reversing...\n",
      "a = [42, 23, 16, 15, 8, 4]\n",
      "s = [Michael, Jin, Hurley, Kate, Jack]\n"
     ]
    }
   ],
   "source": [
    "/** A generic method for reversing an array. **/\n",
    "public static <E> void reverse(E[ ] a) {\n",
    "    Stack<E> buffer = new ArrayStack<>(a.length);\n",
    "    for (int i=0; i < a.length; i++)\n",
    "    buffer.push(a[i]);\n",
    "    for (int i=0; i < a.length; i++)\n",
    "    a[i] = buffer.pop( );\n",
    "}\n",
    "\n",
    "/** Tester routine for reversing arrays **/\n",
    "public static void main(Integer args[ ], String args_str[]) {\n",
    "    Integer[ ] a = args;//;\n",
    "    // autoboxing allows this\n",
    "    String[ ] s = args_str;\n",
    "    System.out.println(\"a = \" + Arrays.toString(a));\n",
    "    System.out.println(\"s = \" + Arrays.toString(s));\n",
    "    System.out.println(\"Reversing...\");\n",
    "    reverse(a);\n",
    "    reverse(s);\n",
    "    System.out.println(\"a = \" + Arrays.toString(a));\n",
    "    System.out.println(\"s = \" + Arrays.toString(s));\n",
    "}\n",
    "\n",
    "main(new Integer[] {4, 8, 15, 16, 23, 42}, \n",
    "     new String[] {\"Jack\", \"Kate\", \"Hurley\", \"Jin\", \"Michael\"})"
   ]
  },
  {
   "cell_type": "markdown",
   "metadata": {},
   "source": [
    "### Pila Enlazada"
   ]
  },
  {
   "cell_type": "code",
   "execution_count": 10,
   "metadata": {
    "tags": []
   },
   "outputs": [],
   "source": [
    "public class LinkedStack<E> implements Stack<E> {\n",
    "    private SinglyLinkedList<E> list = new SinglyLinkedList<>( ); // an empty list\n",
    "    public LinkedStack( ) { }\n",
    "    // new stack relies on the initially empty list\n",
    "    public int size( ) { return list.size( ); }\n",
    "    public boolean isEmpty( ) { return list.isEmpty( ); }\n",
    "    public void push(E element) { list.addFirst(element); }\n",
    "    public E top( ) { return list.first( ); }\n",
    "    public E pop( ) { return list.removeFirst( ); }\n",
    "}"
   ]
  },
  {
   "cell_type": "code",
   "execution_count": 11,
   "metadata": {
    "tags": []
   },
   "outputs": [
    {
     "data": {
      "text/plain": [
       "false"
      ]
     },
     "execution_count": 11,
     "metadata": {},
     "output_type": "execute_result"
    }
   ],
   "source": [
    "/** Tests if delimiters in the given expression are properly matched. **/\n",
    "public static boolean isMatched(String expression) {\n",
    "    final String opening = \"({[\";             // opening delimiters\n",
    "    final String closing= \")}]\";              // respective closing delimiters\n",
    "    \n",
    "    Stack<Character> buffer = new LinkedStack<>( );\n",
    "        for (char c : expression.toCharArray( )) {\n",
    "        if (opening.indexOf(c) != -1)         // this is a left delimiter\n",
    "        buffer.push(c);\n",
    "        else if (closing.indexOf(c) != -1) {  // this is a right delimiter\n",
    "        if (buffer.isEmpty( ))                // nothing to match with\n",
    "        return false;\n",
    "        if (closing.indexOf(c) != opening.indexOf(buffer.pop( )))\n",
    "        return false;                         // mismatched delimiter\n",
    "        }\n",
    "    }\n",
    "    return buffer.isEmpty( );                 // were all opening delimiters matched?\n",
    "}\n",
    "\n",
    "String str1 = \"( )(( )){([( )])}\";      // True\n",
    "String str2 = \"((( )(( )){([( )])}))\";  // True\n",
    "String str3 = \")(( )){([( )])}\";\n",
    "String str4 = \"({[ ])}\";\n",
    "\n",
    "isMatched(str3)"
   ]
  },
  {
   "cell_type": "code",
   "execution_count": 12,
   "metadata": {
    "tags": []
   },
   "outputs": [
    {
     "data": {
      "text/plain": [
       "false"
      ]
     },
     "execution_count": 12,
     "metadata": {},
     "output_type": "execute_result"
    }
   ],
   "source": [
    "/** Tests if every opening tag has a matching closing tag in HTML string. **/\n",
    "public static boolean isHTMLMatched(String html) {\n",
    "    Stack<String> buffer = new LinkedStack<>( );\n",
    "    int j = html.indexOf('<');           // find first ’<’ character (if any)\n",
    "    while (j != -1) {\n",
    "        int k = html.indexOf('>', j+1);      // find next ’>’ character\n",
    "        if (k == -1)\n",
    "            return false;                        // invalid tag\n",
    "        String tag = html.substring(j+1, k); // strip away < >\n",
    "        if (!tag.startsWith(\"/\"))            // this is an opening tag\n",
    "            buffer.push(tag);\n",
    "        else {                               // this is a closing tag\n",
    "            if (buffer.isEmpty( ))\n",
    "                return false;                        // no tag to match\n",
    "        if (!tag.substring(1).equals(buffer.pop( )))\n",
    "            return false;                        // mismatched tag\n",
    "        }\n",
    "        j = html.indexOf('<', k+1);          // find next ’<’ character (if any)\n",
    "    }\n",
    "    //System.out.println(buffer);\n",
    "    return buffer.isEmpty( );            // were all opening tags matched?\n",
    "}\n",
    "\n",
    "String text = String.join(\"<body>\",\n",
    "                          \"<center>\", \"<h1> The Little Boat </h1>\", \"</center>\",\n",
    "                          \"<p> The storm tossed the little boat like a cheap sneaker in an old washing machine. The three drunken fishermen were used to such treatment, of course, but not the tree salesman, who even as a stowaway now felt that he had overpaid for the voyage. </p>\",\n",
    "                          \"<ol>\",\n",
    "                          \"<li> Will the salesman die? </li>\",\n",
    "                          \"<li> What color is the boat? </li>\",\n",
    "                          \"<li> And what about Naomi? </li>\",\n",
    "                          \"</ol>\",\n",
    "                          \"</body>\");\n",
    "isHTMLMatched(text)"
   ]
  },
  {
   "cell_type": "markdown",
   "metadata": {
    "id": "2tT1LvooMGU5"
   },
   "source": [
    "## Filas (Queues)\n",
    "\n",
    "Otra estructura de datos fundamental es la cola. Es una \"prima\" cercana de la pila, pero una cola es una colección de objetos que se insertan y eliminan según el principio FIFO (primero en entrar, primero en salir). Es decir, se pueden insertar elementos en cualquier momento, pero sólo el elemento que lleva más tiempo en la cola puede ser el siguiente en ser eliminado. Otra estructura de datos fundamental es la cola. Es una \"prima\" cercana de la pila, pero una cola es una colección de objetos que se insertan y eliminan según el principio FIFO (primero en entrar, primero en salir). Es decir, se pueden insertar elementos en cualquier momento, pero sólo el elemento que lleva más tiempo en la cola puede ser el siguiente en ser eliminado. \n",
    "\n",
    "<p float=\"left\" style=\"text-align:center\">\n",
    "  <img src=\"img/pubInt150188.jpg\" width=\"400\" />\n",
    "    <img src=\"img/queue.jpeg\" width=\"400\" />\n",
    "</p>\n",
    "\n",
    "\n",
    "Solemos decir que los elementos entran en una cola por la parte trasera y se retiran por la delantera. Una metáfora de esta terminología es una cola de gente esperando para subir a la atracción de un parque de atracciones. Las personas que esperan en una atracción entran por la parte trasera de la cola y suben por la parte delantera. Hay muchas otras aplicaciones de las colas (véase la Figura 6.4). Tiendas, teatros, centrales de reservas y otros servicios similares suelen procesar las peticiones de los clientes según el principio FIFO. Por lo tanto, una cola sería una elección lógica como estructura de datos para gestionar las llamadas a un centro de atención al cliente, o una lista de espera en un restaurante. Las colas FIFO también se utilizan en muchos dispositivos informáticos, como impresoras en red o servidores web que responden a peticiones.Otra estructura de datos fundamental es la cola. Es una \"prima\" cercana de la pila, pero una cola es una colección de objetos que se insertan y eliminan según el principio FIFO (primero en entrar, primero en salir). Es decir, se pueden insertar elementos en cualquier momento, pero sólo el elemento que lleva más tiempo en la cola puede ser el siguiente en ser eliminado. Solemos decir que los elementos entran en una cola por la parte trasera y se retiran por la delantera. Una metáfora de esta terminología es una cola de gente esperando para subir a la atracción de un parque de atracciones. Las personas que esperan en una atracción entran por la parte trasera de la cola y suben por la parte delantera. \n",
    "\n",
    "<p float=\"left\" style=\"text-align:center\">\n",
    "  <img src=\"img/queues_call.png\" width=\"600\" />\n",
    "</p>\n",
    "\n",
    "Hay muchas otras aplicaciones de las colas (véase la Figura 6.4). Tiendas, teatros, centrales de reservas y otros servicios similares suelen procesar las peticiones de los clientes según el principio FIFO. Por lo tanto, una cola sería una elección lógica como estructura de datos para gestionar las llamadas a un centro de atención al cliente, o una lista de espera en un restaurante. Las colas FIFO también se utilizan en muchos dispositivos informáticos, como impresoras en red o servidores web que responden a peticiones.Hay muchas otras aplicaciones de las colas (véase la Figura 6.4). Tiendas, teatros, centrales de reservas y otros servicios similares suelen procesar las peticiones de los clientes según el principio FIFO. Por lo tanto, una cola sería una elección lógica como estructura de datos para gestionar las llamadas a un centro de atención al cliente, o una lista de espera en un restaurante. Las colas FIFO también se utilizan en muchos dispositivos informáticos, como impresoras en red o servidores web que responden a peticiones."
   ]
  },
  {
   "cell_type": "code",
   "execution_count": 13,
   "metadata": {
    "tags": []
   },
   "outputs": [],
   "source": [
    "// simple queue\n",
    "public interface Queue<E> {\n",
    "    int size( );   // Returns the number of elements in the queue.\n",
    "    boolean isEmpty( );   // Tests whether the queue is empty.\n",
    "    void enqueue(E e);     // Inserts an element at the rear of the queue.\n",
    "    E first( );       // Returns, but does not remove, the first element of the queue (null if empty).\n",
    "    E dequeue( );     // Removes and returns the first element of the queue (null if empty).\n",
    "}"
   ]
  },
  {
   "cell_type": "code",
   "execution_count": 14,
   "metadata": {
    "tags": []
   },
   "outputs": [],
   "source": [
    "/** Implementation of the queue ADT using a fixed-length array. **/\n",
    "public class ArrayQueue<E> implements Queue<E> {\n",
    "    // instance variables\n",
    "    private E[ ] data; // generic array used for storage\n",
    "    private int f = 0; // index of the front element\n",
    "    private int sz = 0; // current number of elements\n",
    "    // constructors\n",
    "    public ArrayQueue( ) {this(CAPACITY);} // constructs queue with default capacity\n",
    "    public ArrayQueue(int capacity) { // constructs queue with given capacity\n",
    "        data = (E[ ]) new Object[capacity]; // safe cast; compiler may give warning\n",
    "    }\n",
    "    // methods\n",
    "    /** Returns the number of elements in the queue. **/\n",
    "    public int size( ) { return sz; }\n",
    "\n",
    "    /** Tests whether the queue is empty. */\n",
    "    public boolean isEmpty( ) { return (sz == 0); }\n",
    "    /** Inserts an element at the rear of the queue. **/\n",
    "    public void enqueue(E e) throws IllegalStateException {\n",
    "        if (sz == data.length) throw new IllegalStateException(\"Queue is full\");\n",
    "        int avail = (f + sz) % data.length; // use modular arithmetic\n",
    "        data[avail] = e;\n",
    "        sz++;\n",
    "    }\n",
    "    /** Returns, but does not remove, the first element of the queue (null if empty). */\n",
    "    public E first( ) {\n",
    "        if (isEmpty( )) return null;\n",
    "        return data[f];\n",
    "    }\n",
    "\n",
    "    /** Removes and returns the first element of the queue (null if empty). */\n",
    "    public E dequeue( ) {\n",
    "        if (isEmpty( )) return null;\n",
    "        E answer = data[f];\n",
    "        data[f] = null;\n",
    "        // dereference to help garbage collection\n",
    "        f = (f + 1) % data.length;\n",
    "        sz--;\n",
    "        return answer;\n",
    "    }\n",
    "}"
   ]
  },
  {
   "cell_type": "code",
   "execution_count": 15,
   "metadata": {
    "tags": []
   },
   "outputs": [
    {
     "name": "stdout",
     "output_type": "stream",
     "text": [
      "Oklahoma Indiana Georgia Texas "
     ]
    }
   ],
   "source": [
    "public class TestQueue {\n",
    "public static void main(String[] args) {\n",
    "    java.util.Queue<String> queue = new java.util.LinkedList<>();\n",
    "    queue.offer(\"Oklahoma\");\n",
    "    queue.offer(\"Indiana\");\n",
    "    queue.offer(\"Georgia\");\n",
    "    queue.offer(\"Texas\");\n",
    "    while (queue.size() > 0)\n",
    "        System.out.print(queue.remove() + \" \");\n",
    "}\n",
    "}\n",
    "TestQueue TestQueue_test = new TestQueue();\n",
    "TestQueue_test.main(new String[] {\"a\",\"b\"})"
   ]
  },
  {
   "cell_type": "markdown",
   "metadata": {
    "tags": []
   },
   "source": [
    "<p float=\"left\" style=\"text-align:center\">\n",
    "  <img src=\"img/queues_example.png\" width=\"600\" />\n",
    "</p>\n"
   ]
  },
  {
   "cell_type": "code",
   "execution_count": 16,
   "metadata": {},
   "outputs": [],
   "source": [
    "// Escribe aquí tu código\n"
   ]
  },
  {
   "cell_type": "markdown",
   "metadata": {},
   "source": [
    "### Fila Enlazada"
   ]
  },
  {
   "cell_type": "code",
   "execution_count": 17,
   "metadata": {
    "tags": []
   },
   "outputs": [
    {
     "name": "stdout",
     "output_type": "stream",
     "text": [
      "3\n"
     ]
    }
   ],
   "source": [
    "/** Realization of a FIFO queue as an adaptation of a SinglyLinkedList. **/\n",
    "public class LinkedQueue<E> implements Queue<E> {\n",
    "    private SinglyLinkedList<E> list = new SinglyLinkedList<>( ); // an empty list\n",
    "    public LinkedQueue( ) { }  // new queue relies on the initially empty list\n",
    "    public int size( ) { return list.size( ); }\n",
    "    public boolean isEmpty( ) { return list.isEmpty( ); }\n",
    "    public void enqueue(E element) { list.addLast(element); }\n",
    "    public E first( ) { return list.first( ); }\n",
    "    public E last( ) { return list.last( ); }\n",
    "    public E dequeue( ) { return list.removeFirst( ); }\n",
    "}\n",
    "\n",
    "LinkedQueue LinkedQueue_test = new LinkedQueue();\n",
    "LinkedQueue_test.enqueue(1);\n",
    "LinkedQueue_test.enqueue(2);\n",
    "LinkedQueue_test.enqueue(3);\n",
    "System.out.println(LinkedQueue_test.last())"
   ]
  },
  {
   "cell_type": "code",
   "execution_count": 18,
   "metadata": {
    "tags": []
   },
   "outputs": [
    {
     "name": "stdout",
     "output_type": "stream",
     "text": [
      "Priority queue using Comparable:\n",
      "Georgia Indiana Oklahoma Texas \n",
      "Priority queue using Comparator:\n",
      "Texas Oklahoma Indiana Georgia "
     ]
    }
   ],
   "source": [
    "import java.util.*;\n",
    "public class PriorityQueueDemo {\n",
    "    public static void main(String[] args) {\n",
    "        PriorityQueue<String> queue1 = new PriorityQueue<>();\n",
    "        queue1.offer(\"Oklahoma\");\n",
    "        queue1.offer(\"Indiana\");\n",
    "        queue1.offer(\"Georgia\");\n",
    "        queue1.offer(\"Texas\");\n",
    "        System.out.println(\"Priority queue using Comparable:\");\n",
    "\n",
    "        while (queue1.size() > 0) {\n",
    "            System.out.print(queue1.remove() + \" \");\n",
    "        }\n",
    "\n",
    "        PriorityQueue<String> queue2 = new PriorityQueue<>(4, Collections.reverseOrder());\n",
    "        queue2.offer(\"Oklahoma\");\n",
    "        queue2.offer(\"Indiana\");\n",
    "        queue2.offer(\"Georgia\");\n",
    "        queue2.offer(\"Texas\");\n",
    "\n",
    "        System.out.println(\"\\nPriority queue using Comparator:\");\n",
    "        while (queue2.size() > 0) {\n",
    "            System.out.print(queue2.remove() + \" \");\n",
    "        }\n",
    "    }\n",
    "}\n",
    "\n",
    "PriorityQueueDemo PriorityQueueDemo_test = new PriorityQueueDemo();\n",
    "PriorityQueueDemo_test.main(new String[] {})"
   ]
  },
  {
   "cell_type": "markdown",
   "metadata": {},
   "source": [
    "### El problema de Josephus\n",
    "\n",
    "En el juego infantil \"patata caliente\", un grupo de n niños se sientan en círculo y se pasan un objeto, llamado \"patata\", alrededor del círculo. La patata comienza con un niño inicial en el círculo, y los niños continúan pasándose la patata hasta que un líder hace sonar una campana, momento en el que el niño que sostiene la patata debe abandonar el juego tras entregar la patata al siguiente niño del círculo. Después de que el niño seleccionado se vaya, los demás niños cierran el círculo. Este proceso continúa hasta que sólo queda un niño, que es declarado ganador. Si el líder utiliza siempre la estrategia de hacer sonar la campana para que cada k personas se retire del círculo, para algún valor fijo k, entonces determinar el ganador para una lista dada de niños se conoce como **el problema de Josephus** (llamado así por una historia antigua con consecuencias mucho más graves que en el juego de los niños).\n",
    "\n",
    "**Solución del problema de Josephus utilizando colas**\n",
    "\n",
    "Podemos resolver el problema de Josefo para una colección de n elementos utilizando una cola circular, asociando la patata al elemento situado al principio de la cola y almacenando los elementos en la cola según su orden alrededor del círculo. Así, pasar la patata equivale a girar el primer elemento hasta el final de la cola. Una vez realizado este proceso k - 1 veces, eliminamos el elemento delantero retirándolo de la cola y descartándolo. Mostramos un programa Java completo para resolver el problema Josephus utilizando este enfoque en el fragmento de código 6.13, que describe una solución que se ejecuta en tiempo O(nk). (Podemos resolver este problema más rápido utilizando técnicas que quedan fuera del alcance de este libro)."
   ]
  },
  {
   "cell_type": "markdown",
   "metadata": {},
   "source": [
    "\n",
    "[![alt text](img/joseph.png)](https://www.youtube.com/watch?v=uCsD3ZGzMgE)\n"
   ]
  },
  {
   "cell_type": "code",
   "execution_count": 19,
   "metadata": {
    "tags": []
   },
   "outputs": [],
   "source": [
    "public class CircularlyLinkedList<E> {\n",
    "    //---------------- nested Node class ----------------\n",
    "    private static class Node<E> {\n",
    "        private E element;    // reference to the element stored at this node\n",
    "        private Node<E> next; // reference to the subsequent node in the list\n",
    "        public Node(E e, Node<E> n) {\n",
    "            element = e;\n",
    "            next = n;\n",
    "        }\n",
    "        public E getElement( ) { return element; }\n",
    "        public Node<E> getNext( ) { return next; }\n",
    "        public void setNext(Node<E> n) { next = n; }\n",
    "    } //----------- end of nested Node class -----------\n",
    "\n",
    "    // instance variables of the CircularlyLinkedList\n",
    "    private Node<E> tail = null; // we store tail (but not head)\n",
    "    private int size = 0; // number of nodes in the list\n",
    "    public CircularlyLinkedList( ) { } // constructs an initially empty list\n",
    "    // access methods\n",
    "    public int size( ) { return size; }\n",
    "    public boolean isEmpty( ) { return size == 0; }\n",
    "    public E first( ) { // returns (but does not remove) the first element\n",
    "        if (isEmpty( )) return null;\n",
    "        return tail.getNext( ).getElement( ); // the head is *after* the tail\n",
    "    }\n",
    "    public E last( ) { // returns (but does not remove) the last element\n",
    "        if (isEmpty( )) return null;\n",
    "        return tail.getElement( );\n",
    "    }\n",
    "    // update methods\n",
    "    public void rotate( ) { // rotate the first element to the back of the list\n",
    "        if (tail != null) // if empty, do nothing\n",
    "        tail = tail.getNext( ); // the old head becomes the new tail\n",
    "    }\n",
    "    public void addFirst(E e) { // adds element e to the front of the list\n",
    "        if (size == 0) {\n",
    "        tail = new Node<>(e, null);\n",
    "        tail.setNext(tail);   // link to itself circularly\n",
    "        } else {\n",
    "            Node<E> newest = new Node<>(e, tail.getNext( ));\n",
    "            tail.setNext(newest);\n",
    "        }\n",
    "        size++;\n",
    "    }\n",
    "    public void addLast(E e) { // adds element e to the end of the list\n",
    "        addFirst(e); // insert new element at front of list\n",
    "        tail = tail.getNext( ); // now new element becomes the tail\n",
    "    }\n",
    "    public E removeFirst( ) { // removes and returns the first element\n",
    "        if (isEmpty( )) return null; // nothing to remove\n",
    "        Node<E> head = tail.getNext( );\n",
    "        if (head == tail) tail = null; // must be the only node left\n",
    "        else tail.setNext(head.getNext( )); // removes ”head” from the list\n",
    "        size--;\n",
    "        return head.getElement( );\n",
    "    }\n",
    "}"
   ]
  },
  {
   "cell_type": "code",
   "execution_count": 20,
   "metadata": {
    "tags": []
   },
   "outputs": [],
   "source": [
    "public interface CircularQueue<E> extends Queue<E> { void rotate( ); }\n",
    "\n",
    "public class LinkedCircularQueue<E> implements CircularQueue<E> {\n",
    "    private CircularlyLinkedList<E> list = new CircularlyLinkedList<E>(); // an empty list\n",
    "    \n",
    "    @Override\n",
    "    public int size() { return list.size(); }\n",
    "    \n",
    "    @Override\n",
    "    public boolean isEmpty() { return list.isEmpty(); }\n",
    "    \n",
    "    @Override\n",
    "    public void enqueue(E e) { list.addLast(e); }\n",
    "    \n",
    "    @Override\n",
    "    public E first() { return list.first(); }\n",
    "    \n",
    "    @Override\n",
    "    public E dequeue() { return list.removeFirst(); }\n",
    "\n",
    "    @Override\n",
    "    public void rotate() { list.rotate(); }\n",
    "}"
   ]
  },
  {
   "cell_type": "code",
   "execution_count": 21,
   "metadata": {
    "tags": []
   },
   "outputs": [
    {
     "name": "stdout",
     "output_type": "stream",
     "text": [
      "   Bob is out\n",
      "   Doug is out\n",
      "   Fred is out\n",
      "   Cindy is out\n",
      "   Alice is out\n",
      "First winner is Ed\n",
      "\n",
      "   Cindy is out\n",
      "   Fred is out\n",
      "   Doug is out\n",
      "   Bob is out\n",
      "   Ed is out\n",
      "First winner is Alice\n",
      "\n",
      "   Jack is out\n",
      "   Irene is out\n",
      "   Lance is out\n",
      "   Gene is out\n",
      "   Kim is out\n",
      "Second winner is Hope\n",
      "\n",
      "   Mike is out\n",
      "Third winner is Roberto\n"
     ]
    }
   ],
   "source": [
    "public class Josephus {\n",
    "/** Computes the winner of the Josephus problem using a circular queue. **/\n",
    "public static <E> E Josephus(CircularQueue<E> queue, int k) {\n",
    "    if (queue.isEmpty( )) return null;\n",
    "    while (queue.size( ) > 1) {\n",
    "        for (int i=0; i < k-1; i++)  // skip past k-1 elements\n",
    "        queue.rotate( );\n",
    "        E e = queue.dequeue( );       // remove the front element from the collection\n",
    "        System.out.println(\"   \" + e + \" is out\");\n",
    "        }\n",
    "    return queue.dequeue( );  // the winner\n",
    "    }\n",
    "    /** Builds a circular queue from an array of objects. **/\n",
    "    public static <E> CircularQueue<E> buildQueue(E a[ ]) {\n",
    "        CircularQueue<E> queue = new LinkedCircularQueue<>( );\n",
    "        for (int i=0; i<a.length; i++)\n",
    "        queue.enqueue(a[i]);\n",
    "        return queue;\n",
    "    }\n",
    "    /** Tester method */\n",
    "    public static void main(String[ ] args) {\n",
    "        String[ ] a1 = {\"Alice\", \"Bob\", \"Cindy\", \"Doug\", \"Ed\", \"Fred\"};\n",
    "        String[ ] a2 = {\"Gene\", \"Hope\", \"Irene\", \"Jack\", \"Kim\", \"Lance\"};\n",
    "        String[ ] a3 = {\"Mike\", \"Roberto\"};\n",
    "        System.out.println(\"First winner is \" + Josephus(buildQueue(a1), 2)+\"\\n\");\n",
    "        System.out.println(\"First winner is \" + Josephus(buildQueue(a1), 3)+\"\\n\");\n",
    "        System.out.println(\"Second winner is \" + Josephus(buildQueue(a2), 10)+\"\\n\");\n",
    "        System.out.println(\"Third winner is \" + Josephus(buildQueue(a3), 7));\n",
    "    }\n",
    "}\n",
    "\n",
    "Josephus Josephus_test = new Josephus();\n",
    "Josephus_test.main(new String[] {});"
   ]
  },
  {
   "cell_type": "code",
   "execution_count": 22,
   "metadata": {},
   "outputs": [],
   "source": [
    "// Escribe un código que resuelva el ṕroblema de Joseph para los presentes en clase pasando de a 4"
   ]
  },
  {
   "cell_type": "markdown",
   "metadata": {},
   "source": [
    "### Colas de doble sentido"
   ]
  },
  {
   "cell_type": "code",
   "execution_count": 23,
   "metadata": {
    "tags": []
   },
   "outputs": [],
   "source": [
    "/**\n",
    "* Interface for a double-ended queue: a collection of elements that can be inserted\n",
    "* and removed at both ends; this interface is a simplified version of java.util.Deque.\n",
    "*/\n",
    "public interface Deque<E> {\n",
    "    int size( );         // Returns the number of elements in the deque.\n",
    "    boolean isEmpty( );  // Tests whether the deque is empty.\n",
    "    E first( );          // Returns, but does not remove, the first element of the deque (null if empty).\n",
    "    E last( );           // Returns, but does not remove, the last element of the deque (null if empty).\n",
    "    void addFirst(E e);  // Inserts an element at the front of the deque.\n",
    "    void addLast(E e);   // Inserts an element at the back of the deque.\n",
    "    E removeFirst( );    // Removes and returns the first element of the deque (null if empty).\n",
    "    E removeLast();      // Removes and returns the last element of the deque (null if empty).\n",
    "}"
   ]
  },
  {
   "cell_type": "markdown",
   "metadata": {},
   "source": [
    "\n",
    "<p float=\"left\" style=\"text-align:center\">\n",
    "  <img src=\"img/dequeue.png\" width=\"600\" />\n",
    "</p>\n"
   ]
  },
  {
   "cell_type": "code",
   "execution_count": 24,
   "metadata": {},
   "outputs": [],
   "source": [
    "// Implementa un código que solucione el ejemplo anterior"
   ]
  },
  {
   "cell_type": "markdown",
   "metadata": {
    "id": "Or1WTJPor6y8"
   },
   "source": [
    "## Referencias\n",
    "\n",
    "### Libros\n",
    "\n",
    "- Michael T. Goodrich, Roberto Tamassia, y Michael H. Goldwasser. *Data Structures and Algorithms in Java™*. Wiley sexta edición, 2014. Capítulo 6, página 225.\n",
    "- Y. Daniel Liang. *Introduction to Java Programming and Data Structures, Comprehensive Version*. Pearson edición 12, 2019. Capítulo 20, paǵina dccxcviii.\n",
    "\n",
    "### Guias en Línea\n",
    "\n",
    "- [Collections in Java](https://www.javatpoint.com/collections-in-java)\n",
    "- [Class Vector<E>](https://docs.oracle.com/javase%2F8%2Fdocs%2Fapi%2F%2F/java/util/Collection.html)\n",
    "- [Data-Structures](https://github.com/shra012/Data-Structures)\n",
    "- [Openjdk - Collection test](https://github.com/openjdk/jdk/tree/master/test/jdk/java/util/Collection)\n",
    "- [Colecciones en OpenJDK](https://github.com/openjdk/jdk/tree/9ce21d1382a4f5ad601a7ee610bab64a9c575302/src/java.base/share/classes/java/util)"
   ]
  }
 ],
 "metadata": {
  "colab": {
   "provenance": []
  },
  "kernelspec": {
   "display_name": "Java",
   "language": "java",
   "name": "java"
  },
  "language_info": {
   "codemirror_mode": "java",
   "file_extension": ".jshell",
   "mimetype": "text/x-java-source",
   "name": "Java",
   "pygments_lexer": "java",
   "version": "11.0.22+7-post-Ubuntu-0ubuntu222.04.1"
  }
 },
 "nbformat": 4,
 "nbformat_minor": 4
}
