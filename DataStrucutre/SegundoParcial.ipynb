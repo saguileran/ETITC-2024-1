{
 "cells": [
  {
   "cell_type": "markdown",
   "id": "d9aa06fa-280e-47db-a132-46f0b69a766a",
   "metadata": {
    "tags": []
   },
   "source": [
    "# Segundo Parcial\n",
    "\n",
    "Utiliza solo los métodos presentes en [LinkedList.java - openjdk](https://github.com/openjdk/jdk/blob/master/src/java.base/share/classes/java/util/LinkedList.java#L1484), si necesitas algo más crea una función que haga lo que se requiere pero utilizando los métodos de la clase ya creada."
   ]
  },
  {
   "cell_type": "code",
   "execution_count": null,
   "id": "ed93e270",
   "metadata": {
    "vscode": {
     "languageId": "java"
    }
   },
   "outputs": [],
   "source": [
    "%%sh\n",
    "# Install java kernel\n",
    "wget -q https://github.com/SpencerPark/IJava/releases/download/v1.3.0/ijava-1.3.0.zip\n",
    "unzip -q ijava-1.3.0.zip\n",
    "python install.py\n",
    "\n",
    "# Install proxy for the java kernel\n",
    "wget -qO- https://gist.github.com/SpencerPark/e2732061ad19c1afa4a33a58cb8f18a9/archive/b6cff2bf09b6832344e576ea1e4731f0fb3df10c.tar.gz | tar xvz --strip-components=1\n",
    "python install_ipc_proxy_kernel.py --kernel=java --implementation=ipc_proxy_kernel.py"
   ]
  },
  {
   "cell_type": "code",
   "execution_count": 1,
   "id": "7b3d3aba-d1e5-4fd3-9747-e4062bd5ca60",
   "metadata": {
    "tags": [],
    "vscode": {
     "languageId": "java"
    }
   },
   "outputs": [],
   "source": [
    "import java.util.LinkedList;\n",
    "import java.util.Stack;\n",
    "import java.util.ListIterator;"
   ]
  },
  {
   "cell_type": "markdown",
   "id": "dd50d73c-f589-4104-baa6-e461d5bc30f3",
   "metadata": {},
   "source": [
    "## Lista Enlazada"
   ]
  },
  {
   "cell_type": "markdown",
   "id": "5f7ab164-3ac0-4198-893c-029a8aa8753f",
   "metadata": {},
   "source": [
    "### Lista Enlazada Simple\n",
    "\n",
    "Agrega los códigos que ejecuten la tarea requerida, llena los espacios después de los comentarios."
   ]
  },
  {
   "cell_type": "code",
   "execution_count": 5,
   "id": "eec0f387-c7df-4509-9b0d-134c47ac646a",
   "metadata": {
    "tags": [],
    "vscode": {
     "languageId": "java"
    }
   },
   "outputs": [
    {
     "name": "stdout",
     "output_type": "stream",
     "text": [
      "1: []\n",
      "2: []\n",
      "3: []\n",
      "4: []\n",
      "7: []\n",
      "8: []\n",
      "10: []\n",
      "11: []\n"
     ]
    }
   ],
   "source": [
    "public class Linked_List{\n",
    "    public static void main(Integer[] args) {\n",
    "        // objetos auxiliares\n",
    "        Object primero;\n",
    "        Object ultimo;\n",
    "        Object index2;\n",
    "        \n",
    "        /// 1. Primero crea la lista enlazada\n",
    "        LinkedList linked_list = new LinkedList(); \n",
    "        System.out.println(\"1: \"+linked_list);\n",
    "        \n",
    "        /// 2. Agrega cada elemento de args a la lista enlazada\n",
    "        \n",
    "        System.out.println(\"2: \"+linked_list);\n",
    "        \n",
    "        /// 3. Quita el elemento en la posición 2, selecciona el indice correcto\n",
    "        \n",
    "        System.out.println(\"3: \"+linked_list);\n",
    "        \n",
    "        /// 4. Agrega el número 77 en la posición 3\n",
    "        \n",
    "        System.out.println(\"4: \"+linked_list);\n",
    "        \n",
    "        /// 5. Recupera sin eliminar de la lista el primer número (head-first)\n",
    "        /// guardalo en una variable llamada primero\n",
    "        \n",
    "        //System.out.println(\"5: \"+linked_list+\"\\n  Primer Número: \"+primero);\n",
    "        \n",
    "        \n",
    "        /// 6. Recupera y elimina de la lista el último número (head-first)\n",
    "        // guardalo en una variable llamada ultimo\n",
    "        \n",
    "        //System.out.println(\"6: \"+linked_list+\"\\n  Último Número: \"+ultimo);\n",
    "        \n",
    "        /// 7. Elimina el último elemento\n",
    "        \n",
    "        System.out.println(\"7: \"+linked_list);\n",
    "        \n",
    "        /// 8. Actualiza el elemento 1 a 100\n",
    "        \n",
    "        System.out.println(\"8: \"+linked_list);\n",
    "        \n",
    "        /// 9. Encuentra el indice el número 2\n",
    "        \n",
    "        //System.out.println(\"9: \"+index2);\n",
    "        \n",
    "        /// 10. Quita todos los elementos de la lista\n",
    "        \n",
    "        System.out.println(\"10: \"+linked_list);\n",
    "        \n",
    "        /// 11. Agrega un método diferente a los usados que este \n",
    "        /// en la clase LinkedList, además imprime su resultado \n",
    "        System.out.println(\"11: \"+linked_list);\n",
    "    }\n",
    "}\n",
    "\n",
    "/// crea una lista enlazada apartir de la lista simple {0,1,1,2,3,5,7}, \n",
    "/// crea una variable llamada \"lista_args\" y asignales los valores {0,1,1,2,3,5,7}\n",
    "Integer[] lista_args = {0,1,1,2,3,5,7};\n",
    "/// Crea una lista enlazada vacia y llamala primer_punto\n",
    "Linked_List primer_punto = new Linked_List();\n",
    "/// Ejecuta la función main utilizando la lista lista_args\n",
    "primer_punto.main(lista_args);"
   ]
  },
  {
   "cell_type": "markdown",
   "id": "67df432b-6ca4-4bd5-b513-2553a3518648",
   "metadata": {},
   "source": [
    "Además, dibuje un diagrama de como se vería la lista enlazada en el paso número 7, no olviden colocar donde esta la cabeza y donde esta la cola. Sigan el ejemplo de la siguiente iamgen:\n",
    "\n",
    "![Listas enlazadas para suma de números grandes](https://raw.githubusercontent.com/saguileran/ETITC-2024-2/main/DataStrucutre/img/Linked_list_example.png)\n",
    "\n",
    "\n",
    "Imagen tomada de y adaptada de [192. Doubly Linked List Complete Implementation\n",
    "](https://tutorialhorizon.com/algorithms/doubly-linked-list-complete-implementation/)."
   ]
  },
  {
   "cell_type": "markdown",
   "id": "13de2106-8a5f-4ca6-8526-71f60af64e91",
   "metadata": {},
   "source": [
    "### Aplicación Lista Enlazada: Números Grandes\n",
    "\n",
    "Listas enlazadas para suma de números gigantes. \n",
    "\n",
    "Crea dos clases o una clase con varias funciones donde se creen dos listas enlazadas para almacenar dos números grandes como se muestra en la siguiente figura:\n",
    "\n",
    "![Listas enlazadas para suma de números grandes](https://raw.githubusercontent.com/saguileran/ETITC-2024-2/main/DataStrucutre/img/linked_list_big_numbers.png)\n",
    "\n",
    "Los objetos deben llamarse numero1 y numero2. El pimer elemento de cada lista enlazada debe ser el último digito del número grande correspondiente, los números \n",
    "\n",
    "Mayor información del problema [Application of Linked List](https://www.javatpoint.com/application-of-linked-list)."
   ]
  },
  {
   "cell_type": "code",
   "execution_count": 36,
   "id": "addcfa8e-0f93-446a-8a09-e99c8f5fd1f1",
   "metadata": {
    "tags": [],
    "vscode": {
     "languageId": "java"
    }
   },
   "outputs": [
    {
     "name": "stdout",
     "output_type": "stream",
     "text": [
      "[o, d, n, u, m,  , a, l, o, H]\n",
      "[H, o, l, a,  , m, u, n, d, o]\n",
      "Hola mundo\n"
     ]
    }
   ],
   "source": [
    "/// Agrega los elementos de una string a una lista enlazada \n",
    "/// en orden inverso, el primer número es el último número en guardarse\n",
    "public static LinkedList StringToLinkedList(String num_string){\n",
    "    /// 1. Crea una lista enlazada vacia llamada numero\n",
    "    \n",
    "    /// 2. Agrega los elementos en orden inverso a a lista \n",
    "    \n",
    "    \n",
    "    return numero;  // retorna la lista creada\n",
    "}\n",
    "\n",
    "\n",
    "public LinkedList Reversed(LinkedList resultado){\n",
    "    /// 3. Implementa un código que dada una lista enlazada retorne otra lista\n",
    "    /// enlazada pero al reves. Utiliza las funciones add y get, además de un for\n",
    "    \n",
    "    return resultado_reversed;\n",
    "}\n",
    "\n",
    "public String ConvertToString(LinkedList resultado){\n",
    "    ListIterator list_Iter = resultado.listIterator(0);\n",
    "    /// 4. Define una string vacia llamada resultado_str\n",
    "    \n",
    "    \n",
    "    while(list_Iter.hasNext()){ \n",
    "        /// 5. Agrega cada elemento a la lista, utiliza el operador += y suma el elemento list_Iter.next()\n",
    "    \n",
    "    }\n",
    "    return resultado_str;\n",
    "}\n",
    "\n",
    "\n",
    "// -------------- PRUEBA LAS FUNCIOENS --------------\n",
    "LinkedList List1 = StringToLinkedList(\"Hola mundo\");\n",
    "LinkedList List2 = Reversed(List1);\n",
    "String final_string = ConvertToString(List2);\n",
    "System.out.println(List1);\n",
    "System.out.println(List2);\n",
    "System.out.println(final_string);"
   ]
  },
  {
   "cell_type": "markdown",
   "id": "a1b9a382-b034-4684-9491-d50fa8a7d680",
   "metadata": {},
   "source": [
    "Clase final para la suma de las listas"
   ]
  },
  {
   "cell_type": "code",
   "execution_count": 39,
   "id": "37661041-3d9a-42c6-ae33-8acfa9438546",
   "metadata": {
    "tags": [],
    "vscode": {
     "languageId": "java"
    }
   },
   "outputs": [
    {
     "name": "stdout",
     "output_type": "stream",
     "text": [
      "Lista Enlazada 1: [7, 6, 4, 3, 4, 5]\n",
      "Lista Enlazada 2: [5, 1, 3, 8, 4]\n",
      "\n",
      "Pasos generados para guardar la suma en la lista enlazdaa resultado: \n",
      "[2]\n",
      "[2, 8]\n",
      "[2, 8, 7]\n",
      "[2, 8, 7, 1]\n",
      "[2, 8, 7, 1, 9]\n",
      "[2, 8, 7, 1, 9, 5]\n",
      "\n",
      "Suma final lista enlazada: [5, 9, 1, 7, 8, 2]\n",
      "Suma final: 591782\n"
     ]
    }
   ],
   "source": [
    "// Suma dos strings\n",
    "public LinkedList SumaListas(String num_string_1, String num_string_2){\n",
    "    /// 1. Convierte las strings ingresadas a listas enlazadas usando la función \"StringToLinkedList\"\n",
    "    \n",
    "    \n",
    "    System.out.println(\"Lista Enlazada 1: \"+numero1);\n",
    "    System.out.println(\"Lista Enlazada 2: \"+numero2+\"\\n\");\n",
    "    \n",
    "    ListIterator list_Iter1 = numero1.listIterator(0);\n",
    "    ListIterator list_Iter2 = numero2.listIterator(0);\n",
    "    \n",
    "    /// 2. crear una lista enlazada vacía y llamala resultado\n",
    "\n",
    "    int count = 0;\n",
    "    \n",
    "    System.out.println(\"Pasos generados para guardar la suma en la lista enlazdaa resultado: \");  \n",
    "    while(list_Iter1.hasNext() && list_Iter2.hasNext()){\n",
    "        int sumando1 = Character.getNumericValue((char) list_Iter1.next());\n",
    "        int sumando2 = Character.getNumericValue((char) list_Iter2.next());\n",
    "        \n",
    "        /// 3. Crea una variable int donde guardes la suma de sumando1 y sumando2, llamala res\n",
    "        \n",
    "        \n",
    "        /// 4. Crea un ciclo if else para agregar la variblaes res a la lista enlazada resultado,\n",
    "        /// recuerda que si se pasa de 9 la suma se define count=1 y este se debe tenerse en cuenta\n",
    "        /// para el siguiente sumando\n",
    "        \n",
    "        \n",
    "        System.out.println(resultado);  \n",
    "    }\n",
    "    /// 5. Agrega los elementos que faltan del número más largo\n",
    "    while(list_Iter1.hasNext()){ \n",
    "        int sumando = Character.getNumericValue((char) list_Iter1.next());\n",
    "        /// 6. Agrega a resultado la variable sumando+count \n",
    "        \n",
    "        count = 0;\n",
    "    }\n",
    "    System.out.println(resultado);\n",
    "    \n",
    "    /// 7. Utiliza la función reverse y guarda su resultado en una lista enlazada llamada resultado_reversed\n",
    "    \n",
    "    return resultado_reversed;\n",
    "}\n",
    "\n",
    "// ----------------------- PRUEBA CON ALGUNOS NÚMEROS ---------------------------\n",
    "String num_string_1 = \"543467\"; //210\n",
    "String num_string_2 = \"48315\";\n",
    "LinkedList reversed = SumaListas(num_string_1, num_string_2);\n",
    "System.out.println(\"\\nSuma final lista enlazada: \"+reversed);\n",
    "System.out.println(\"Suma final: \"+ConvertToString(reversed));"
   ]
  },
  {
   "cell_type": "markdown",
   "id": "80e3eec1-d0fd-471e-a974-3f82e9562db9",
   "metadata": {},
   "source": [
    "## Pilas (Stacks)\n",
    "\n",
    "Para este punto vamos a utilizar el código presente en el libro Data Structures and Algorithms in Java, capítulo 6.1 página 235.\n"
   ]
  },
  {
   "cell_type": "code",
   "execution_count": 10,
   "id": "d1c5207e-229b-494b-8ac4-9d70c506711a",
   "metadata": {
    "tags": [],
    "vscode": {
     "languageId": "java"
    }
   },
   "outputs": [
    {
     "name": "stdout",
     "output_type": "stream",
     "text": [
      "String '( )(( )){([( )])}' is matched? true\n"
     ]
    }
   ],
   "source": [
    "public static boolean isMatched(String expression) {\n",
    "    final String opening = \"({[\";              // opening delimiters\n",
    "    final String closing = \")}]\";              // respective closing delimiters\n",
    "    Stack<Character> buffer = new Stack<>( );\n",
    "    \n",
    "    for (char c : expression.toCharArray( )) {\n",
    "        if (opening.indexOf(c) != -1)          // this is a left delimiter\n",
    "            buffer.push(c);\n",
    "        else if (closing.indexOf(c) != -1) {   // this is a right delimiter\n",
    "            if (buffer.isEmpty( ))             // nothing to match with\n",
    "                return false;\n",
    "            if (closing.indexOf(c) != opening.indexOf(buffer.pop( )))\n",
    "                return false;                  // mismatched delimiter\n",
    "        }\n",
    "    }\n",
    "    return buffer.isEmpty( );                  // were all opening delimiters matched?\n",
    "}\n",
    "\n",
    "String string1 = \"( )(( )){([( )])}\";     // Correcto\n",
    "String string2 = \"((( )(( )){([( )])}))\"; // Correcto\n",
    "String string3 = \")(( )){([( )])}\";\n",
    "String string4 = \"({[ ])}\";\n",
    "String string5 = \"(\";\n",
    "\n",
    "// Creen cuatro líneas más donde prueben las demás strings\n",
    "System.out.println(\"String '\"+string1+\"' is matched? \"+isMatched(string1));"
   ]
  },
  {
   "cell_type": "markdown",
   "id": "049c1a0d-0d32-422e-9e8e-63fe2feee8aa",
   "metadata": {
    "tags": []
   },
   "source": [
    "Edita la función anterior para que ahora resuleva un problema análogo pero añade los signos de puntuación: ¿?, !¡ y los brackets <>. En este caso tenemos más carácteres, letras, agreguen el código que vean necesario para resolver ese problema, si es que es necesario."
   ]
  },
  {
   "cell_type": "code",
   "execution_count": 12,
   "id": "ffb12bd2-6179-4c2f-b0ec-b8f1de7c6624",
   "metadata": {
    "tags": [],
    "vscode": {
     "languageId": "java"
    }
   },
   "outputs": [
    {
     "name": "stdout",
     "output_type": "stream",
     "text": [
      "Text: '<La ingeniería de sistemas es un campo emocionante y dinámico, ¿no te parece? ¡Explora el mundo de la tecnología y la innovación! Conviértete en el arquitecto de soluciones del futuro. ¿Te imaginas diseñar sistemas que transformen la manera en que vivimos y trabajamos? ¡Eso es posible con la ingeniería de sistemas! Desde la programación hasta la gestión de proyectos, ¡hay tanto por descubrir! ¿Quieres construir un mundo más conectado y eficiente? ¡La ingeniería de sistemas te brinda las herramientas para hacerlo posible! ¡No esperes más para sumergirte en esta apasionante disciplina!>'\n",
      "  is it matched including punctuations? true\n"
     ]
    }
   ],
   "source": [
    "public static boolean isMatched_punctuation(String expression) {\n",
    "    /// 1. Define las strings de los signos abiertos y cerrados, incluye los solicitdas\n",
    "    \n",
    "    Stack<Character> buffer = new Stack<>( );\n",
    "    \n",
    "    \n",
    "    /// 2. modifica el siguiente texto para que acepte strings con letras, si es necesario\n",
    "    for (char c : expression.toCharArray( )) {\n",
    "        if (opening.indexOf(c) != -1)          // this is a left delimiter\n",
    "            buffer.push(c);\n",
    "        else if (closing.indexOf(c) != -1) {   // this is a right delimiter\n",
    "            if (buffer.isEmpty( ))             // nothing to match with\n",
    "                return false;\n",
    "            if (closing.indexOf(c) != opening.indexOf(buffer.pop( )))\n",
    "                return false;                  // mismatched delimiter\n",
    "        }\n",
    "    }\n",
    "    return buffer.isEmpty( );                  // were all opening delimiters matched?\n",
    "}\n",
    "\n",
    "// Strings de prueba\n",
    "String texto1 = \"<La ingeniería de sistemas es un campo emocionante y dinámico, ¿no te parece? ¡Explora el mundo de la tecnología y la innovación! Conviértete en el arquitecto de soluciones del futuro. ¿Te imaginas diseñar sistemas que transformen la manera en que vivimos y trabajamos? ¡Eso es posible con la ingeniería de sistemas! Desde la programación hasta la gestión de proyectos, ¡hay tanto por descubrir! ¿Quieres construir un mundo más conectado y eficiente? ¡La ingeniería de sistemas te brinda las herramientas para hacerlo posible! ¡No esperes más para sumergirte en esta apasionante disciplina!>\";\n",
    "String texto2 = \"<>¿no te parece? ¡Explora el mundo de la tecnología y la innovación! Conviértete en el arquitecto de soluciones del futuro. ¿Te imaginas diseñar sistemas que transformen la manera en que vivimos y trabajamos? ¡Eso es posible con la ingeniería de sistemas! Desde la programación hasta la gestión de proyectos, ¡hay tanto por descubrir! ¿Quieres construir un mundo más conectado y eficiente? ¡La ingeniería de sistemas te brinda las herramientas !para hacerlo posible! ¡No esperes más para sumergirte en esta apasionante disciplina!\";\n",
    "String texto3 = \"¿La ingeniería de sistemas es un campo emocionante y dinámico, ¿no te parece? ¡Explora el mundo de la tecnología y la innovación! Conviértete en el arquitecto de soluciones del futuro. ¿Te imaginas diseñar sistemas que transformen la manera en que vivimos y trabajamos? ¡Eso es posible con la ingeniería de sistemas! Desde la programación hasta la gestión de proyectos, ¡hay tanto por descubrir! ¿Quieres construir un mundo más conectado y eficiente? ¡La ingeniería de sistemas te brinda las herramientas !para hacerlo posible! ¡No esperes más para sumergirte en esta apasionante disciplina!\";\n",
    "String texto4 = \"zasdasd <Z> ?!¡\";\n",
    "String texto5 = \"¿<¡!>?\";\n",
    "\n",
    "\n",
    "/// 3. Agrega otras 4 líneas donde se prueben los textos anteriores\n",
    "System.out.println(\"Text: '\"+texto1+\"'\\n  is it matched including punctuations? \"+isMatched_punctuation(texto1));"
   ]
  },
  {
   "cell_type": "markdown",
   "id": "e8ad5abb-e216-458a-95e5-a2071bcd4bc7",
   "metadata": {},
   "source": [
    "## Fila (Queues)\n",
    "\n",
    "El último punto consiste en implementar una fila utilizando la clase de java Queue. Creen una pila de strings donde emule la fila a una estación de trasmilenio \n",
    "\n",
    "![Listas enlazadas para suma de números grandes](https://www.transmilenio.gov.co/publicaciones/151703/acciones-de-transmilenio-para-controlar-flujo-de-usuarios/info/transmilenio/media/pubInt151703.jpg)\n",
    "\n",
    "Utilicen el códgio que creamos en clase, no editen nada de la siguiente casilla."
   ]
  },
  {
   "cell_type": "code",
   "execution_count": 8,
   "id": "79b7d097-625c-4892-a62d-db1068b3136e",
   "metadata": {
    "tags": [],
    "vscode": {
     "languageId": "java"
    }
   },
   "outputs": [],
   "source": [
    "// --------------------------- NO EDITAR ESTA CASILLA ---------------------------\n",
    "public interface Queue_Interface<E> {\n",
    "    int size( );          // Returns the number of elements in the queue.\n",
    "    boolean isEmpty( );   // Tests whether the queue is empty.\n",
    "    void enqueue(E e);    // Inserts an element at the rear of the queue.\n",
    "    E first( );           // Returns, but does not remove, the first element of the queue (null if empty).\n",
    "    E dequeue( );         // Removes and returns the first element of the queue (null if empty).\n",
    "}\n",
    "\n",
    "/** Implementation of the queue ADT using a fixed-length array. **/\n",
    "public class ArrayQueue<E> implements Queue_Interface<E> {\n",
    "    // instance variables\n",
    "    private E[ ] data; // generic array used for storage\n",
    "    private int f = 0; // index of the front element\n",
    "    private int sz = 0; // current number of elements\n",
    "    private int capacity = 16;\n",
    "    // constructors\n",
    "    ///public ArrayQueue( ) {this(CAPACITY);} // constructs queue with default capacity\n",
    "    public ArrayQueue(int capacity) { // constructs queue with given capacity\n",
    "        data = (E[ ]) new Object[capacity]; // safe cast; compiler may give warning\n",
    "    }\n",
    "    // methods\n",
    "    /** Returns the number of elements in the queue. **/\n",
    "    public int size( ) { return sz; }\n",
    "\n",
    "    /** Tests whether the queue is empty. */\n",
    "    public boolean isEmpty( ) { return (sz == 0); }\n",
    "    /** Inserts an element at the rear of the queue. **/\n",
    "    public void enqueue(E e) throws IllegalStateException {\n",
    "        if (sz == data.length) throw new IllegalStateException(\"Queue is full\");\n",
    "        int avail = (f + sz) % data.length; // use modular arithmetic\n",
    "        data[avail] = e;\n",
    "        sz++;\n",
    "    }\n",
    "    /** Returns, but does not remove, the first element of the queue (null if empty). */\n",
    "    public E first( ) {\n",
    "        if (isEmpty( )) return null;\n",
    "        return data[f];\n",
    "    }\n",
    "\n",
    "    /** Removes and returns the first element of the queue (null if empty). */\n",
    "    public E dequeue( ) {\n",
    "        if (isEmpty( )) return null;\n",
    "        E answer = data[f];\n",
    "        data[f] = null;\n",
    "        // dereference to help garbage collection\n",
    "        f = (f + 1) % data.length;\n",
    "        sz--;\n",
    "        return answer;\n",
    "    }\n",
    "}"
   ]
  },
  {
   "cell_type": "markdown",
   "id": "03fab53e-9ab3-405a-9697-a8ccb0a27bd1",
   "metadata": {},
   "source": [
    "La idea es que implementen los siguientes pasos, adicionalmente les doy la acción que deben traducir a códigos (métodos de la fila). Los métodos los pueden revisar en la anterior casilla.\n",
    "\n",
    "| **Paso** |                **Acción**               | **Return Value** | **first ← Q ← last** |\n",
    "|:--------:|:---------------------------------------:|:----------------:|:--------------------:|\n",
    "|     1    |            poner en la cola 0           |         –        |          (0)         |\n",
    "|     2    |            poner en la cola 7           |         –        |        (0, 7)        |\n",
    "|     3    |               tamaño fila               |         2        |        (0, 7)        |\n",
    "|     4    |             remueve la cola             |         7        |          (0)         |\n",
    "|     5    |               ¿esta vacío?              |       false      |          (0)         |\n",
    "|     6    |             remueve la cola             |         0        |          ()          |\n",
    "|     7    |               ¿esta vacío?              |       true       |          ()          |\n",
    "|     8    |             remueve la cola             |       null       |          ()          |\n",
    "|     9    |            poner en la cola 9           |         –        |          (9)         |\n",
    "|    10    |           poner en la cola 13           |         –        |        (9, 13)       |\n",
    "|    11    | retorna sin eliminar el primer elemento |         7        |        (7, 9)        |\n",
    "|    12    |           poner en la cola 42           |         –        |      (7, 9, 42)      |\n",
    "|    13    |              vacía la fila              |         -        |          ()          |"
   ]
  },
  {
   "cell_type": "code",
   "execution_count": 10,
   "id": "7e72aea9-b340-4b3b-8805-436e906dc68e",
   "metadata": {
    "vscode": {
     "languageId": "java"
    }
   },
   "outputs": [],
   "source": [
    "// ----------------------- AQUÍ VA EL CÓDIGO -----------------------\n",
    "\n",
    "/// 0. crea la fila\n",
    "ArrayQueue fila = new ArrayQueue(16);\n",
    "/// 1. poner en la cola 0\n",
    "\n",
    "/// 2. poner en la cola 7\n",
    "\n",
    "/// 3. tamaño fila\n",
    "\n",
    "/// 4. remueve la cola\n",
    "\n",
    "/// 5. ¿esta vacío?\n",
    "\n",
    "/// 6. remueve la cola\n",
    "\n",
    "/// 7. ¿esta vacío?\n",
    "\n",
    "/// 8. remueve la cola\n",
    "\n",
    "/// 9. poner en la cola 9\n",
    "\n",
    "/// 10. poner en la cola 13\n",
    "\n",
    "/// 11. retorna sin eliminar el primer elemento\n",
    "\n",
    "/// 12. poner en la cola 42\n",
    "\n",
    "/// 13. vacía la fila\n"
   ]
  },
  {
   "cell_type": "markdown",
   "id": "6f0cee3e-4884-4001-a1de-e27faa99f911",
   "metadata": {},
   "source": [
    "Entreguen el notebook generado o los archivos java creados.\n",
    "\n",
    "¡Fin del parcial!"
   ]
  }
 ],
 "metadata": {
  "kernelspec": {
   "display_name": "Java",
   "language": "java",
   "name": "java"
  },
  "language_info": {
   "codemirror_mode": "java",
   "file_extension": ".jshell",
   "mimetype": "text/x-java-source",
   "name": "Java",
   "pygments_lexer": "java",
   "version": "11.0.22+7-post-Ubuntu-0ubuntu222.04.1"
  }
 },
 "nbformat": 4,
 "nbformat_minor": 5
}
