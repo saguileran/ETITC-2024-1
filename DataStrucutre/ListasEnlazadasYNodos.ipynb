{
  "nbformat": 4,
  "nbformat_minor": 0,
  "metadata": {
    "colab": {
      "provenance": [],
      "collapsed_sections": [
        "3k1v5Ic-DlJK"
      ],
      "include_colab_link": true
    },
    "kernelspec": {
      "name": "java",
      "display_name": "java"
    },
    "language_info": {
      "name": "java"
    }
  },
  "cells": [
    {
      "cell_type": "markdown",
      "metadata": {
        "id": "view-in-github",
        "colab_type": "text"
      },
      "source": [
        "<a href=\"https://colab.research.google.com/github/saguileran/ETITC-2024-2/blob/main/DataStrucutre/ListasEnlazadasYNodos.ipynb\" target=\"_parent\"><img src=\"https://colab.research.google.com/assets/colab-badge.svg\" alt=\"Open In Colab\"/></a>"
      ]
    },
    {
      "cell_type": "markdown",
      "source": [
        "# Referencias, listas enlazadas, y nodos\n",
        "\n",
        "\n",
        "\n"
      ],
      "metadata": {
        "id": "RW2r7GwiY84R"
      }
    },
    {
      "cell_type": "markdown",
      "source": [
        "## Importando Java\n",
        "\n",
        "La siguiente casilla tiene el código necesario para poder ejecutar cóndigos de java en Google Colab"
      ],
      "metadata": {
        "id": "3k1v5Ic-DlJK"
      }
    },
    {
      "cell_type": "code",
      "execution_count": 1,
      "metadata": {
        "id": "ycRGxVCzUD0N",
        "colab": {
          "base_uri": "https://localhost:8080/"
        },
        "outputId": "19fb6c43-51ef-463c-8aec-8a66b8fd56a5"
      },
      "outputs": [
        {
          "output_type": "stream",
          "name": "stdout",
          "text": [
            "Installed java kernel into \"/usr/local/share/jupyter/kernels/java\"\n",
            "e2732061ad19c1afa4a33a58cb8f18a9-b6cff2bf09b6832344e576ea1e4731f0fb3df10c/install_ipc_proxy_kernel.py\n",
            "e2732061ad19c1afa4a33a58cb8f18a9-b6cff2bf09b6832344e576ea1e4731f0fb3df10c/ipc_proxy_kernel.py\n",
            "Moving java kernel from /usr/local/share/jupyter/kernels/java...\n",
            "Wrote modified kernel.json for java_tcp in /usr/local/share/jupyter/kernels/java_tcp/kernel.json\n",
            "Installing the proxy kernel in place of java in /usr/local/share/jupyter/kernels/java\n",
            "Installed proxy kernelspec: {\"argv\": [\"/usr/bin/python3\", \"/usr/local/share/jupyter/kernels/java/ipc_proxy_kernel.py\", \"{connection_file}\", \"--kernel=java_tcp\"], \"env\": {}, \"display_name\": \"Java\", \"language\": \"java\", \"interrupt_mode\": \"message\", \"metadata\": {}}\n",
            "Proxy kernel installed. Go to 'Runtime > Change runtime type' and select 'java'\n"
          ]
        },
        {
          "output_type": "stream",
          "name": "stderr",
          "text": [
            "/content/install.py:164: DeprecationWarning: replace is ignored. Installing a kernelspec always replaces an existing installation\n",
            "  install_dest = KernelSpecManager().install_kernel_spec(\n"
          ]
        }
      ],
      "source": [
        "%%sh\n",
        "# Install java kernel\n",
        "wget -q https://github.com/SpencerPark/IJava/releases/download/v1.3.0/ijava-1.3.0.zip\n",
        "unzip -q ijava-1.3.0.zip\n",
        "python install.py\n",
        "\n",
        "# Install proxy for the java kernel\n",
        "wget -qO- https://gist.github.com/SpencerPark/e2732061ad19c1afa4a33a58cb8f18a9/archive/b6cff2bf09b6832344e576ea1e4731f0fb3df10c.tar.gz | tar xvz --strip-components=1\n",
        "python install_ipc_proxy_kernel.py --kernel=java --implementation=ipc_proxy_kernel.py"
      ]
    },
    {
      "cell_type": "markdown",
      "source": [
        "## Referencias"
      ],
      "metadata": {
        "id": "lMw6WTPfheu7"
      }
    },
    {
      "cell_type": "markdown",
      "source": [
        " En la terminología de la programación orientada a objetos, los miembros de un objeto son sus campos de datos y métodos. Una vez creado un objeto se puede acceder a sus datos e invocar sus métodos mediante el *operador de punto* (.), también conocido como *operador de acceso a los miembros de un objeto*:\n",
        "\n",
        "```java\n",
        "- objectRefVar.dataField          // references a data field in the object.\n",
        "- objectRefVar.method(arguments)  // invokes a method on the object.\n",
        "```"
      ],
      "metadata": {
        "id": "GjR-07A8g46O"
      }
    },
    {
      "cell_type": "code",
      "source": [
        "System.out.println(Math.pow(3, 2.5));"
      ],
      "metadata": {
        "colab": {
          "base_uri": "https://localhost:8080/"
        },
        "id": "WtULJScbhhrz",
        "outputId": "a2b8fb54-c5ae-4e9f-a499-5a85632a9f74"
      },
      "execution_count": 9,
      "outputs": [
        {
          "output_type": "stream",
          "name": "stdout",
          "text": [
            "15.588457268119896\n"
          ]
        }
      ]
    },
    {
      "cell_type": "code",
      "source": [
        "class Student {\n",
        "  String name; // name has the default value null\n",
        "  int age; // age has the default value 0\n",
        "  boolean isScienceMajor; // isScienceMajor has default value false\n",
        "  char gender; // gender has default value '\\u0000'\n",
        "}\n",
        "\n",
        "//Student Sebas = new Student();\n",
        "//System.out.println(Sebas.name);\n",
        "\n",
        "class TestStudent {\n",
        "  public static void main() {\n",
        "    Student student = new Student();\n",
        "    System.out.println(\"name? \" + student.name);\n",
        "    System.out.println(\"age? \" + student.age);\n",
        "    System.out.println(\"isScienceMajor? \" + student.isScienceMajor);\n",
        "    System.out.println(\"gender? \" + student.gender);\n",
        "  }\n",
        "}\n",
        "TestStudent testSebas = new TestStudent();\n",
        "testSebas.main();"
      ],
      "metadata": {
        "colab": {
          "base_uri": "https://localhost:8080/"
        },
        "id": "AZQn2twxh6gI",
        "outputId": "77a7e4f2-92bf-49de-9fbf-4f1cac1b500c"
      },
      "execution_count": 59,
      "outputs": [
        {
          "output_type": "stream",
          "name": "stdout",
          "text": [
            "name? null\n",
            "age? 0\n",
            "isScienceMajor? false\n",
            "gender? \u0000\n"
          ]
        }
      ]
    },
    {
      "cell_type": "markdown",
      "source": [
        "**Actividad**\n",
        "\n",
        "Agrega cinco líneas más a la anterior casilla: 3 utilziando métodos y 2 sobre campos. Busca y revisa los métodos y atributos que tiene la libreria math de java o puedes seleccionar alguno de los siguientes paquetes y explorarlo:\n",
        "\n",
        "- La clase Random (9.6.2)\n",
        "- La clase Date (9.6.3)\n",
        "- La clase Math"
      ],
      "metadata": {
        "id": "7qqP-uvNiGuN"
      }
    },
    {
      "cell_type": "markdown",
      "source": [
        "## Listas Simples\n",
        "\n",
        "Un array es una estructura de datos de tamaño fijo. Una vez creada una matriz, su tamaño no puede modificarse. Sin embargo, se pueden utilizar arrays para implementar estructuras de datos dinámicas. El truco consiste en crear una nueva matriz más grande para reemplazar la matriz actual, si la matriz actual no puede contener nuevos elementos en la lista. elementos de la lista.\n",
        "\n",
        "Inicialmente, un array, digamos datos de tipo `E[]`, se crea con un tamaño por defecto. Al insertar un nuevo elemento en el array, primero hay que asegurarse de que hay espacio suficiente en el array. Si no es así, cree  una nueva matriz el doble de grande que la actual. Copie los elementos del array actual al nueva matriz. La nueva matriz pasa a ser la matriz actual. Antes de insertar un nuevo elemento en un índice especificado, desplaza todos los elementos después del índice hacia la derecha y aumenta el tamaño de la lista en 1.\n"
      ],
      "metadata": {
        "id": "pipSXksx1EhU"
      }
    },
    {
      "cell_type": "markdown",
      "source": [
        "## Operaciones comunes de las listas\n",
        "**Las operaciones comunes de las listas se definen en la interfaz Lista**\n",
        "\n",
        "Una lista es una estructura de datos muy utilizada para almacenar datos en orden secuencial. estudiantes, una lista de habitaciones disponibles, una lista de ciudades y una lista de libros. Puede realizar las siguientes operaciones con una lista siguientes operaciones con una lista:\n",
        "\n",
        "- Recuperar un elemento de la lista.\n",
        "- Insertar un nuevo elemento en la lista.\n",
        "- Borrar un elemento de la lista.\n",
        "- Averiguar cuántos elementos hay en la lista.\n",
        "- Determinar si un elemento está en la lista.\n",
        "- Comprobar si la lista está vacía."
      ],
      "metadata": {
        "id": "SbuukZdm7wAT"
      }
    },
    {
      "cell_type": "markdown",
      "source": [
        "**Actividad en clase:** Implementar y probar el código de la página 951 y el código de la página 956."
      ],
      "metadata": {
        "id": "-7SzMrUM79X-"
      }
    },
    {
      "cell_type": "code",
      "source": [
        " import java.util.Collection;\n",
        "\n",
        "  public interface MyList<E> extends Collection<E> {\n",
        "    /** Add a new element at the specified index in this list */\n",
        "    public void add(int index, E e);\n",
        "\n",
        "    /** Return the element from this list at the specified index */\n",
        "    public E get(int index);\n",
        "\n",
        "    /** Return the index of the first matching element in this list.\n",
        "    *  Return −1 if no match. */\n",
        "    public int indexOf(Object e);\n",
        "\n",
        "    /** Return the index of the last matching element in this list\n",
        "    *  Return −1 if no match. */\n",
        "    public int lastIndexOf(E e);\n",
        "     /** Remove the element at the specified position in this list\n",
        "     *  Shift any subsequent elements to the left.\n",
        "      *  Return the element that was removed from the list. */\n",
        "    public E remove(int index);\n",
        "\n",
        "     /** Replace the element at the specified position in this list\n",
        "      *  with the specified element and returns the new set. */\n",
        "    public E set(int index, E e);\n",
        "\n",
        "    @Override /** Add a new element at the end of this list */\n",
        "    public default boolean add(E e) {\n",
        "       add(size(), e);\n",
        "       return true;\n",
        "    }\n",
        "\n",
        "    @Override /** Return true if this list contains no elements */\n",
        "    public default boolean isEmpty() {\n",
        "      return size() == 0;\n",
        "    }\n",
        "\n",
        "    @Override /** Remove the first occurrence of the element e\n",
        "    * from this list. Shift any subsequent elements to the left.\n",
        "    * Return true if the element is removed. */\n",
        "    public default boolean remove(Object e) {\n",
        "      if (indexOf(e) >= 0) {\n",
        "         remove(indexOf(e));\n",
        "         return true;\n",
        "       }\n",
        "      else\n",
        "        return false;\n",
        "    }\n",
        "}"
      ],
      "metadata": {
        "id": "m5Y-WVm25Wbj"
      },
      "execution_count": 214,
      "outputs": []
    },
    {
      "cell_type": "code",
      "source": [
        "import java.util.Collection;\n",
        "\n",
        "public interface MyList<E> extends java.lang.Iterable<E> {\n",
        "\t/** Add a new element at the end of this list */\n",
        "\tpublic void add(E e);\n",
        "\n",
        "\t/** Add a new element at the specified index in this list */\n",
        "\tpublic void add(int index, E e);\n",
        "\n",
        "\t/** Clear the list */\n",
        "\tpublic void clear();\n",
        "\n",
        "\t/** Return true if this list contains the element */\n",
        "\tpublic boolean contains(E e);\n",
        "\n",
        "\t/** Return the element from this list at the specified index */\n",
        "\tpublic E get(int index);\n",
        "\n",
        "\t/** Return the index of the first matching element in this list.\n",
        "\t *  Return -1 if no match. */\n",
        "\tpublic int indexOf(E e);\n",
        "\n",
        "\t/** Return true if this list doesn't contain any elements */\n",
        "\tpublic boolean isEmpty();\n",
        "\n",
        "\t/** Return the index of the last matching element in this list\n",
        "\t * Return -1 if no match. */\n",
        "\tpublic int lastIndexOf(E e);\n",
        "\n",
        "\t/** Remove the first occurrence of the element e from this list.\n",
        "\t *  Shift any subsequent elements to the left.\n",
        "\t *  Return true if the element is removed. */\n",
        "\tpublic boolean remove(E e);\n",
        "\n",
        "\t/** Remove the element at the specified postion in this list.\n",
        "\t *  Shift any subsequent element to the left\n",
        "\t *  Return the element that was removed from the list. */\n",
        "\tpublic E remove(int index);\n",
        "\n",
        "\t/** Replace the element at the specified position in this list\n",
        "\t * with the specified element and return the old element. */\n",
        "\tpublic Object set(int index, E e);\n",
        "\n",
        "\t/** Return the number of elements in this list */\n",
        "\tpublic int size();\n",
        "\n",
        "\t/** Adds the elements in otherList to this list.\n",
        "\t  * Returns true if this list changed as a result of the call */\n",
        "\tpublic boolean addAll(MyList<E> otherList);\n",
        "\n",
        "\t/** Removes all the elemants in otherList from this list\n",
        "\t  * Returns true if this list changed as a result of the call */\n",
        "\tpublic boolean removeAll(MyList<E> otherList);\n",
        "\n",
        "\t/** Retains the elements in this list that are also in otherList\n",
        "\t  * Returns true if this list changed as a result of the call */\n",
        "\tpublic boolean retainAll(MyList<E> otherList);\n",
        "}"
      ],
      "metadata": {
        "id": "weA5UQq27QM2"
      },
      "execution_count": 216,
      "outputs": []
    },
    {
      "cell_type": "code",
      "source": [
        "// MyArrayList.java"
      ],
      "metadata": {
        "id": "sawHBnqZ3QWS"
      },
      "execution_count": null,
      "outputs": []
    },
    {
      "cell_type": "code",
      "source": [
        "//"
      ],
      "metadata": {
        "id": "U67f6jDI4uaf"
      },
      "execution_count": null,
      "outputs": []
    },
    {
      "cell_type": "code",
      "source": [
        "// TestMyArrayList.java"
      ],
      "metadata": {
        "id": "Aw7iUYeW4uFf"
      },
      "execution_count": null,
      "outputs": []
    },
    {
      "cell_type": "markdown",
      "source": [
        "## Listas enlazadas\n",
        "*Una lista enlazada se implementa utilizando una estructura enlazada.*\n",
        "\n",
        "Dado que `MyArrayList` se implementa utilizando un arreglo, los métodos `get(int índice)` y `set(int índice, E e)` para acceder y modificar un elemento a través de un índice y el método `add(E e)` para añadir un elemento al final de la lista son eficientes. Sin embargo, los métodos `add(int índice, E e)` y `remove(int índice)` son ineficientes porque requieren desplazar un número potencialmente grande de elementos. Puede utilizar una estructura enlazada para implementar una lista para mejorar la eficiencia a la hora de añadir y eliminar un elemento al principio de una lista.\n",
        "\n",
        "Capítulo 24.4 del libro guia."
      ],
      "metadata": {
        "id": "dXp-8oHEyxGB"
      }
    },
    {
      "cell_type": "markdown",
      "source": [
        "## Node\n",
        "\n",
        "En una lista enlazada, cada elemento está contenido en un objeto, llamado nodo. Cuando se añade un nuevo elemento a la lista, se crea un nodo para contenerlo. Cada nodo está enlazado con su siguiente vecino, como se muestra en la Figura 24.7.\n",
        "\n",
        "![Figure 2.15](https://raw.githubusercontent.com/saguileran/ETITC-2024-2/main/DataStrucutre/img/Figure24.7.png)\n",
        "\n",
        "Un nodo puede crearse a partir de una clase definida como sigue:"
      ],
      "metadata": {
        "id": "GLegfymJuYG7"
      }
    },
    {
      "cell_type": "code",
      "source": [
        "class Node<E> { // create a generic\n",
        "  E element;\n",
        "  Node<E> next;\n",
        " public Node(E e) {\n",
        "    element = e;\n",
        "  }\n",
        " }\n",
        "\n",
        "Node test_Node = new Node(\"asd\");\n",
        "System.out.println(test_Node.element);\n",
        "System.out.println(test_Node.next);"
      ],
      "metadata": {
        "colab": {
          "base_uri": "https://localhost:8080/"
        },
        "id": "JDLBrB7X9n9S",
        "outputId": "6c7ebcf1-6156-4f5e-e785-010a2da80064"
      },
      "execution_count": 246,
      "outputs": [
        {
          "output_type": "stream",
          "name": "stdout",
          "text": [
            "asd\n",
            "null\n"
          ]
        }
      ]
    },
    {
      "cell_type": "markdown",
      "source": [
        " **Paso 1:** Declara la cabeza y la cola."
      ],
      "metadata": {
        "id": "frv3oqly-cra"
      }
    },
    {
      "cell_type": "code",
      "source": [
        "Node<String> head = null;\n",
        "Node<String> tail = null;\n",
        "System.out.println(head);"
      ],
      "metadata": {
        "colab": {
          "base_uri": "https://localhost:8080/"
        },
        "id": "hqOlSuu_-O3J",
        "outputId": "bb42f4c7-dbfd-493d-a087-c335cca69158"
      },
      "execution_count": 253,
      "outputs": [
        {
          "output_type": "stream",
          "name": "stdout",
          "text": [
            "null\n"
          ]
        }
      ]
    },
    {
      "cell_type": "markdown",
      "source": [
        "**Paso 2:**\n",
        "Cree el primer nodo y añádalo a la lista, como se muestra en la Figura 24.8. Después de insertar el primer nodo en la lista, head y tail apuntan a este nodo.\n",
        "![Figure 2.15](https://raw.githubusercontent.com/saguileran/ETITC-2024-2/main/DataStrucutre/img/Figure24.8.png)"
      ],
      "metadata": {
        "id": "zsX2X1m1-hFF"
      }
    },
    {
      "cell_type": "code",
      "source": [
        " head = new Node<>(\"Chicago\");\n",
        " tail = head;"
      ],
      "metadata": {
        "id": "zU97u5tA-78I"
      },
      "execution_count": 258,
      "outputs": []
    },
    {
      "cell_type": "markdown",
      "source": [
        "**Paso 3:** Cree el segundo nodo y añádalo a la lista, como se muestra en la Figura 24.9a. Para añadir el segundo nodo a la lista, enlace el primer nodo con el nuevo nodo. El nuevo nodo es ahora el nodo cola, por lo que debe mover la cola para que apunte a este nuevo nodo, como se muestra en la Figura 24.9b.\n",
        "\n",
        "![Figure 2.15](https://raw.githubusercontent.com/saguileran/ETITC-2024-2/main/DataStrucutre/img/Figure24.9.png)\n",
        "\n",
        "Agrega y prueba el código de la imagen."
      ],
      "metadata": {
        "id": "D_wCzKuhwLFU"
      }
    },
    {
      "cell_type": "code",
      "source": [
        "// add code"
      ],
      "metadata": {
        "id": "NoJ9MHj7_dSE"
      },
      "execution_count": null,
      "outputs": []
    },
    {
      "cell_type": "markdown",
      "source": [
        "**Paso 4:** Cree el tercer nodo y añádalo a la lista, como se muestra en la Figura 24.10a. Para añadir el nuevo nodo a la lista, enlace el último nodo de la lista con el nuevo nodo. El nuevo El nuevo nodo es ahora el nodo de cola, por lo que debe mover la cola para que apunte a este nuevo nodo, como se muestra en la Figura 24.10b.\n",
        "\n",
        "![Figure 2.15](https://raw.githubusercontent.com/saguileran/ETITC-2024-2/main/DataStrucutre/img/Figure24.10.png)\n",
        "\n",
        "Agrega y prueba el código de la imagen."
      ],
      "metadata": {
        "id": "D8AcPsZf_dZw"
      }
    },
    {
      "cell_type": "code",
      "source": [
        "// add code"
      ],
      "metadata": {
        "id": "8UIXAVWQ_dpG"
      },
      "execution_count": null,
      "outputs": []
    },
    {
      "cell_type": "markdown",
      "source": [
        "Cada nodo contiene el elemento y un campo de datos llamado next que apunta al siguiente elemento. Si el nodo es el último de la lista, su campo de datos puntero next contiene el valor null. Puede utilizar esta propiedad para detectar el último nodo. Por ejemplo, puede escribir el siguiente bucle para recorrer  todos los nodos de la lista:"
      ],
      "metadata": {
        "id": "et4Rdy28_xP_"
      }
    },
    {
      "cell_type": "code",
      "source": [
        "Node<E> current = head;\n",
        "while (current != null) {\n",
        "  System.out.println(current.element);\n",
        "  current = current.next;\n",
        "}"
      ],
      "metadata": {
        "id": "hWC6F0b5_z54"
      },
      "execution_count": 269,
      "outputs": []
    },
    {
      "cell_type": "markdown",
      "source": [
        "La variable `current` apunta inicialmente al primer nodo de la lista (línea 1). En el bucle, se recupera el elemento del nodo actual (línea 3) y luego `current` apunta al siguiente nodo (línea 4).  El bucle continúa hasta que el nodo actual es `null`.\n",
        "\n",
        "Finalmente la actividad para casa es implementar y revisar los códigos del capítulo **24.4.3 Implementing MyLinkedList**."
      ],
      "metadata": {
        "id": "An56pipH_-lK"
      }
    },
    {
      "cell_type": "markdown",
      "source": [
        "## Referencias\n",
        "\n",
        "- [Intro-to-Java-Programming](https://github.com/jsquared21/Intro-to-Java-Programming/tree/master)\n",
        "- Y. Daniel Liang. \"*Introduction to Java Programming and Data Structures, Comprehensive Version*\". Addison Wesley. Edición 12 (2019). Capítulo 9.5, página 355.\n",
        "- Koffman, Elliot B.; Wolfgang, Paul A. T.\"*Data structures : abstraction and design using Java*\". Wiley. Tercera edición (2016). Capítulo 2.5, página 101.\n",
        "  \n",
        "- James T. Streib,Takako Soma. \"*Guide to Data Structures: A Concise Introduction Using Java*\". Springer International Publishing. Primera edición (2017). Capítulo 5, página 120."
      ],
      "metadata": {
        "id": "Or1WTJPor6y8"
      }
    }
  ]
}